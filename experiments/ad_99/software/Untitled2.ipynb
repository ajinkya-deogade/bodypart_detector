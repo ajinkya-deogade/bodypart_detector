{
 "cells": [
  {
   "cell_type": "code",
   "execution_count": 1,
   "metadata": {
    "ExecuteTime": {
     "end_time": "2018-08-09T13:31:22.434000Z",
     "start_time": "2018-08-09T13:31:21.325000Z"
    }
   },
   "outputs": [],
   "source": [
    "#Import libraries:\n",
    "import pandas as pd\n",
    "import numpy as np\n",
    "import xgboost as xgb\n",
    "from xgboost.sklearn import XGBClassifier\n",
    "from sklearn.metrics import accuracy_score, roc_auc_score\n",
    "from sklearn.model_selection import GridSearchCV, train_test_split\n",
    "import re\n",
    "import os\n",
    "import pandas as pd\n",
    "from tqdm import tqdm_notebook\n",
    "\n",
    "import matplotlib.pylab as plt\n",
    "\n",
    "project_dir=\"G:/My Drive/CRG_Dropbox/AljoComputer/Temp\"\n",
    "dir_keypoints=\"../expts/KeypointsAndDescriptors/validKeyPoints\"\n",
    "dir_descriptors=\"../expts/KeypointsAndDescriptors/descriptors\"\n",
    "\n",
    "def modelfit(alg, dtrain, train_labels, useTrainCV=True, cv_folds=5, early_stopping_rounds=50):\n",
    "    \n",
    "    if useTrainCV:\n",
    "        xgb_param = alg.get_xgb_params()\n",
    "        xgtrain = xgb.DMatrix(dtrain, label=train_labels)\n",
    "        cvresult = xgb.cv(xgb_param, xgtrain, num_boost_round=alg.get_params()['n_estimators'], nfold=cv_folds,\n",
    "                          metrics='auc', early_stopping_rounds=early_stopping_rounds, verbose_eval=5)\n",
    "        alg.set_params(n_estimators=cvresult.shape[0])\n",
    "    \n",
    "    #Fit the algorithm on the data\n",
    "    alg.fit(dtrain, train_labels, eval_metric='auc')\n",
    "\n",
    "    #Predict training set:\n",
    "    dtrain_predictions = alg.predict(dtrain)\n",
    "    dtrain_predprob = alg.predict_proba(dtrain)[:,1]\n",
    "        \n",
    "    #Print model report:\n",
    "    print \"\\nModel Report\"\n",
    "    print \"Accuracy : %.4g\" % accuracy_score(train_labels, dtrain_predictions)\n",
    "    print \"AUC Score (Train): %f\" % roc_auc_score(train_labels, dtrain_predprob)\n",
    "                    \n",
    "    feat_imp = pd.Series(alg.booster().get_fscore()).sort_values(ascending=False)\n",
    "    feat_imp.plot(kind='bar', title='Feature Importances')\n",
    "    plt.ylabel('Feature Importance Score')"
   ]
  },
  {
   "cell_type": "code",
   "execution_count": 2,
   "metadata": {
    "ExecuteTime": {
     "end_time": "2018-08-09T13:31:57.055000Z",
     "start_time": "2018-08-09T13:31:22.442000Z"
    }
   },
   "outputs": [
    {
     "name": "stdout",
     "output_type": "stream",
     "text": [
      "len(all_annotations): 2613\n",
      "len(descs): 2613\n"
     ]
    }
   ],
   "source": [
    "annotation_list = '../expts/annotation_list'\n",
    "all_annotations = []\n",
    "with open(annotation_list) as test_list:\n",
    "    for annotation_file in test_list:\n",
    "        annotation_file = project_dir + re.sub(\".*/20180417_BG57_Midpoint_200micron_30fps/\", \"/\", annotation_file.strip())\n",
    "        with open(annotation_file) as fin_annotation:\n",
    "            annotation = json.load(fin_annotation)\n",
    "            all_annotations.extend(annotation[\"Annotations\"])\n",
    "\n",
    "print \"len(all_annotations):\", len(all_annotations)\n",
    "\n",
    "gt = pd.DataFrame([])\n",
    "descs = []\n",
    "for ind, annotation in enumerate(all_annotations):\n",
    "    parent, file_name = os.path.split(annotation['FrameFile'])\n",
    "    file_name = os.path.splitext(file_name)[0]\n",
    "    _, parent_name = os.path.split(parent)\n",
    "    gt.loc[ind, 'FrameIndex'] = int(annotation['FrameIndexVideo'])\n",
    "    gt.loc[ind, 'FileName'] = str(file_name.strip())\n",
    "    gt.loc[ind, 'ParentName'] = str(parent_name.strip())\n",
    "    for bp in annotation['FrameValueCoordinates']:\n",
    "        if bp['Name'] == 'LeftDorsalOrgan':\n",
    "            if (bp['Value']['x_coordinate'] != -1) and (bp['Value']['y_coordinate'] != -1):\n",
    "                gt.loc[ind, 'LeftDorsalOrgan'] = 1\n",
    "            else:\n",
    "                gt.loc[ind, 'LeftDorsalOrgan'] = 0\n",
    "        elif bp['Name'] == 'RightDorsalOrgan':\n",
    "            if (bp['Value']['x_coordinate'] != -1) and (bp['Value']['y_coordinate'] != -1):\n",
    "                gt.loc[ind, 'RightDorsalOrgan'] = 1\n",
    "            else:\n",
    "                gt.loc[ind, 'RightDorsalOrgan'] = 0\n",
    "    desc_file = os.path.join(dir_descriptors, str(parent_name.strip()), str(file_name.strip() + '.csv'))\n",
    "    try:\n",
    "        temp = pd.read_csv(desc_file, sep='\\t', header=None)\n",
    "        descs.append(temp.values)\n",
    "    except:\n",
    "        temp = pd.DataFrame(np.zeros((1, 128)))\n",
    "        descs.append(temp.values)\n",
    "        continue\n",
    "\n",
    "print \"len(descs):\", len(descs)"
   ]
  },
  {
   "cell_type": "code",
   "execution_count": 3,
   "metadata": {
    "ExecuteTime": {
     "end_time": "2018-08-09T13:33:58.238000Z",
     "start_time": "2018-08-09T13:31:57.059000Z"
    }
   },
   "outputs": [
    {
     "data": {
      "application/vnd.jupyter.widget-view+json": {
       "model_id": "b6b0ddc684e843b1b4cd97a98d248c38",
       "version_major": 2,
       "version_minor": 0
      },
      "text/plain": [
       "HBox(children=(IntProgress(value=0, max=1829), HTML(value=u'')))"
      ]
     },
     "metadata": {},
     "output_type": "display_data"
    },
    {
     "name": "stdout",
     "output_type": "stream",
     "text": [
      "\n"
     ]
    }
   ],
   "source": [
    "bp = 'LeftDorsalOrgan'\n",
    "X = gt.index.values\n",
    "y = gt.loc[:, bp]\n",
    "train_idx, test_idx, train_labs_idx, test_labs_idx = train_test_split(X, y, test_size=0.30, random_state=42)\n",
    "\n",
    "train_desc = np.zeros((0,128))\n",
    "train_labels = np.zeros((0,1))\n",
    "for i in tqdm_notebook(train_idx):\n",
    "    train_desc = np.r_[train_desc, descs[i]]\n",
    "    train_labels = np.r_[train_labels, np.tile(gt.loc[i, bp], (np.shape(descs[i])[0], 1))]\n"
   ]
  },
  {
   "cell_type": "code",
   "execution_count": 5,
   "metadata": {
    "ExecuteTime": {
     "end_time": "2018-08-09T15:40:04.282000Z",
     "start_time": "2018-08-09T13:34:05.971000Z"
    },
    "run_control": {
     "marked": true
    },
    "scrolled": false
   },
   "outputs": [
    {
     "name": "stdout",
     "output_type": "stream",
     "text": [
      "[0]\ttrain-auc:0.729408+0.00144017\ttest-auc:0.707167+0.00171519\n",
      "[5]\ttrain-auc:0.833186+0.00142919\ttest-auc:0.775956+0.00341134\n",
      "[10]\ttrain-auc:0.86946+0.00153207\ttest-auc:0.792479+0.00223852\n",
      "[15]\ttrain-auc:0.894249+0.00273728\ttest-auc:0.802551+0.00115865\n",
      "[20]\ttrain-auc:0.912085+0.00192918\ttest-auc:0.80976+0.00164427\n",
      "[25]\ttrain-auc:0.92765+0.00178556\ttest-auc:0.815294+0.00124614\n",
      "[30]\ttrain-auc:0.939601+0.00131596\ttest-auc:0.819772+0.00160356\n",
      "[35]\ttrain-auc:0.949537+0.0015553\ttest-auc:0.82358+0.00187074\n",
      "[40]\ttrain-auc:0.957722+0.00198836\ttest-auc:0.826299+0.00158079\n",
      "[45]\ttrain-auc:0.964615+0.00179876\ttest-auc:0.829292+0.00156021\n",
      "[50]\ttrain-auc:0.970696+0.00171239\ttest-auc:0.831865+0.00181791\n",
      "[55]\ttrain-auc:0.97615+0.00173416\ttest-auc:0.834175+0.00195443\n",
      "[60]\ttrain-auc:0.980289+0.00169134\ttest-auc:0.835886+0.00161277\n",
      "[65]\ttrain-auc:0.984022+0.00159539\ttest-auc:0.837298+0.00138476\n",
      "[70]\ttrain-auc:0.987149+0.00113784\ttest-auc:0.839345+0.00179286\n",
      "[75]\ttrain-auc:0.989853+0.00105427\ttest-auc:0.840932+0.00182824\n",
      "[80]\ttrain-auc:0.991999+0.000952947\ttest-auc:0.842683+0.00179814\n",
      "[85]\ttrain-auc:0.993914+0.000740528\ttest-auc:0.845047+0.00154058\n",
      "[90]\ttrain-auc:0.995239+0.000657922\ttest-auc:0.84668+0.0014359\n",
      "[95]\ttrain-auc:0.996449+0.000467789\ttest-auc:0.848079+0.00118781\n",
      "[100]\ttrain-auc:0.997441+0.000369697\ttest-auc:0.84989+0.00134427\n",
      "[105]\ttrain-auc:0.998254+0.000250379\ttest-auc:0.850984+0.00120101\n",
      "[110]\ttrain-auc:0.998771+0.000174534\ttest-auc:0.852211+0.00129067\n",
      "[115]\ttrain-auc:0.999191+0.000121598\ttest-auc:0.853623+0.00126064\n",
      "[120]\ttrain-auc:0.999466+8.27575e-05\ttest-auc:0.854776+0.00121303\n",
      "[125]\ttrain-auc:0.999668+7.25909e-05\ttest-auc:0.856175+0.00137663\n",
      "[130]\ttrain-auc:0.999797+4.13957e-05\ttest-auc:0.857083+0.00118555\n",
      "[135]\ttrain-auc:0.999893+2.00739e-05\ttest-auc:0.85799+0.00125422\n",
      "[140]\ttrain-auc:0.999944+1.48135e-05\ttest-auc:0.85916+0.00122831\n",
      "[145]\ttrain-auc:0.999968+1.10272e-05\ttest-auc:0.860179+0.00109894\n",
      "[150]\ttrain-auc:0.999982+6.36867e-06\ttest-auc:0.861125+0.00125758\n",
      "[155]\ttrain-auc:0.999993+3.92938e-06\ttest-auc:0.862182+0.00123299\n",
      "[160]\ttrain-auc:0.999996+3.92938e-06\ttest-auc:0.863207+0.00124318\n",
      "[165]\ttrain-auc:0.999998+2.09762e-06\ttest-auc:0.864146+0.00130103\n",
      "[170]\ttrain-auc:0.999999+1.09545e-06\ttest-auc:0.865149+0.00117008\n",
      "[175]\ttrain-auc:1+0\ttest-auc:0.865958+0.00138293\n",
      "[180]\ttrain-auc:1+0\ttest-auc:0.866788+0.00144362\n",
      "[185]\ttrain-auc:1+0\ttest-auc:0.867783+0.00141144\n",
      "[190]\ttrain-auc:1+0\ttest-auc:0.868437+0.00138707\n",
      "[195]\ttrain-auc:1+0\ttest-auc:0.869198+0.00148737\n",
      "[200]\ttrain-auc:1+0\ttest-auc:0.869806+0.00130628\n",
      "[205]\ttrain-auc:1+0\ttest-auc:0.870515+0.00139955\n",
      "[210]\ttrain-auc:1+0\ttest-auc:0.8712+0.00140616\n",
      "[215]\ttrain-auc:1+0\ttest-auc:0.871905+0.00143489\n",
      "[220]\ttrain-auc:1+0\ttest-auc:0.872595+0.00139284\n",
      "[225]\ttrain-auc:1+0\ttest-auc:0.873213+0.00148271\n",
      "[230]\ttrain-auc:1+0\ttest-auc:0.873804+0.00149794\n",
      "[235]\ttrain-auc:1+0\ttest-auc:0.874535+0.00148275\n",
      "[240]\ttrain-auc:1+0\ttest-auc:0.875143+0.0015102\n",
      "[245]\ttrain-auc:1+0\ttest-auc:0.875738+0.0015896\n",
      "[250]\ttrain-auc:1+0\ttest-auc:0.876387+0.00162257\n",
      "[255]\ttrain-auc:1+0\ttest-auc:0.877056+0.00170045\n",
      "[260]\ttrain-auc:1+0\ttest-auc:0.877609+0.0016823\n",
      "[265]\ttrain-auc:1+0\ttest-auc:0.878216+0.00159016\n",
      "[270]\ttrain-auc:1+0\ttest-auc:0.878694+0.00156322\n",
      "[275]\ttrain-auc:1+0\ttest-auc:0.879191+0.00156376\n",
      "[280]\ttrain-auc:1+0\ttest-auc:0.879688+0.00168796\n",
      "[285]\ttrain-auc:1+0\ttest-auc:0.880264+0.00167611\n",
      "[290]\ttrain-auc:1+0\ttest-auc:0.880666+0.00174991\n",
      "[295]\ttrain-auc:1+0\ttest-auc:0.881236+0.00180481\n",
      "[300]\ttrain-auc:1+0\ttest-auc:0.88173+0.00178706\n",
      "[305]\ttrain-auc:1+0\ttest-auc:0.88218+0.00181407\n",
      "[310]\ttrain-auc:1+0\ttest-auc:0.882634+0.00182677\n",
      "[315]\ttrain-auc:1+0\ttest-auc:0.882899+0.0018302\n",
      "[320]\ttrain-auc:1+0\ttest-auc:0.883344+0.00177016\n",
      "[325]\ttrain-auc:1+0\ttest-auc:0.883655+0.00178994\n",
      "[330]\ttrain-auc:1+0\ttest-auc:0.883942+0.00174702\n",
      "[335]\ttrain-auc:1+0\ttest-auc:0.884289+0.00164167\n",
      "[340]\ttrain-auc:1+0\ttest-auc:0.884603+0.00159942\n",
      "[345]\ttrain-auc:1+0\ttest-auc:0.884986+0.00160556\n",
      "[350]\ttrain-auc:1+0\ttest-auc:0.885384+0.001649\n",
      "[355]\ttrain-auc:1+0\ttest-auc:0.885692+0.00165095\n",
      "[360]\ttrain-auc:1+0\ttest-auc:0.885997+0.00164915\n",
      "[365]\ttrain-auc:1+0\ttest-auc:0.886284+0.0016275\n",
      "[370]\ttrain-auc:1+0\ttest-auc:0.886518+0.00155885\n",
      "[375]\ttrain-auc:1+0\ttest-auc:0.886848+0.00155884\n",
      "[380]\ttrain-auc:1+0\ttest-auc:0.887061+0.00158661\n",
      "[385]\ttrain-auc:1+0\ttest-auc:0.88738+0.00164574\n",
      "[390]\ttrain-auc:1+0\ttest-auc:0.887639+0.00164023\n",
      "[395]\ttrain-auc:1+0\ttest-auc:0.887886+0.00162233\n",
      "[400]\ttrain-auc:1+0\ttest-auc:0.888179+0.00164914\n",
      "[405]\ttrain-auc:1+0\ttest-auc:0.888471+0.00161715\n",
      "[410]\ttrain-auc:1+0\ttest-auc:0.888678+0.0016598\n",
      "[415]\ttrain-auc:1+0\ttest-auc:0.888937+0.00163678\n",
      "[420]\ttrain-auc:1+0\ttest-auc:0.889169+0.00163587\n",
      "[425]\ttrain-auc:1+0\ttest-auc:0.889309+0.00163903\n",
      "[430]\ttrain-auc:1+0\ttest-auc:0.889477+0.00164981\n",
      "[435]\ttrain-auc:1+0\ttest-auc:0.889693+0.00158997\n",
      "[440]\ttrain-auc:1+0\ttest-auc:0.889921+0.0015946\n",
      "[445]\ttrain-auc:1+0\ttest-auc:0.890186+0.0015516\n",
      "[450]\ttrain-auc:1+0\ttest-auc:0.890383+0.00151689\n",
      "[455]\ttrain-auc:1+0\ttest-auc:0.890544+0.00150732\n",
      "[460]\ttrain-auc:1+0\ttest-auc:0.890693+0.00159041\n",
      "[465]\ttrain-auc:1+0\ttest-auc:0.890938+0.00161108\n",
      "[470]\ttrain-auc:1+0\ttest-auc:0.891129+0.00156606\n",
      "[475]\ttrain-auc:1+0\ttest-auc:0.891307+0.00157082\n",
      "[480]\ttrain-auc:1+0\ttest-auc:0.891496+0.00154791\n",
      "[485]\ttrain-auc:1+0\ttest-auc:0.891655+0.00155541\n",
      "[490]\ttrain-auc:1+0\ttest-auc:0.891854+0.00155884\n",
      "[495]\ttrain-auc:1+0\ttest-auc:0.892059+0.00155264\n",
      "[500]\ttrain-auc:1+0\ttest-auc:0.892217+0.00152973\n",
      "[505]\ttrain-auc:1+0\ttest-auc:0.892368+0.0015072\n",
      "[510]\ttrain-auc:1+0\ttest-auc:0.89255+0.00150117\n",
      "[515]\ttrain-auc:1+0\ttest-auc:0.892707+0.00150279\n",
      "[520]\ttrain-auc:1+0\ttest-auc:0.892891+0.00151174\n",
      "[525]\ttrain-auc:1+0\ttest-auc:0.89306+0.00150857\n",
      "[530]\ttrain-auc:1+0\ttest-auc:0.893175+0.00147944\n",
      "[535]\ttrain-auc:1+0\ttest-auc:0.893329+0.00153788\n",
      "[540]\ttrain-auc:1+0\ttest-auc:0.893442+0.00150717\n",
      "[545]\ttrain-auc:1+0\ttest-auc:0.893566+0.00148673\n",
      "[550]\ttrain-auc:1+0\ttest-auc:0.893687+0.00147538\n",
      "[555]\ttrain-auc:1+0\ttest-auc:0.893821+0.00147641\n",
      "[560]\ttrain-auc:1+0\ttest-auc:0.893944+0.00143402\n",
      "[565]\ttrain-auc:1+0\ttest-auc:0.894034+0.00145906\n",
      "[570]\ttrain-auc:1+0\ttest-auc:0.894124+0.00140019\n",
      "[575]\ttrain-auc:1+0\ttest-auc:0.894241+0.00141217\n",
      "[580]\ttrain-auc:1+0\ttest-auc:0.894365+0.00139957\n",
      "[585]\ttrain-auc:1+0\ttest-auc:0.894499+0.0014359\n",
      "[590]\ttrain-auc:1+0\ttest-auc:0.894599+0.00146438\n",
      "[595]\ttrain-auc:1+0\ttest-auc:0.894727+0.00148133\n",
      "[600]\ttrain-auc:1+0\ttest-auc:0.894804+0.00145128\n",
      "[605]\ttrain-auc:1+0\ttest-auc:0.894916+0.00147537\n",
      "[610]\ttrain-auc:1+0\ttest-auc:0.895038+0.00149278\n",
      "[615]\ttrain-auc:1+0\ttest-auc:0.895158+0.0014946\n",
      "[620]\ttrain-auc:1+0\ttest-auc:0.895283+0.00149271\n",
      "[625]\ttrain-auc:1+0\ttest-auc:0.895385+0.00147734\n",
      "[630]\ttrain-auc:1+0\ttest-auc:0.895523+0.00145122\n",
      "[635]\ttrain-auc:1+0\ttest-auc:0.895575+0.00144241\n",
      "[640]\ttrain-auc:1+0\ttest-auc:0.895661+0.00144439\n",
      "[645]\ttrain-auc:1+0\ttest-auc:0.895764+0.00143661\n",
      "[650]\ttrain-auc:1+0\ttest-auc:0.895867+0.00142439\n",
      "[655]\ttrain-auc:1+0\ttest-auc:0.895958+0.00143543\n",
      "[660]\ttrain-auc:1+0\ttest-auc:0.896063+0.00143368\n",
      "[665]\ttrain-auc:1+0\ttest-auc:0.896125+0.0014435\n",
      "[670]\ttrain-auc:1+0\ttest-auc:0.8962+0.00146102\n",
      "[675]\ttrain-auc:1+0\ttest-auc:0.896306+0.00145688\n",
      "[680]\ttrain-auc:1+0\ttest-auc:0.896393+0.00145046\n",
      "[685]\ttrain-auc:1+0\ttest-auc:0.896481+0.0014526\n",
      "[690]\ttrain-auc:1+0\ttest-auc:0.89654+0.00144303\n",
      "[695]\ttrain-auc:1+0\ttest-auc:0.896612+0.00144553\n",
      "[700]\ttrain-auc:1+0\ttest-auc:0.896684+0.0014405\n",
      "[705]\ttrain-auc:1+0\ttest-auc:0.896747+0.00143809\n",
      "[710]\ttrain-auc:1+0\ttest-auc:0.896803+0.00144657\n",
      "[715]\ttrain-auc:1+0\ttest-auc:0.896884+0.00145948\n",
      "[720]\ttrain-auc:1+0\ttest-auc:0.896964+0.00144334\n",
      "[725]\ttrain-auc:1+0\ttest-auc:0.897046+0.00142206\n",
      "[730]\ttrain-auc:1+0\ttest-auc:0.897138+0.00143023\n",
      "[735]\ttrain-auc:1+0\ttest-auc:0.897232+0.00143671\n",
      "[740]\ttrain-auc:1+0\ttest-auc:0.89727+0.00144165\n",
      "[745]\ttrain-auc:1+0\ttest-auc:0.897336+0.00138931\n",
      "[750]\ttrain-auc:1+0\ttest-auc:0.897401+0.00141103\n",
      "[755]\ttrain-auc:1+0\ttest-auc:0.897441+0.00143719\n",
      "[760]\ttrain-auc:1+0\ttest-auc:0.897529+0.00141662\n",
      "[765]\ttrain-auc:1+0\ttest-auc:0.897605+0.00142937\n",
      "[770]\ttrain-auc:1+0\ttest-auc:0.897646+0.00142499\n",
      "[775]\ttrain-auc:1+0\ttest-auc:0.897727+0.00145652\n",
      "[780]\ttrain-auc:1+0\ttest-auc:0.897796+0.00145828\n"
     ]
    },
    {
     "name": "stdout",
     "output_type": "stream",
     "text": [
      "[785]\ttrain-auc:1+0\ttest-auc:0.897876+0.00147374\n",
      "[790]\ttrain-auc:1+0\ttest-auc:0.897902+0.00144667\n",
      "[795]\ttrain-auc:1+0\ttest-auc:0.89796+0.00146412\n",
      "[800]\ttrain-auc:1+0\ttest-auc:0.89802+0.00144556\n",
      "[805]\ttrain-auc:1+0\ttest-auc:0.898074+0.00145135\n",
      "[810]\ttrain-auc:1+0\ttest-auc:0.89814+0.00144651\n",
      "[815]\ttrain-auc:1+0\ttest-auc:0.898221+0.00145217\n",
      "[820]\ttrain-auc:1+0\ttest-auc:0.898271+0.00144338\n",
      "[825]\ttrain-auc:1+0\ttest-auc:0.898324+0.00144873\n",
      "[830]\ttrain-auc:1+0\ttest-auc:0.898411+0.00145741\n",
      "[835]\ttrain-auc:1+0\ttest-auc:0.898469+0.00144328\n",
      "[840]\ttrain-auc:1+0\ttest-auc:0.898503+0.00144039\n",
      "[845]\ttrain-auc:1+0\ttest-auc:0.898574+0.00145895\n",
      "[850]\ttrain-auc:1+0\ttest-auc:0.898635+0.00143888\n",
      "[855]\ttrain-auc:1+0\ttest-auc:0.898714+0.00144595\n",
      "[860]\ttrain-auc:1+0\ttest-auc:0.898774+0.0014318\n",
      "[865]\ttrain-auc:1+0\ttest-auc:0.898845+0.00141472\n",
      "[870]\ttrain-auc:1+0\ttest-auc:0.898899+0.00142556\n",
      "[875]\ttrain-auc:1+0\ttest-auc:0.898984+0.00139797\n",
      "[880]\ttrain-auc:1+0\ttest-auc:0.899041+0.00140527\n",
      "[885]\ttrain-auc:1+0\ttest-auc:0.899101+0.00142258\n",
      "[890]\ttrain-auc:1+0\ttest-auc:0.899165+0.00143858\n",
      "[895]\ttrain-auc:1+0\ttest-auc:0.899229+0.00145832\n",
      "[900]\ttrain-auc:1+0\ttest-auc:0.899286+0.00145064\n",
      "[905]\ttrain-auc:1+0\ttest-auc:0.899313+0.00143647\n",
      "[910]\ttrain-auc:1+0\ttest-auc:0.899347+0.00145093\n",
      "[915]\ttrain-auc:1+0\ttest-auc:0.899397+0.00143226\n",
      "[920]\ttrain-auc:1+0\ttest-auc:0.899449+0.0014027\n",
      "[925]\ttrain-auc:1+0\ttest-auc:0.899496+0.00141445\n",
      "[930]\ttrain-auc:1+0\ttest-auc:0.899504+0.00139749\n",
      "[935]\ttrain-auc:1+0\ttest-auc:0.899553+0.00136363\n",
      "[940]\ttrain-auc:1+0\ttest-auc:0.899589+0.00137052\n",
      "[945]\ttrain-auc:1+0\ttest-auc:0.899622+0.00138446\n",
      "[950]\ttrain-auc:1+0\ttest-auc:0.899629+0.00139779\n",
      "[955]\ttrain-auc:1+0\ttest-auc:0.899659+0.00141338\n",
      "[960]\ttrain-auc:1+0\ttest-auc:0.899727+0.00141311\n",
      "[965]\ttrain-auc:1+0\ttest-auc:0.899743+0.00140841\n",
      "[970]\ttrain-auc:1+0\ttest-auc:0.899792+0.00141221\n",
      "[975]\ttrain-auc:1+0\ttest-auc:0.899822+0.00138581\n",
      "[980]\ttrain-auc:1+0\ttest-auc:0.89986+0.00136694\n",
      "[985]\ttrain-auc:1+0\ttest-auc:0.899909+0.0013712\n",
      "[990]\ttrain-auc:1+0\ttest-auc:0.899978+0.00135614\n",
      "[995]\ttrain-auc:1+0\ttest-auc:0.900007+0.00133896\n",
      "[999]\ttrain-auc:1+0\ttest-auc:0.900035+0.00133819\n"
     ]
    },
    {
     "name": "stderr",
     "output_type": "stream",
     "text": [
      "C:\\Users\\Shaul\\Anaconda2\\lib\\site-packages\\sklearn\\preprocessing\\label.py:151: DeprecationWarning: The truth value of an empty array is ambiguous. Returning False, but in future this will result in an error. Use `array.size > 0` to check that an array is not empty.\n",
      "  if diff:\n"
     ]
    },
    {
     "name": "stdout",
     "output_type": "stream",
     "text": [
      "\n",
      "Model Report\n",
      "Accuracy : 1\n",
      "AUC Score (Train): 1.000000\n"
     ]
    },
    {
     "ename": "TypeError",
     "evalue": "'str' object is not callable",
     "output_type": "error",
     "traceback": [
      "\u001b[1;31m\u001b[0m",
      "\u001b[1;31mTypeError\u001b[0mTraceback (most recent call last)",
      "\u001b[1;32m<ipython-input-5-d87ffea200cd>\u001b[0m in \u001b[0;36m<module>\u001b[1;34m()\u001b[0m\n\u001b[0;32m     12\u001b[0m  seed=27)\n\u001b[0;32m     13\u001b[0m \u001b[1;33m\u001b[0m\u001b[0m\n\u001b[1;32m---> 14\u001b[1;33m \u001b[0mmodelfit\u001b[0m\u001b[1;33m(\u001b[0m\u001b[0mxgb1\u001b[0m\u001b[1;33m,\u001b[0m \u001b[0mtrain_desc\u001b[0m\u001b[1;33m,\u001b[0m \u001b[0mnp\u001b[0m\u001b[1;33m.\u001b[0m\u001b[0mravel\u001b[0m\u001b[1;33m(\u001b[0m\u001b[0mtrain_labels\u001b[0m\u001b[1;33m)\u001b[0m\u001b[1;33m)\u001b[0m\u001b[1;33m\u001b[0m\u001b[0m\n\u001b[0m",
      "\u001b[1;32m<ipython-input-1-0fac83d82d80>\u001b[0m in \u001b[0;36mmodelfit\u001b[1;34m(alg, dtrain, train_labels, useTrainCV, cv_folds, early_stopping_rounds)\u001b[0m\n\u001b[0;32m     38\u001b[0m     \u001b[1;32mprint\u001b[0m \u001b[1;34m\"AUC Score (Train): %f\"\u001b[0m \u001b[1;33m%\u001b[0m \u001b[0mroc_auc_score\u001b[0m\u001b[1;33m(\u001b[0m\u001b[0mtrain_labels\u001b[0m\u001b[1;33m,\u001b[0m \u001b[0mdtrain_predprob\u001b[0m\u001b[1;33m)\u001b[0m\u001b[1;33m\u001b[0m\u001b[0m\n\u001b[0;32m     39\u001b[0m \u001b[1;33m\u001b[0m\u001b[0m\n\u001b[1;32m---> 40\u001b[1;33m     \u001b[0mfeat_imp\u001b[0m \u001b[1;33m=\u001b[0m \u001b[0mpd\u001b[0m\u001b[1;33m.\u001b[0m\u001b[0mSeries\u001b[0m\u001b[1;33m(\u001b[0m\u001b[0malg\u001b[0m\u001b[1;33m.\u001b[0m\u001b[0mbooster\u001b[0m\u001b[1;33m(\u001b[0m\u001b[1;33m)\u001b[0m\u001b[1;33m.\u001b[0m\u001b[0mget_fscore\u001b[0m\u001b[1;33m(\u001b[0m\u001b[1;33m)\u001b[0m\u001b[1;33m)\u001b[0m\u001b[1;33m.\u001b[0m\u001b[0msort_values\u001b[0m\u001b[1;33m(\u001b[0m\u001b[0mascending\u001b[0m\u001b[1;33m=\u001b[0m\u001b[0mFalse\u001b[0m\u001b[1;33m)\u001b[0m\u001b[1;33m\u001b[0m\u001b[0m\n\u001b[0m\u001b[0;32m     41\u001b[0m     \u001b[0mfeat_imp\u001b[0m\u001b[1;33m.\u001b[0m\u001b[0mplot\u001b[0m\u001b[1;33m(\u001b[0m\u001b[0mkind\u001b[0m\u001b[1;33m=\u001b[0m\u001b[1;34m'bar'\u001b[0m\u001b[1;33m,\u001b[0m \u001b[0mtitle\u001b[0m\u001b[1;33m=\u001b[0m\u001b[1;34m'Feature Importances'\u001b[0m\u001b[1;33m)\u001b[0m\u001b[1;33m\u001b[0m\u001b[0m\n\u001b[0;32m     42\u001b[0m     \u001b[0mplt\u001b[0m\u001b[1;33m.\u001b[0m\u001b[0mylabel\u001b[0m\u001b[1;33m(\u001b[0m\u001b[1;34m'Feature Importance Score'\u001b[0m\u001b[1;33m)\u001b[0m\u001b[1;33m\u001b[0m\u001b[0m\n",
      "\u001b[1;31mTypeError\u001b[0m: 'str' object is not callable"
     ]
    }
   ],
   "source": [
    "xgb1 = XGBClassifier(\n",
    " learning_rate =1,\n",
    " n_estimators=1000,\n",
    " max_depth=8,\n",
    " min_child_weight=1,\n",
    " gamma=0,\n",
    " subsample=0.8,\n",
    " colsample_bytree=0.8,\n",
    " objective= 'binary:logistic',\n",
    " nthread=24,\n",
    " scale_pos_weight=1,\n",
    " seed=27)\n",
    "\n",
    "modelfit(xgb1, train_desc, np.ravel(train_labels))"
   ]
  },
  {
   "cell_type": "code",
   "execution_count": 6,
   "metadata": {
    "ExecuteTime": {
     "end_time": "2018-08-09T20:50:19.796000Z",
     "start_time": "2018-08-09T20:49:53.598000Z"
    }
   },
   "outputs": [
    {
     "name": "stderr",
     "output_type": "stream",
     "text": [
      "warning: LF will be replaced by CRLF in experiments/ad_100/software/20180731_get_bends_6.ipynb.\n",
      "The file will have its original line endings in your working directory.\n",
      "warning: LF will be replaced by CRLF in experiments/ad_99/software/Untitled-Copy3.ipynb.\n",
      "The file will have its original line endings in your working directory.\n",
      "warning: LF will be replaced by CRLF in experiments/ad_99/software/Untitled-Copy4.ipynb.\n",
      "The file will have its original line endings in your working directory.\n",
      "warning: LF will be replaced by CRLF in experiments/ad_99/software/Untitled-Copy5.ipynb.\n",
      "The file will have its original line endings in your working directory.\n",
      "warning: LF will be replaced by CRLF in experiments/ad_99/software/Untitled1.ipynb.\n",
      "The file will have its original line endings in your working directory.\n",
      "warning: LF will be replaced by CRLF in experiments/ad_99/software/Untitled2.ipynb.\n",
      "The file will have its original line endings in your working directory.\n"
     ]
    }
   ],
   "source": [
    "!git add -A"
   ]
  },
  {
   "cell_type": "code",
   "execution_count": null,
   "metadata": {
    "ExecuteTime": {
     "start_time": "2018-08-09T21:20:02.172Z"
    }
   },
   "outputs": [],
   "source": [
    "!git push"
   ]
  },
  {
   "cell_type": "code",
   "execution_count": null,
   "metadata": {},
   "outputs": [],
   "source": [
    "param_test1 = {'max_depth': [4, 8, 16, 32], 'min_child_weight': range(1, 7, 2)}\n",
    "gsearch1 = GridSearchCV(estimator = XGBClassifier(learning_rate =0.1, n_estimators=140, max_depth=5,\n",
    "                                                  min_child_weight=1, gamma=0, subsample=0.8, colsample_bytree=0.8,\n",
    "                                                  objective= 'binary:logistic', nthread=24, scale_pos_weight=1, seed=27), \n",
    "                        param_grid = param_test1, scoring='roc_auc', n_jobs=24, iid=False, cv=5)\n",
    "gsearch1.fit(train, train_labels)\n",
    "gsearch1.grid_scores_, gsearch1.best_params_, gsearch1.best_score_"
   ]
  },
  {
   "cell_type": "code",
   "execution_count": null,
   "metadata": {},
   "outputs": [],
   "source": [
    "param_test2 = {\n",
    " 'max_depth':[4,5,6],\n",
    " 'min_child_weight':[4,5,6]\n",
    "}\n",
    "gsearch2 = GridSearchCV(estimator = XGBClassifier( learning_rate=0.1, n_estimators=140, max_depth=5,\n",
    " min_child_weight=2, gamma=0, subsample=0.8, colsample_bytree=0.8,\n",
    " objective= 'binary:logistic', nthread=4, scale_pos_weight=1,seed=27), \n",
    " param_grid = param_test2, scoring='roc_auc',n_jobs=24,iid=False, cv=5)\n",
    "gsearch2.fit(train[predictors],train[target])\n",
    "gsearch2.grid_scores_, gsearch2.best_params_, gsearch2.best_score_"
   ]
  },
  {
   "cell_type": "code",
   "execution_count": null,
   "metadata": {},
   "outputs": [],
   "source": [
    "param_test2b = {\n",
    " 'min_child_weight':[6,8,10,12]\n",
    "}\n",
    "gsearch2b = GridSearchCV(estimator = XGBClassifier( learning_rate=0.1, n_estimators=140, max_depth=4,\n",
    " min_child_weight=2, gamma=0, subsample=0.8, colsample_bytree=0.8,\n",
    " objective= 'binary:logistic', nthread=4, scale_pos_weight=1,seed=27), \n",
    " param_grid = param_test2b, scoring='roc_auc',n_jobs=24,iid=False, cv=5)\n",
    "gsearch2b.fit(train[predictors],train[target])"
   ]
  },
  {
   "cell_type": "code",
   "execution_count": null,
   "metadata": {},
   "outputs": [],
   "source": [
    "modelfit(gsearch3.best_estimator_, train, predictors)\n",
    "gsearch2b.grid_scores_, gsearch2b.best_params_, gsearch2b.best_score_"
   ]
  },
  {
   "cell_type": "code",
   "execution_count": null,
   "metadata": {},
   "outputs": [],
   "source": [
    "param_test3 = {\n",
    " 'gamma':[i/10.0 for i in range(0,5)]\n",
    "}\n",
    "gsearch3 = GridSearchCV(estimator = XGBClassifier( learning_rate =0.1, n_estimators=140, max_depth=4,\n",
    " min_child_weight=6, gamma=0, subsample=0.8, colsample_bytree=0.8,\n",
    " objective= 'binary:logistic', nthread=4, scale_pos_weight=1,seed=27), \n",
    " param_grid = param_test3, scoring='roc_auc',n_jobs=24,iid=False, cv=5)\n",
    "gsearch3.fit(train[predictors],train[target])\n",
    "gsearch3.grid_scores_, gsearch3.best_params_, gsearch3.best_score_"
   ]
  },
  {
   "cell_type": "code",
   "execution_count": null,
   "metadata": {},
   "outputs": [],
   "source": [
    "xgb2 = XGBClassifier(\n",
    " learning_rate =0.1,\n",
    " n_estimators=1000,\n",
    " max_depth=4,\n",
    " min_child_weight=6,\n",
    " gamma=0,\n",
    " subsample=0.8,\n",
    " colsample_bytree=0.8,\n",
    " objective= 'binary:logistic',\n",
    " nthread=24,\n",
    " scale_pos_weight=1,\n",
    " seed=27)\n",
    "modelfit(xgb2, train, predictors)"
   ]
  },
  {
   "cell_type": "code",
   "execution_count": null,
   "metadata": {},
   "outputs": [],
   "source": [
    "param_test4 = {\n",
    " 'subsample':[i/10.0 for i in range(6,10)],\n",
    " 'colsample_bytree':[i/10.0 for i in range(6,10)]\n",
    "}\n",
    "gsearch4 = GridSearchCV(estimator = XGBClassifier( learning_rate =0.1, n_estimators=177, max_depth=4,\n",
    " min_child_weight=6, gamma=0, subsample=0.8, colsample_bytree=0.8,\n",
    " objective= 'binary:logistic', nthread=4, scale_pos_weight=1,seed=27), \n",
    " param_grid = param_test4, scoring='roc_auc',n_jobs=24,iid=False, cv=5)\n",
    "gsearch4.fit(train[predictors],train[target])\n",
    "gsearch4.grid_scores_, gsearch4.best_params_, gsearch4.best_score_"
   ]
  },
  {
   "cell_type": "code",
   "execution_count": null,
   "metadata": {},
   "outputs": [],
   "source": [
    "param_test5 = {\n",
    " 'subsample':[i/100.0 for i in range(75,90,5)],\n",
    " 'colsample_bytree':[i/100.0 for i in range(75,90,5)]\n",
    "}\n",
    "gsearch5 = GridSearchCV(estimator = XGBClassifier( learning_rate =0.1, n_estimators=177, max_depth=4,\n",
    " min_child_weight=6, gamma=0, subsample=0.8, colsample_bytree=0.8,\n",
    " objective= 'binary:logistic', nthread=4, scale_pos_weight=1,seed=27), \n",
    " param_grid = param_test5, scoring='roc_auc',n_jobs=24,iid=False, cv=5)\n",
    "gsearch5.fit(train[predictors],train[target])"
   ]
  },
  {
   "cell_type": "code",
   "execution_count": null,
   "metadata": {},
   "outputs": [],
   "source": []
  },
  {
   "cell_type": "code",
   "execution_count": null,
   "metadata": {},
   "outputs": [],
   "source": []
  },
  {
   "cell_type": "code",
   "execution_count": null,
   "metadata": {},
   "outputs": [],
   "source": []
  },
  {
   "cell_type": "code",
   "execution_count": null,
   "metadata": {},
   "outputs": [],
   "source": []
  }
 ],
 "metadata": {
  "kernelspec": {
   "display_name": "Python 2",
   "language": "python",
   "name": "python2"
  },
  "language_info": {
   "codemirror_mode": {
    "name": "ipython",
    "version": 2
   },
   "file_extension": ".py",
   "mimetype": "text/x-python",
   "name": "python",
   "nbconvert_exporter": "python",
   "pygments_lexer": "ipython2",
   "version": "2.7.15"
  }
 },
 "nbformat": 4,
 "nbformat_minor": 2
}
