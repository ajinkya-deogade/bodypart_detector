{
 "cells": [
  {
   "cell_type": "code",
   "execution_count": 1,
   "metadata": {
    "ExecuteTime": {
     "end_time": "2018-08-08T19:15:16.816000Z",
     "start_time": "2018-08-08T19:14:59.141000Z"
    },
    "code_folding": [
     17,
     23
    ]
   },
   "outputs": [
    {
     "name": "stderr",
     "output_type": "stream",
     "text": [
      "C:\\Users\\Shaul\\Anaconda2\\lib\\site-packages\\h5py\\__init__.py:36: FutureWarning: Conversion of the second argument of issubdtype from `float` to `np.floating` is deprecated. In future, it will be treated as `np.float64 == np.dtype(float).type`.\n",
      "  from ._conv import register_converters as _register_converters\n"
     ]
    }
   ],
   "source": [
    "import numpy as np\n",
    "import pandas as pd\n",
    "import os\n",
    "import matplotlib\n",
    "import matplotlib.pyplot as plt\n",
    "from matplotlib import cm\n",
    "from pyflann import *\n",
    "from sklearn.neighbors import NearestNeighbors\n",
    "from sklearn.metrics import roc_curve, auc\n",
    "import cv2\n",
    "import csv\n",
    "import re\n",
    "from sklearn.ensemble import RandomForestClassifier\n",
    "import json\n",
    "from tqdm import tqdm_notebook\n",
    "import seaborn as sns\n",
    "\n",
    "# %matplotlib notebook\n",
    "\n",
    "coordinate_header = ['FrameNumber', 'MouthHook_x', 'MouthHook_y', 'LeftMHhook_x', 'LeftMHhook_y',\n",
    "                     'RightMHhook_x', 'RightMHhook_y', 'LeftDorsalOrgan_x', 'LeftDorsalOrgan_y',\n",
    "                     'RightDorsalOrgan_x', 'RightDorsalOrgan_y', 'CenterBolwigOrgan_x', 'CenterBolwigOrgan_y',\n",
    "                     'LeftBolwigOrgan_x', 'LeftBolwigOrgan_y', 'RightBolwigOrgan_x', 'RightBolwigOrgan_y']\n",
    "\n",
    "distance_header = ['MouthHook', 'LeftMHhook',\n",
    "                   'RightMHhook', 'LeftDorsalOrgan', 'RightDorsalOrgan',\n",
    "                   'CenterBolwigOrgan', 'LeftBolwigOrgan', 'RightBolwigOrgan']\n",
    "\n",
    "project_dir=\"G:/My Drive/CRG_Dropbox/AljoComputer/Temp\"\n",
    "dir_keypoints=\"../expts/KeypointsAndDescriptors/validKeyPoints\"\n",
    "dir_descriptors=\"../expts/KeypointsAndDescriptors/descriptors\""
   ]
  },
  {
   "cell_type": "code",
   "execution_count": 2,
   "metadata": {
    "ExecuteTime": {
     "end_time": "2018-08-08T19:16:28.649000Z",
     "start_time": "2018-08-08T19:15:16.821000Z"
    }
   },
   "outputs": [
    {
     "name": "stdout",
     "output_type": "stream",
     "text": [
      "len(all_annotations): 2613\n",
      "len(descs): 2613\n"
     ]
    }
   ],
   "source": [
    "from pathlib import Path\n",
    "annotation_list = '../expts/annotation_list'\n",
    "all_annotations = []\n",
    "with open(annotation_list) as test_list:\n",
    "    for annotation_file in test_list:\n",
    "        annotation_file = project_dir + re.sub(\".*/20180417_BG57_Midpoint_200micron_30fps/\", \"/\", annotation_file.strip())\n",
    "        with open(annotation_file) as fin_annotation:\n",
    "            annotation = json.load(fin_annotation)\n",
    "            all_annotations.extend(annotation[\"Annotations\"])\n",
    "\n",
    "print \"len(all_annotations):\", len(all_annotations)\n",
    "\n",
    "gt = pd.DataFrame([])\n",
    "descs = []\n",
    "for ind, annotation in enumerate(all_annotations):\n",
    "    parent, file_name = os.path.split(annotation['FrameFile'])\n",
    "    file_name = os.path.splitext(file_name)[0]\n",
    "    _, parent_name = os.path.split(parent)\n",
    "    gt.loc[ind, 'FrameIndex'] = int(annotation['FrameIndexVideo'])\n",
    "    gt.loc[ind, 'FileName'] = str(file_name.strip())\n",
    "    gt.loc[ind, 'ParentName'] = str(parent_name.strip())\n",
    "    for bp in annotation['FrameValueCoordinates']:\n",
    "        if bp['Name'] == 'LeftDorsalOrgan':\n",
    "            if (bp['Value']['x_coordinate'] != -1) and (bp['Value']['y_coordinate'] != -1):\n",
    "                gt.loc[ind, 'LeftDorsalOrgan'] = 1\n",
    "            else:\n",
    "                gt.loc[ind, 'LeftDorsalOrgan'] = 0\n",
    "        elif bp['Name'] == 'RightDorsalOrgan':\n",
    "            if (bp['Value']['x_coordinate'] != -1) and (bp['Value']['y_coordinate'] != -1):\n",
    "                gt.loc[ind, 'RightDorsalOrgan'] = 1\n",
    "            else:\n",
    "                gt.loc[ind, 'RightDorsalOrgan'] = 0\n",
    "    desc_file = os.path.join(dir_descriptors, str(parent_name.strip()), str(file_name.strip() + '.csv'))\n",
    "    try:\n",
    "        temp = pd.read_csv(desc_file, sep='\\t', header=None)\n",
    "        descs.append(temp.values)\n",
    "    except:\n",
    "        temp = pd.DataFrame(np.zeros((1, 128)))\n",
    "        descs.append(temp.values)\n",
    "        continue\n",
    "\n",
    "print \"len(descs):\", len(descs)        "
   ]
  },
  {
   "cell_type": "code",
   "execution_count": 3,
   "metadata": {
    "ExecuteTime": {
     "end_time": "2018-08-08T19:37:56.638000Z",
     "start_time": "2018-08-08T19:16:28.654000Z"
    },
    "scrolled": false
   },
   "outputs": [
    {
     "name": "stdout",
     "output_type": "stream",
     "text": [
      "CrossVal Round 1\n",
      "Training.......\n"
     ]
    },
    {
     "data": {
      "application/vnd.jupyter.widget-view+json": {
       "model_id": "9db9fe4a02a0460f89f91c264defc958",
       "version_major": 2,
       "version_minor": 0
      },
      "text/plain": [
       "HBox(children=(IntProgress(value=0, max=2089), HTML(value=u'')))"
      ]
     },
     "metadata": {},
     "output_type": "display_data"
    },
    {
     "name": "stdout",
     "output_type": "stream",
     "text": [
      "\n",
      "Testing.......\n"
     ]
    },
    {
     "data": {
      "application/vnd.jupyter.widget-view+json": {
       "model_id": "a1666b45a70d49cb8eb22d7d65af5320",
       "version_major": 2,
       "version_minor": 0
      },
      "text/plain": [
       "HBox(children=(IntProgress(value=0, max=524), HTML(value=u'')))"
      ]
     },
     "metadata": {},
     "output_type": "display_data"
    },
    {
     "name": "stdout",
     "output_type": "stream",
     "text": [
      "\n",
      "CrossVal Round 2\n",
      "Training.......\n"
     ]
    },
    {
     "data": {
      "application/vnd.jupyter.widget-view+json": {
       "model_id": "9ee4b815da1e48b9bea26079acea5fb3",
       "version_major": 2,
       "version_minor": 0
      },
      "text/plain": [
       "HBox(children=(IntProgress(value=0, max=2090), HTML(value=u'')))"
      ]
     },
     "metadata": {},
     "output_type": "display_data"
    },
    {
     "name": "stdout",
     "output_type": "stream",
     "text": [
      "\n",
      "Testing.......\n"
     ]
    },
    {
     "data": {
      "application/vnd.jupyter.widget-view+json": {
       "model_id": "75fea30ec3024a788541c4df64d252ba",
       "version_major": 2,
       "version_minor": 0
      },
      "text/plain": [
       "HBox(children=(IntProgress(value=0, max=523), HTML(value=u'')))"
      ]
     },
     "metadata": {},
     "output_type": "display_data"
    },
    {
     "name": "stdout",
     "output_type": "stream",
     "text": [
      "\n",
      "CrossVal Round 3\n",
      "Training.......\n"
     ]
    },
    {
     "data": {
      "application/vnd.jupyter.widget-view+json": {
       "model_id": "dc8e0690caee4b6d9b07fcdb84b47ac4",
       "version_major": 2,
       "version_minor": 0
      },
      "text/plain": [
       "HBox(children=(IntProgress(value=0, max=2091), HTML(value=u'')))"
      ]
     },
     "metadata": {},
     "output_type": "display_data"
    },
    {
     "name": "stdout",
     "output_type": "stream",
     "text": [
      "\n",
      "Testing.......\n"
     ]
    },
    {
     "data": {
      "application/vnd.jupyter.widget-view+json": {
       "model_id": "582d1262e6d64e35bb26a77adf8f3f68",
       "version_major": 2,
       "version_minor": 0
      },
      "text/plain": [
       "HBox(children=(IntProgress(value=0, max=522), HTML(value=u'')))"
      ]
     },
     "metadata": {},
     "output_type": "display_data"
    },
    {
     "name": "stdout",
     "output_type": "stream",
     "text": [
      "\n",
      "CrossVal Round 4\n",
      "Training.......\n"
     ]
    },
    {
     "data": {
      "application/vnd.jupyter.widget-view+json": {
       "model_id": "42ff2bbcbd21451ab19b83a821d10b44",
       "version_major": 2,
       "version_minor": 0
      },
      "text/plain": [
       "HBox(children=(IntProgress(value=0, max=2091), HTML(value=u'')))"
      ]
     },
     "metadata": {},
     "output_type": "display_data"
    },
    {
     "name": "stdout",
     "output_type": "stream",
     "text": [
      "\n",
      "Testing.......\n"
     ]
    },
    {
     "data": {
      "application/vnd.jupyter.widget-view+json": {
       "model_id": "14aca11cae1b4abba705782cefa51ebb",
       "version_major": 2,
       "version_minor": 0
      },
      "text/plain": [
       "HBox(children=(IntProgress(value=0, max=522), HTML(value=u'')))"
      ]
     },
     "metadata": {},
     "output_type": "display_data"
    },
    {
     "name": "stdout",
     "output_type": "stream",
     "text": [
      "\n",
      "CrossVal Round 5\n",
      "Training.......\n"
     ]
    },
    {
     "data": {
      "application/vnd.jupyter.widget-view+json": {
       "model_id": "d369c41a00c6473b9bc1eac52c619627",
       "version_major": 2,
       "version_minor": 0
      },
      "text/plain": [
       "HBox(children=(IntProgress(value=0, max=2091), HTML(value=u'')))"
      ]
     },
     "metadata": {},
     "output_type": "display_data"
    },
    {
     "name": "stdout",
     "output_type": "stream",
     "text": [
      "\n",
      "Testing.......\n"
     ]
    },
    {
     "data": {
      "application/vnd.jupyter.widget-view+json": {
       "model_id": "a723eef3dab1433eb49413a46e07babe",
       "version_major": 2,
       "version_minor": 0
      },
      "text/plain": [
       "HBox(children=(IntProgress(value=0, max=522), HTML(value=u'')))"
      ]
     },
     "metadata": {},
     "output_type": "display_data"
    },
    {
     "name": "stdout",
     "output_type": "stream",
     "text": [
      "\n"
     ]
    },
    {
     "data": {
      "image/png": "[encoded data removed]",
      "text/plain": [
       "<Figure size 720x720 with 1 Axes>"
      ]
     },
     "metadata": {},
     "output_type": "display_data"
    }
   ],
   "source": [
    "from __future__ import print_function\n",
    "\n",
    "from sklearn.model_selection import train_test_split\n",
    "from sklearn.model_selection import StratifiedKFold\n",
    "from scipy import interp\n",
    "\n",
    "X = gt.index.values\n",
    "y = gt.loc[:, 'LeftDorsalOrgan']\n",
    "mean_fpr = np.linspace(0, 1, 100)\n",
    "tprs = []\n",
    "aucs = []\n",
    "cv = StratifiedKFold(n_splits=5)\n",
    "sns.set(style=\"whitegrid\", font_scale=2)\n",
    "fig, ax = plt.subplots(1, 1, figsize=(10, 10))\n",
    "\n",
    "## Best parameters based on gridSearch are 64 and 100\n",
    "# rf = RandomForestClassifier(max_depth=64, n_estimators=128, n_jobs=16)\n",
    "# rf = RandomForestClassifier(max_depth=32, n_estimators=64, n_jobs=16)\n",
    "# rf = RandomForestClassifier(max_depth=16, n_estimators=32, n_jobs=16)\n",
    "# rf = RandomForestClassifier(max_depth=8, n_estimators=16, n_jobs=16)\n",
    "# rf = RandomForestClassifier(max_depth=4, n_estimators=16, n_jobs=16)\n",
    "\n",
    "cnt = 0\n",
    "for train, test in cv.split(X, y):\n",
    "    print('CrossVal Round', cnt+1)\n",
    "    train_desc = np.zeros((0,128))\n",
    "    train_labels = np.zeros((0,1))\n",
    "    print('Training.......')\n",
    "    for i in tqdm_notebook(train):\n",
    "        train_desc = np.r_[train_desc, descs[i]]\n",
    "        train_labels = np.r_[train_labels, np.tile(gt.loc[i, 'LeftDorsalOrgan'], (np.shape(descs[i])[0], 1))]\n",
    "    rf.fit(train_desc, np.ravel(train_labels))\n",
    "    \n",
    "    print('Testing.......')\n",
    "    test_desc = np.zeros((0,128))\n",
    "    test_labels = np.zeros((0,1))\n",
    "    probas_ = []\n",
    "    for i in tqdm_notebook(test):\n",
    "        pred = rf.predict(descs[i])\n",
    "        probas_.append(np.mean(pred))\n",
    "        test_labels = np.r_[test_labels, np.reshape(np.array([gt.loc[i, 'LeftDorsalOrgan']]), (1,1))]\n",
    "\n",
    "    # Compute ROC curve and area the curve\n",
    "    fpr, tpr, thresholds = roc_curve(test_labels, np.array(probas_))\n",
    "    tprs.append(interp(mean_fpr, fpr, tpr))\n",
    "    tprs[-1][0] = 0.0\n",
    "    roc_auc = auc(fpr, tpr)\n",
    "    aucs.append(roc_auc)\n",
    "    plt.plot(fpr, tpr, lw=1, alpha=0.3, label='ROC fold %d (AUC = %0.2f)' % (cnt, roc_auc))\n",
    "    cnt += 1\n",
    "\n",
    "tprs_mat = np.array(tprs)\n",
    "tprs_mat.dump(\"tprs_mat_LDO_depth8.dat\")\n",
    "\n",
    "aucs_mat = np.array(aucs)\n",
    "aucs_mat.dump(\"aucs_mat_LDO_depth8.dat\")\n",
    "\n",
    "plt.plot([0, 1], [0, 1], linestyle='--', lw=2, color='r',\n",
    "         label='Luck', alpha=.8)\n",
    "\n",
    "mean_tpr = np.mean(tprs, axis=0)\n",
    "mean_tpr[-1] = 1.0\n",
    "mean_auc = auc(mean_fpr, mean_tpr)\n",
    "std_auc = np.std(aucs)\n",
    "plt.plot(mean_fpr, mean_tpr, color='b',\n",
    "         label=r'Mean ROC (AUC = %0.2f $\\pm$ %0.2f)' % (mean_auc, std_auc),\n",
    "         lw=2, alpha=.8)\n",
    "\n",
    "std_tpr = np.std(tprs, axis=0)\n",
    "tprs_upper = np.minimum(mean_tpr + std_tpr, 1)\n",
    "tprs_lower = np.maximum(mean_tpr - std_tpr, 0)\n",
    "plt.fill_between(mean_fpr, tprs_lower, tprs_upper, color='grey', alpha=.2,\n",
    "                 label=r'$\\pm$ 1 std. dev.')\n",
    "\n",
    "plt.xlim([-0.05, 1.05])\n",
    "plt.ylim([-0.05, 1.05])\n",
    "plt.xlabel('False Positive Rate')\n",
    "plt.ylabel('True Positive Rate')\n",
    "# plt.title('Receiver operating characteristic example')\n",
    "plt.legend(loc=\"lower right\", frameon=False)\n",
    "sns.despine()\n",
    "plt.axis('scaled')\n",
    "plt.savefig(\"CrossVal_ROC_10_Fold_LDO_depth8.png\", format='png', dpi=300, bbox_inches='tight')\n",
    "plt.savefig(\"CrossVal_ROC_10_Fold_LDO_depth8.pdf\", format='pdf', dpi=300, bbox_inches='tight')\n",
    "plt.show()"
   ]
  },
  {
   "cell_type": "code",
   "execution_count": 4,
   "metadata": {
    "ExecuteTime": {
     "end_time": "2018-08-08T19:59:41.946000Z",
     "start_time": "2018-08-08T19:37:56.748000Z"
    }
   },
   "outputs": [
    {
     "name": "stdout",
     "output_type": "stream",
     "text": [
      "CrossVal Round 1\n",
      "Training.......\n"
     ]
    },
    {
     "data": {
      "application/vnd.jupyter.widget-view+json": {
       "model_id": "19ed1693668049c98a16ddaf424dac11",
       "version_major": 2,
       "version_minor": 0
      },
      "text/plain": [
       "HBox(children=(IntProgress(value=0, max=2090), HTML(value=u'')))"
      ]
     },
     "metadata": {},
     "output_type": "display_data"
    },
    {
     "name": "stdout",
     "output_type": "stream",
     "text": [
      "\n",
      "Testing.......\n"
     ]
    },
    {
     "data": {
      "application/vnd.jupyter.widget-view+json": {
       "model_id": "9c1809bbebba4de7a880a9da12b38933",
       "version_major": 2,
       "version_minor": 0
      },
      "text/plain": [
       "HBox(children=(IntProgress(value=0, max=523), HTML(value=u'')))"
      ]
     },
     "metadata": {},
     "output_type": "display_data"
    },
    {
     "name": "stdout",
     "output_type": "stream",
     "text": [
      "\n",
      "CrossVal Round 2\n",
      "Training.......\n"
     ]
    },
    {
     "data": {
      "application/vnd.jupyter.widget-view+json": {
       "model_id": "e578dd432551403e98f5b79340b36441",
       "version_major": 2,
       "version_minor": 0
      },
      "text/plain": [
       "HBox(children=(IntProgress(value=0, max=2090), HTML(value=u'')))"
      ]
     },
     "metadata": {},
     "output_type": "display_data"
    },
    {
     "name": "stdout",
     "output_type": "stream",
     "text": [
      "\n",
      "Testing.......\n"
     ]
    },
    {
     "data": {
      "application/vnd.jupyter.widget-view+json": {
       "model_id": "a3fc1ae5f47d4e0a8c3d6acd57bc4b9e",
       "version_major": 2,
       "version_minor": 0
      },
      "text/plain": [
       "HBox(children=(IntProgress(value=0, max=523), HTML(value=u'')))"
      ]
     },
     "metadata": {},
     "output_type": "display_data"
    },
    {
     "name": "stdout",
     "output_type": "stream",
     "text": [
      "\n",
      "CrossVal Round 3\n",
      "Training.......\n"
     ]
    },
    {
     "data": {
      "application/vnd.jupyter.widget-view+json": {
       "model_id": "9536deb0d95c42b29e4dbebbe2319a13",
       "version_major": 2,
       "version_minor": 0
      },
      "text/plain": [
       "HBox(children=(IntProgress(value=0, max=2090), HTML(value=u'')))"
      ]
     },
     "metadata": {},
     "output_type": "display_data"
    },
    {
     "name": "stdout",
     "output_type": "stream",
     "text": [
      "\n",
      "Testing.......\n"
     ]
    },
    {
     "data": {
      "application/vnd.jupyter.widget-view+json": {
       "model_id": "12c3a791bb4c49188ae4598382dac5c5",
       "version_major": 2,
       "version_minor": 0
      },
      "text/plain": [
       "HBox(children=(IntProgress(value=0, max=523), HTML(value=u'')))"
      ]
     },
     "metadata": {},
     "output_type": "display_data"
    },
    {
     "name": "stdout",
     "output_type": "stream",
     "text": [
      "\n",
      "CrossVal Round 4\n",
      "Training.......\n"
     ]
    },
    {
     "data": {
      "application/vnd.jupyter.widget-view+json": {
       "model_id": "ceb5fbb5bb4f4aef904435b5dc92e77f",
       "version_major": 2,
       "version_minor": 0
      },
      "text/plain": [
       "HBox(children=(IntProgress(value=0, max=2091), HTML(value=u'')))"
      ]
     },
     "metadata": {},
     "output_type": "display_data"
    },
    {
     "name": "stdout",
     "output_type": "stream",
     "text": [
      "\n",
      "Testing.......\n"
     ]
    },
    {
     "data": {
      "application/vnd.jupyter.widget-view+json": {
       "model_id": "ccbdce1904b4429bafd518f5c1f0fec7",
       "version_major": 2,
       "version_minor": 0
      },
      "text/plain": [
       "HBox(children=(IntProgress(value=0, max=522), HTML(value=u'')))"
      ]
     },
     "metadata": {},
     "output_type": "display_data"
    },
    {
     "name": "stdout",
     "output_type": "stream",
     "text": [
      "\n",
      "CrossVal Round 5\n",
      "Training.......\n"
     ]
    },
    {
     "data": {
      "application/vnd.jupyter.widget-view+json": {
       "model_id": "383e37d427d64c99884dad59aa6b9caa",
       "version_major": 2,
       "version_minor": 0
      },
      "text/plain": [
       "HBox(children=(IntProgress(value=0, max=2091), HTML(value=u'')))"
      ]
     },
     "metadata": {},
     "output_type": "display_data"
    },
    {
     "name": "stdout",
     "output_type": "stream",
     "text": [
      "\n",
      "Testing.......\n"
     ]
    },
    {
     "data": {
      "application/vnd.jupyter.widget-view+json": {
       "model_id": "05db086b47b140c6965e2aaa877ada1f",
       "version_major": 2,
       "version_minor": 0
      },
      "text/plain": [
       "HBox(children=(IntProgress(value=0, max=522), HTML(value=u'')))"
      ]
     },
     "metadata": {},
     "output_type": "display_data"
    },
    {
     "name": "stdout",
     "output_type": "stream",
     "text": [
      "\n"
     ]
    },
    {
     "data": {
      "image/png": "[encoded data removed]",
      "text/plain": [
       "<Figure size 720x720 with 1 Axes>"
      ]
     },
     "metadata": {},
     "output_type": "display_data"
    }
   ],
   "source": [
    "from __future__ import print_function\n",
    "\n",
    "from sklearn.model_selection import train_test_split\n",
    "from sklearn.model_selection import StratifiedKFold\n",
    "from scipy import interp\n",
    "\n",
    "X = gt.index.values\n",
    "y = gt.loc[:, 'RightDorsalOrgan']\n",
    "mean_fpr = np.linspace(0, 1, 100)\n",
    "tprs = []\n",
    "aucs = []\n",
    "cv = StratifiedKFold(n_splits=5)\n",
    "sns.set(style=\"whitegrid\", font_scale=2)\n",
    "fig, ax = plt.subplots(1, 1, figsize=(10, 10))\n",
    "\n",
    "## Best parameters based on gridSearch are 64 and 100\n",
    "# rf = RandomForestClassifier(max_depth=64, n_estimators=128, n_jobs=16)\n",
    "# rf = RandomForestClassifier(max_depth=32, n_estimators=64, n_jobs=16)\n",
    "# rf = RandomForestClassifier(max_depth=16, n_estimators=32, n_jobs=16)\n",
    "rf = RandomForestClassifier(max_depth=8, n_estimators=16, n_jobs=16)\n",
    "# rf = RandomForestClassifier(max_depth=4, n_estimators=16, n_jobs=16)\n",
    "\n",
    "cnt = 0\n",
    "for train, test in cv.split(X, y):\n",
    "    print('CrossVal Round', cnt+1)\n",
    "    train_desc = np.zeros((0,128))\n",
    "    train_labels = np.zeros((0,1))\n",
    "    print('Training.......')\n",
    "    for i in tqdm_notebook(train):\n",
    "        train_desc = np.r_[train_desc, descs[i]]\n",
    "        train_labels = np.r_[train_labels, np.tile(gt.loc[i, 'RightDorsalOrgan'], (np.shape(descs[i])[0], 1))]\n",
    "    rf.fit(train_desc, np.ravel(train_labels))\n",
    "    \n",
    "    print('Testing.......')\n",
    "    test_desc = np.zeros((0,128))\n",
    "    test_labels = np.zeros((0,1))\n",
    "    probas_ = []\n",
    "    for i in tqdm_notebook(test):\n",
    "        pred = rf.predict(descs[i])\n",
    "        probas_.append(np.mean(pred))\n",
    "        test_labels = np.r_[test_labels, np.reshape(np.array([gt.loc[i, 'RightDorsalOrgan']]), (1,1))]\n",
    "\n",
    "    # Compute ROC curve and area the curve\n",
    "    fpr, tpr, thresholds = roc_curve(test_labels, np.array(probas_))\n",
    "    tprs.append(interp(mean_fpr, fpr, tpr))\n",
    "    tprs[-1][0] = 0.0\n",
    "    roc_auc = auc(fpr, tpr)\n",
    "    aucs.append(roc_auc)\n",
    "    plt.plot(fpr, tpr, lw=1, alpha=0.3, label='ROC fold %d (AUC = %0.2f)' % (cnt, roc_auc))\n",
    "    cnt += 1\n",
    "\n",
    "tprs_mat = np.array(tprs)\n",
    "tprs_mat.dump(\"tprs_mat_RDO_depth8.dat\")\n",
    "\n",
    "aucs_mat = np.array(aucs)\n",
    "aucs_mat.dump(\"aucs_mat_RDO_depth8.dat\")\n",
    "\n",
    "plt.plot([0, 1], [0, 1], linestyle='--', lw=2, color='r',\n",
    "         label='Luck', alpha=.8)\n",
    "\n",
    "mean_tpr = np.mean(tprs, axis=0)\n",
    "mean_tpr[-1] = 1.0\n",
    "mean_auc = auc(mean_fpr, mean_tpr)\n",
    "std_auc = np.std(aucs)\n",
    "plt.plot(mean_fpr, mean_tpr, color='b',\n",
    "         label=r'Mean ROC (AUC = %0.2f $\\pm$ %0.2f)' % (mean_auc, std_auc),\n",
    "         lw=2, alpha=.8)\n",
    "\n",
    "std_tpr = np.std(tprs, axis=0)\n",
    "tprs_upper = np.minimum(mean_tpr + std_tpr, 1)\n",
    "tprs_lower = np.maximum(mean_tpr - std_tpr, 0)\n",
    "plt.fill_between(mean_fpr, tprs_lower, tprs_upper, color='grey', alpha=.2,\n",
    "                 label=r'$\\pm$ 1 std. dev.')\n",
    "\n",
    "plt.xlim([-0.05, 1.05])\n",
    "plt.ylim([-0.05, 1.05])\n",
    "plt.xlabel('False Positive Rate')\n",
    "plt.ylabel('True Positive Rate')\n",
    "# plt.title('Receiver operating characteristic example')\n",
    "plt.legend(loc=\"lower right\", frameon=False)\n",
    "sns.despine()\n",
    "plt.axis('scaled')\n",
    "plt.savefig(\"CrossVal_ROC_10_Fold_RDO_depth8.png\", format='png', dpi=300, bbox_inches='tight')\n",
    "plt.savefig(\"CrossVal_ROC_10_Fold_RDO_depth8.pdf\", format='pdf', dpi=300, bbox_inches='tight')\n",
    "plt.show()"
   ]
  },
  {
   "cell_type": "code",
   "execution_count": 5,
   "metadata": {
    "ExecuteTime": {
     "end_time": "2018-08-08T19:59:42.230000Z",
     "start_time": "2018-08-08T19:59:41.978000Z"
    }
   },
   "outputs": [
    {
     "ename": "NameError",
     "evalue": "name 'asfasfag' is not defined",
     "output_type": "error",
     "traceback": [
      "\u001b[1;31m\u001b[0m",
      "\u001b[1;31mNameError\u001b[0mTraceback (most recent call last)",
      "\u001b[1;32m<ipython-input-5-9757fbc4d166>\u001b[0m in \u001b[0;36m<module>\u001b[1;34m()\u001b[0m\n\u001b[1;32m----> 1\u001b[1;33m \u001b[1;32mprint\u001b[0m\u001b[1;33m(\u001b[0m\u001b[0masfasfag\u001b[0m\u001b[1;33m)\u001b[0m\u001b[1;33m\u001b[0m\u001b[0m\n\u001b[0m",
      "\u001b[1;31mNameError\u001b[0m: name 'asfasfag' is not defined"
     ]
    }
   ],
   "source": [
    "print(asfasfag)"
   ]
  },
  {
   "cell_type": "code",
   "execution_count": null,
   "metadata": {},
   "outputs": [],
   "source": []
  },
  {
   "cell_type": "code",
   "execution_count": null,
   "metadata": {
    "ExecuteTime": {
     "end_time": "2018-08-08T19:59:42.233000Z",
     "start_time": "2018-08-08T19:14:57.686Z"
    },
    "code_folding": [
     25,
     27,
     29,
     31
    ]
   },
   "outputs": [],
   "source": [
    "from __future__ import print_function\n",
    "\n",
    "from sklearn.model_selection import train_test_split, StratifiedKFold\n",
    "from sklearn.metrics import precision_recall_fscore_support\n",
    "from scipy import interp\n",
    "\n",
    "X = gt.index.values\n",
    "y = gt.loc[:, 'LeftDorsalOrgan']\n",
    "X_train, X_test, y_train, y_test = train_test_split(X, y, test_size=0.5, random_state=0)\n",
    "\n",
    "nsplits = 3\n",
    "cv = StratifiedKFold(n_splits=nsplits)\n",
    "\n",
    "# Set the parameters by cross-validation\n",
    "tuned_parameters = {'max_depth': [16, 32, 64, 128, 256],\n",
    "                     'n_estimators': [1, 10, 100, 1000]}\n",
    "\n",
    "scores = ['precision', 'recall']\n",
    "\n",
    "mean_fpr = np.linspace(0, 1, 100)\n",
    "tprs = []\n",
    "aucs = []\n",
    "\n",
    "tprs = []\n",
    "\n",
    "grid_precision = np.zeros((nsplits, len(tuned_parameters['max_depth']),\n",
    "                      len(tuned_parameters['n_estimators'])))\n",
    "grid_recall = np.zeros((nsplits, len(tuned_parameters['max_depth']),\n",
    "                      len(tuned_parameters['n_estimators'])))\n",
    "grid_f1 = np.zeros((nsplits, len(tuned_parameters['max_depth']),\n",
    "                      len(tuned_parameters['n_estimators'])))\n",
    "grid_auc = np.zeros((nsplits, len(tuned_parameters['max_depth']),\n",
    "                      len(tuned_parameters['n_estimators'])))\n",
    "\n",
    "sp = -1\n",
    "for train, test in cv.split(X_train, y_train):\n",
    "    sp += 1\n",
    "    train_desc = np.zeros((0,128))\n",
    "    train_labels = np.zeros((0,1))\n",
    "    for i in train:\n",
    "        train_desc = np.r_[train_desc, descs[i]]\n",
    "        train_labels = np.r_[train_labels, np.tile(gt.loc[i, 'LeftDorsalOrgan'], (np.shape(descs[i])[0], 1))]\n",
    "    \n",
    "    for i_est, est in enumerate(tuned_parameters['n_estimators']):\n",
    "        for i_dep, dep in enumerate(tuned_parameters['max_depth']):\n",
    "            rf = RandomForestClassifier(max_depth=dep, n_estimators=est)\n",
    "            rf.fit(train_desc, np.ravel(train_labels))\n",
    "            \n",
    "            test_desc = np.zeros((0,128))\n",
    "            test_labels = np.zeros((0,1))\n",
    "            probas_ = []\n",
    "            for i in test:\n",
    "                pred = rf.predict(descs[i])\n",
    "                probas_.append(np.mean(pred))\n",
    "                test_labels = np.r_[test_labels, np.reshape(np.array([gt.loc[i, 'LeftDorsalOrgan']]), (1,1))]\n",
    "\n",
    "            # Compute ROC curve and area the curve\n",
    "            fpr, tpr, thresholds = roc_curve(test_labels, np.array(probas_))\n",
    "            grid_auc[sp, i_dep, i_est] = auc(fpr, tpr)\n",
    "            \n",
    "#             prec, recl, f1, _ = precision_recall_fscore_support(test_labels, np.array(probas_), average='weighted')\n",
    "#             grid_precision[sp, i_dep, i_est] = prec.copy()\n",
    "#             grid_precision[sp, i_dep, i_est] = recl.copy()\n",
    "#             grid_precision[sp, i_dep, i_est] = f1.copy()\n",
    "\n",
    "grid_auc.dump(\"grid_auc_10.dat\")\n",
    "mat2 = np.load(\"grid_auc_10.dat\")"
   ]
  },
  {
   "cell_type": "code",
   "execution_count": null,
   "metadata": {
    "ExecuteTime": {
     "end_time": "2018-08-07T19:03:27.886950Z",
     "start_time": "2018-08-07T19:03:27.878307Z"
    }
   },
   "outputs": [],
   "source": []
  },
  {
   "cell_type": "code",
   "execution_count": null,
   "metadata": {
    "ExecuteTime": {
     "end_time": "2018-08-08T19:59:42.238000Z",
     "start_time": "2018-08-08T19:14:57.689Z"
    }
   },
   "outputs": [],
   "source": [
    "# df = pd.DataFrame(np.c_[thresholds.T, fpr.T, tpr.T], columns=['Threshold', 'FPR', 'TPR'])\n",
    "# df.loc[:, 'FPR'] = df.loc[:, 'FPR'].copy()*100\n",
    "# df.loc[:, 'TPR'] = df.loc[:, 'TPR'].copy()*100\n",
    "# df.loc[:, ['TPR', 'FPR']] = df.loc[:, ['TPR', 'FPR']].round(0).copy()\n",
    "# tol_cutoff = 10.0\n",
    "\n",
    "# optimal_votes = df[df['FPR'] == tol_cutoff].iloc[0, 0]\n",
    "# optimal_tpr = df[df['FPR'] == tol_cutoff].iloc[0, 2]\n",
    "# optimal_fpr = df[df['FPR'] == tol_cutoff].iloc[0, 1]\n",
    "\n",
    "# print 'Optimal votes at %d percent FPR : %0.2f '%(optimal_fpr, optimal_votes) \n",
    "# print 'TPR at Optimal votes : ', optimal_tpr\n"
   ]
  },
  {
   "cell_type": "code",
   "execution_count": null,
   "metadata": {
    "ExecuteTime": {
     "end_time": "2018-08-08T19:59:42.240000Z",
     "start_time": "2018-08-08T19:14:57.692Z"
    }
   },
   "outputs": [],
   "source": [
    "# det = np.zeros_like(votes_use)\n",
    "# pos_frames = np.where(votes_use >= optimal_votes)\n",
    "# neg_frames = np.where(votes_use < optimal_votes)\n",
    "# det[pos_frames] = 1"
   ]
  },
  {
   "cell_type": "code",
   "execution_count": null,
   "metadata": {
    "ExecuteTime": {
     "end_time": "2018-08-08T19:59:42.240000Z",
     "start_time": "2018-08-08T19:14:57.693Z"
    }
   },
   "outputs": [],
   "source": [
    "# out_vid = 'temp.avi'\n",
    "# video_crop = cv2.VideoWriter(out_vid, 0, 5, (1920, 1920))\n",
    "# cap = cv2.VideoCapture(video_file)\n",
    "\n",
    "# first_frame = gt.index.values[0]\n",
    "# ind = -1\n",
    "# for frame_index, row in gt.iterrows():\n",
    "#     ind += 1\n",
    "#     if cap.isOpened():\n",
    "#         cap.set(1, frame_index)\n",
    "#         ret, frame = cap.read()\n",
    "#         if (ret == True):\n",
    "#             if votes_use[ind] >= optimal_votes:\n",
    "#                 cv2.circle(frame, (1800, 200), radius=30, color=(0, 255, 0), thickness=-1)\n",
    "#             else:\n",
    "#                 cv2.circle(frame, (1800, 200), radius=30, color=(0, 0, 255), thickness=-1)\n",
    "\n",
    "#             video_crop.write(frame)\n",
    "#     else:\n",
    "#         print 'Cap Not Opened'\n",
    "#         cap.release()\n",
    "\n",
    "# cap.release()\n",
    "# cv2.destroyAllWindows()\n",
    "# video_crop.release()"
   ]
  },
  {
   "cell_type": "code",
   "execution_count": null,
   "metadata": {
    "ExecuteTime": {
     "end_time": "2018-08-08T19:59:42.240000Z",
     "start_time": "2018-08-08T19:14:57.696Z"
    },
    "scrolled": false
   },
   "outputs": [],
   "source": [
    "# gt = {}\n",
    "# fpr = {}\n",
    "# tpr = {}\n",
    "# thresholds = {}\n",
    "# roc_auc = {}\n",
    "\n",
    "# train_data_pos = get_train_data(train_pos.copy())\n",
    "# train_data_neg = get_train_data(train_neg.copy())\n",
    "\n",
    "# fig_roc = plt.figure(figsize=(14, 12))\n",
    "# patch_sizes = np.arange(4, 17, 2)\n",
    "# patch_sigmas = np.arange(0.1, 11, 1)\n",
    "# detected_loc = {}\n",
    "# for vote_patch in patch_sizes:\n",
    "#     for vote_sigma in patch_sigmas:\n",
    "#         detected_loc = predict_locations_patchsize(train_data_pos, test_annotations, vote_patch, vote_sigma)\n",
    "#         gt, fpr, tpr, thresholds, roc_auc = plot_roc_curve_metrics(detected_loc, no_anno_df, ['Sum'])\n",
    "#         plt.plot(fpr, tpr, lw=2, label='R-%d S-%d (AUC = %0.2f)'%(vote_patch, vote_sigma, roc_auc))\n",
    "\n",
    "# plt.plot([0, 1], [0, 1], color='navy', lw=2, linestyle='--')\n",
    "# plt.xlim([-0.05, 1.05])\n",
    "# plt.ylim([-0.05, 1.05])\n",
    "# plt.xlabel('False Positive Rate')\n",
    "# plt.ylabel('True Positive Rate')\n",
    "# # plt.title(bp)\n",
    "# plt.legend(loc=\"lower right\", frameon=False)\n",
    "# plt.show()"
   ]
  },
  {
   "cell_type": "code",
   "execution_count": null,
   "metadata": {
    "ExecuteTime": {
     "end_time": "2018-08-06T18:02:07.672373Z",
     "start_time": "2018-08-06T18:02:05.427510Z"
    }
   },
   "outputs": [],
   "source": []
  },
  {
   "cell_type": "code",
   "execution_count": null,
   "metadata": {
    "ExecuteTime": {
     "end_time": "2018-08-06T18:13:35.776847Z",
     "start_time": "2018-08-06T18:13:35.765784Z"
    }
   },
   "outputs": [],
   "source": []
  },
  {
   "cell_type": "code",
   "execution_count": null,
   "metadata": {},
   "outputs": [],
   "source": []
  },
  {
   "cell_type": "code",
   "execution_count": null,
   "metadata": {},
   "outputs": [],
   "source": []
  },
  {
   "cell_type": "code",
   "execution_count": null,
   "metadata": {},
   "outputs": [],
   "source": []
  },
  {
   "cell_type": "code",
   "execution_count": null,
   "metadata": {},
   "outputs": [],
   "source": []
  },
  {
   "cell_type": "code",
   "execution_count": null,
   "metadata": {},
   "outputs": [],
   "source": []
  },
  {
   "cell_type": "code",
   "execution_count": null,
   "metadata": {},
   "outputs": [],
   "source": []
  },
  {
   "cell_type": "code",
   "execution_count": null,
   "metadata": {},
   "outputs": [],
   "source": []
  },
  {
   "cell_type": "code",
   "execution_count": null,
   "metadata": {},
   "outputs": [],
   "source": []
  },
  {
   "cell_type": "code",
   "execution_count": null,
   "metadata": {},
   "outputs": [],
   "source": []
  },
  {
   "cell_type": "code",
   "execution_count": null,
   "metadata": {},
   "outputs": [],
   "source": []
  },
  {
   "cell_type": "code",
   "execution_count": null,
   "metadata": {
    "ExecuteTime": {
     "end_time": "2018-08-08T19:59:42.255000Z",
     "start_time": "2018-08-08T19:14:57.719Z"
    }
   },
   "outputs": [],
   "source": [
    "# train_data_pos = get_train_data(train_pos.copy())\n",
    "# detected_loc = predict_locations(train_data_pos, test_annotations)\n",
    "\n",
    "# ground_truth = detected_loc.iloc[:, 17:].astype(dtype=np.uint16).copy()\n",
    "# ground_truth.loc[:, :] = 1\n",
    "# for rind, rval in no_anno_df.iterrows():\n",
    "#     if rval['index'] in detected_loc.index.values:\n",
    "#         ground_truth.loc[rval['index'], rval['col']+'_votes'] = 0\n",
    "# votes_use = detected_loc.iloc[:, 17:].astype(dtype=np.float32).copy()\n",
    "    \n",
    "# y_true = ground_truth['LeftDorsalOrgan_votes'].values\n",
    "# y_score = votes_use['LeftDorsalOrgan_votes'].values\n",
    "\n",
    "# # make y_true a boolean vector\n",
    "# y_true = (y_true == 1)\n",
    "\n",
    "# # sort scores and corresponding truth values\n",
    "# desc_score_indices = np.argsort(y_score, kind=\"mergesort\")[::-1]\n",
    "# y_score = y_score[desc_score_indices]\n",
    "# y_true = y_true[desc_score_indices]\n",
    "# weight = 1.\n",
    "\n",
    "# # y_score typically has many tied values. Here we extract\n",
    "# # the indices associated with the distinct values. We also\n",
    "# # concatenate a value for the end of the curve.\n",
    "# distinct_value_indices = np.where(np.diff(y_score))[0]\n",
    "# threshold_idxs = np.r_[distinct_value_indices, y_true.size - 1]\n",
    "\n",
    "# # accumulate the true positives with decreasing threshold\n",
    "# # tps = stable_cumsum(y_true * weight)[threshold_idxs]\n",
    "# tps = np.cumsum(y_true * weight)[threshold_idxs]\n",
    "# fps = 1 + threshold_idxs - tps\n",
    "\n",
    "# # return fps, tps, y_score[threshold_idxs]\n",
    "\n",
    "# fpr = fps / fps[-1]\n",
    "# tpr = tps / tps[-1]\n"
   ]
  },
  {
   "cell_type": "code",
   "execution_count": null,
   "metadata": {
    "ExecuteTime": {
     "end_time": "2018-08-08T19:59:42.255000Z",
     "start_time": "2018-08-08T19:14:57.721Z"
    }
   },
   "outputs": [],
   "source": [
    "# temp_coordinates = all_coordinates.loc[:, all_coordinates.columns.values[::2]]\n",
    "# total_negatives = temp_coordinates[temp_coordinates<0].count()\n",
    "# total_positives = temp_coordinates[temp_coordinates>=0].count()\n",
    "# posneg_df = pd.DataFrame([total_positives, total_negatives])\n",
    "# posneg_df.columns = distance_header\n",
    "# posneg_df.index = ['pos', 'neg']\n",
    "# posneg_df"
   ]
  },
  {
   "cell_type": "code",
   "execution_count": null,
   "metadata": {
    "ExecuteTime": {
     "end_time": "2018-08-08T19:59:42.255000Z",
     "start_time": "2018-08-08T19:14:57.722Z"
    }
   },
   "outputs": [],
   "source": [
    "# vote_patch_size = 30\n",
    "# vote_sigma = 15\n",
    "# bodypart_vote = np.zeros((2 * vote_patch_size + 1, 2 * vote_patch_size + 1), np.float)\n",
    "\n",
    "# for x in range(-vote_patch_size, vote_patch_size + 1):\n",
    "#     for y in range(-vote_patch_size, vote_patch_size + 1):\n",
    "#         bodypart_vote[y + vote_patch_size, x + vote_patch_size] = np.exp(-0.5 * (\n",
    "#             x * x + y * y) / (np.square(vote_sigma))) / (vote_sigma * np.sqrt(2 * np.pi))\n",
    "\n",
    "# imgplot = plt.imshow(bodypart_vote, cmap=\"hot\")\n",
    "# plt.colorbar()"
   ]
  },
  {
   "cell_type": "code",
   "execution_count": null,
   "metadata": {
    "scrolled": false
   },
   "outputs": [],
   "source": []
  }
 ],
 "metadata": {
  "kernelspec": {
   "display_name": "Python 2",
   "language": "python",
   "name": "python2"
  },
  "language_info": {
   "codemirror_mode": {
    "name": "ipython",
    "version": 2
   },
   "file_extension": ".py",
   "mimetype": "text/x-python",
   "name": "python",
   "nbconvert_exporter": "python",
   "pygments_lexer": "ipython2",
   "version": "2.7.15"
  },
  "varInspector": {
   "cols": {
    "lenName": 16,
    "lenType": 16,
    "lenVar": 40
   },
   "kernels_config": {
    "python": {
     "delete_cmd_postfix": "",
     "delete_cmd_prefix": "del ",
     "library": "var_list.py",
     "varRefreshCmd": "print(var_dic_list())"
    },
    "r": {
     "delete_cmd_postfix": ") ",
     "delete_cmd_prefix": "rm(",
     "library": "var_list.r",
     "varRefreshCmd": "cat(var_dic_list()) "
    }
   },
   "types_to_exclude": [
    "module",
    "function",
    "builtin_function_or_method",
    "instance",
    "_Feature"
   ],
   "window_display": false
  }
 },
 "nbformat": 4,
 "nbformat_minor": 2
}
