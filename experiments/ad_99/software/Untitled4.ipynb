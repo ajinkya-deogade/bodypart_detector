{
 "cells": [
  {
   "cell_type": "code",
   "execution_count": 1,
   "metadata": {
    "ExecuteTime": {
     "end_time": "2018-08-10T14:23:59.782000Z",
     "start_time": "2018-08-10T14:23:58.442000Z"
    }
   },
   "outputs": [
    {
     "name": "stderr",
     "output_type": "stream",
     "text": [
      "C:\\Users\\Shaul\\Anaconda2\\lib\\site-packages\\h5py\\__init__.py:36: FutureWarning: Conversion of the second argument of issubdtype from `float` to `np.floating` is deprecated. In future, it will be treated as `np.float64 == np.dtype(float).type`.\n",
      "  from ._conv import register_converters as _register_converters\n"
     ]
    }
   ],
   "source": [
    "import numpy as np\n",
    "import pandas as pd\n",
    "import os\n",
    "import matplotlib\n",
    "import matplotlib.pyplot as plt\n",
    "from matplotlib import cm\n",
    "from pyflann import *\n",
    "from sklearn.neighbors import NearestNeighbors\n",
    "from sklearn.metrics import roc_curve, auc\n",
    "import cv2\n",
    "import csv\n",
    "import re\n",
    "from sklearn.ensemble import RandomForestClassifier\n",
    "import json\n",
    "from tqdm import tqdm_notebook\n",
    "import seaborn as sns\n",
    "from sklearn.externals import joblib\n",
    "\n",
    "# %matplotlib notebook\n",
    "\n",
    "coordinate_header = ['FrameNumber', 'MouthHook_x', 'MouthHook_y', 'LeftMHhook_x', 'LeftMHhook_y',\n",
    "                     'RightMHhook_x', 'RightMHhook_y', 'LeftDorsalOrgan_x', 'LeftDorsalOrgan_y',\n",
    "                     'RightDorsalOrgan_x', 'RightDorsalOrgan_y', 'CenterBolwigOrgan_x', 'CenterBolwigOrgan_y',\n",
    "                     'LeftBolwigOrgan_x', 'LeftBolwigOrgan_y', 'RightBolwigOrgan_x', 'RightBolwigOrgan_y']\n",
    "\n",
    "distance_header = ['MouthHook', 'LeftMHhook',\n",
    "                   'RightMHhook', 'LeftDorsalOrgan', 'RightDorsalOrgan',\n",
    "                   'CenterBolwigOrgan', 'LeftBolwigOrgan', 'RightBolwigOrgan']\n",
    "\n",
    "project_dir=\"G:/My Drive/CRG_Dropbox/AljoComputer/Temp\"\n",
    "dir_keypoints=\"../expts/KeypointsAndDescriptors/validKeyPoints\"\n",
    "dir_descriptors=\"../expts/KeypointsAndDescriptors/descriptors\"\n",
    "\n",
    "surf = cv2.xfeatures2d.SURF_create(hessianThreshold=400, nOctaves=3,nOctaveLayers=2, extended=True)"
   ]
  },
  {
   "cell_type": "code",
   "execution_count": 2,
   "metadata": {
    "ExecuteTime": {
     "end_time": "2018-08-10T14:24:04.494000Z",
     "start_time": "2018-08-10T14:24:00.364000Z"
    }
   },
   "outputs": [
    {
     "data": {
      "text/plain": [
       "RandomForestClassifier(bootstrap=True, class_weight=None, criterion='gini',\n",
       "            max_depth=64, max_features='auto', max_leaf_nodes=None,\n",
       "            min_impurity_decrease=0.0, min_impurity_split=None,\n",
       "            min_samples_leaf=1, min_samples_split=2,\n",
       "            min_weight_fraction_leaf=0.0, n_estimators=350, n_jobs=1,\n",
       "            oob_score=False, random_state=None, verbose=0,\n",
       "            warm_start=False)"
      ]
     },
     "execution_count": 2,
     "metadata": {},
     "output_type": "execute_result"
    }
   ],
   "source": [
    "rf = joblib.load('20180809_rf_model_depth64_2015.pkl')\n",
    "rf.set_params(n_jobs=1)"
   ]
  },
  {
   "cell_type": "code",
   "execution_count": 3,
   "metadata": {
    "ExecuteTime": {
     "end_time": "2018-08-10T19:42:23.244000Z",
     "start_time": "2018-08-10T14:24:38.227000Z"
    }
   },
   "outputs": [
    {
     "data": {
      "application/vnd.jupyter.widget-view+json": {
       "model_id": "a0dd366277bf47618960b47ff6d998d3",
       "version_major": 2,
       "version_minor": 0
      },
      "text/plain": [
       "HBox(children=(IntProgress(value=0, max=5), HTML(value=u'')))"
      ]
     },
     "metadata": {},
     "output_type": "display_data"
    },
    {
     "name": "stdout",
     "output_type": "stream",
     "text": [
      "G:/My Drive/CRG_Dropbox/Tracker Development (Ajinkya)/MHDO_Tracking/data/Janelia_Q2_2015/20150501_MPEG4_NoOdor/Videos/relevant/005_20150430_174405_StageData_ContourData/005_20150430_174405.mp4\n",
      "48280\n"
     ]
    },
    {
     "data": {
      "application/vnd.jupyter.widget-view+json": {
       "model_id": "c8496fc4ac9d4014baeadb967e9e36d0",
       "version_major": 2,
       "version_minor": 0
      },
      "text/plain": [
       "HBox(children=(IntProgress(value=1, bar_style=u'info', max=1), HTML(value=u'')))"
      ]
     },
     "metadata": {},
     "output_type": "display_data"
    },
    {
     "name": "stdout",
     "output_type": "stream",
     "text": [
      "G:/My Drive/CRG_Dropbox/Tracker Development (Ajinkya)/MHDO_Tracking/data/Janelia_Q2_2015/20150501_MPEG4_NoOdor/Videos/relevant/006_20150430_175243_StageData_ContourData/006_20150430_175243.mp4\n",
      "45620\n"
     ]
    },
    {
     "data": {
      "application/vnd.jupyter.widget-view+json": {
       "model_id": "f3fcc9186a1d49a0a570d5586a1f4cd5",
       "version_major": 2,
       "version_minor": 0
      },
      "text/plain": [
       "HBox(children=(IntProgress(value=1, bar_style=u'info', max=1), HTML(value=u'')))"
      ]
     },
     "metadata": {},
     "output_type": "display_data"
    },
    {
     "name": "stdout",
     "output_type": "stream",
     "text": [
      "G:/My Drive/CRG_Dropbox/Tracker Development (Ajinkya)/MHDO_Tracking/data/Janelia_Q2_2015/20150501_MPEG4_NoOdor/Videos/relevant/009_20150430_182411_StageData_ContourData/009_20150430_182411.mp4\n",
      "45679\n"
     ]
    },
    {
     "data": {
      "application/vnd.jupyter.widget-view+json": {
       "model_id": "b9fe53384da749ecb595fd3c933e942f",
       "version_major": 2,
       "version_minor": 0
      },
      "text/plain": [
       "HBox(children=(IntProgress(value=1, bar_style=u'info', max=1), HTML(value=u'')))"
      ]
     },
     "metadata": {},
     "output_type": "display_data"
    },
    {
     "name": "stdout",
     "output_type": "stream",
     "text": [
      "G:/My Drive/CRG_Dropbox/Tracker Development (Ajinkya)/MHDO_Tracking/data/Janelia_Q2_2015/20150501_MPEG4_NoOdor/Videos/relevant/011_20150430_183916_StageData_ContourData/011_20150430_183916.mp4\n",
      "52014\n"
     ]
    },
    {
     "data": {
      "application/vnd.jupyter.widget-view+json": {
       "model_id": "d065baf7c7804ff29f0d22c7b1561a0b",
       "version_major": 2,
       "version_minor": 0
      },
      "text/plain": [
       "HBox(children=(IntProgress(value=1, bar_style=u'info', max=1), HTML(value=u'')))"
      ]
     },
     "metadata": {},
     "output_type": "display_data"
    },
    {
     "name": "stdout",
     "output_type": "stream",
     "text": [
      "G:/My Drive/CRG_Dropbox/Tracker Development (Ajinkya)/MHDO_Tracking/data/Janelia_Q2_2015/20150501_MPEG4_NoOdor/Videos/relevant/015_20150430_191255_StageData_ContourData/015_20150430_191255.mp4\n",
      "47183\n"
     ]
    },
    {
     "data": {
      "application/vnd.jupyter.widget-view+json": {
       "model_id": "ccc71095c41848398126013dc7f16389",
       "version_major": 2,
       "version_minor": 0
      },
      "text/plain": [
       "HBox(children=(IntProgress(value=1, bar_style=u'info', max=1), HTML(value=u'')))"
      ]
     },
     "metadata": {},
     "output_type": "display_data"
    },
    {
     "name": "stdout",
     "output_type": "stream",
     "text": [
      "\n"
     ]
    }
   ],
   "source": [
    "meta_data_header = ['FrameNumber', 'Stage_X', 'Stage_Y', 'X', 'Y', 'Head_X', 'Head_Y', 'Tail_X', 'Tail_Y']\n",
    "super_root = \"G:/My Drive/CRG_Dropbox/Tracker Development (Ajinkya)/MHDO_Tracking/data/Janelia_Q2_2015/20150501_MPEG4_NoOdor/Videos/relevant/\"\n",
    "exp_list = [\"005_20150430_174405_StageData_ContourData\", \"006_20150430_175243_StageData_ContourData\",\n",
    "            \"009_20150430_182411_StageData_ContourData\", \"011_20150430_183916_StageData_ContourData\",\n",
    "            \"015_20150430_191255_StageData_ContourData\"]\n",
    "\n",
    "crop_size = 512\n",
    "for exp in tqdm_notebook(exp_list):\n",
    "    root = super_root + exp\n",
    "    for fs in os.listdir(root):\n",
    "        if 'Metadata' in fs:\n",
    "            meta_data_file = os.path.join(root, fs)\n",
    "            meta_data = pd.read_csv(meta_data_file, sep=',', header=0, names=meta_data_header)\n",
    "        if '.mp4' in fs:\n",
    "            video_file = root + '/' + fs\n",
    "    \n",
    "    print(video_file)\n",
    "    ## OpenCV object for reading video files\n",
    "    cap = cv2.VideoCapture(video_file)\n",
    "\n",
    "    ## Total number of videos in the video file\n",
    "    numberFrames = int(cap.get(cv2.CAP_PROP_FRAME_COUNT))\n",
    "    print(numberFrames)\n",
    "    \n",
    "    meta_data['pred_probab'] = np.nan\n",
    "    \n",
    "    if cap.isOpened():\n",
    "        for row_index, row in tqdm_notebook(meta_data.iterrows()):\n",
    "#             try:\n",
    "            if row_index <= 30000:\n",
    "                ret, originalFrame = cap.read()\n",
    "                frame = originalFrame.copy()\n",
    "                if frame is not None:\n",
    "                    ## Crop the frame\n",
    "                    crop_x = int(row['Head_X'])\n",
    "                    crop_y = int(row['Head_Y'])\n",
    "                    frame_crop = frame[np.max((0, crop_y-(crop_size/2))):np.min((1920, crop_y+(crop_size/2))),\n",
    "                                       np.max((0, crop_x-(crop_size/2))):np.min((1920, crop_x+(crop_size/2)))]\n",
    "                    kp, desc = surf.detectAndCompute(frame_crop, None)\n",
    "                    \n",
    "                    if desc is not None:\n",
    "                        preds = rf.predict(desc)\n",
    "                        meta_data.loc[row_index, 'pred_probab'] = np.mean(preds)                \n",
    "#             except:\n",
    "#                 print('Error')\n",
    "#                 continue\n",
    "            \n",
    "    meta_data_file_2 = meta_data_file[:-4] + '_pred.csv'\n",
    "    meta_data.to_csv(meta_data_file_2)"
   ]
  },
  {
   "cell_type": "code",
   "execution_count": null,
   "metadata": {},
   "outputs": [],
   "source": []
  }
 ],
 "metadata": {
  "kernelspec": {
   "display_name": "Python 2",
   "language": "python",
   "name": "python2"
  },
  "language_info": {
   "codemirror_mode": {
    "name": "ipython",
    "version": 2
   },
   "file_extension": ".py",
   "mimetype": "text/x-python",
   "name": "python",
   "nbconvert_exporter": "python",
   "pygments_lexer": "ipython2",
   "version": "2.7.15"
  }
 },
 "nbformat": 4,
 "nbformat_minor": 2
}
