{
 "cells": [
  {
   "cell_type": "code",
   "execution_count": 1,
   "metadata": {
    "ExecuteTime": {
     "end_time": "2018-08-08T18:41:12.124000Z",
     "start_time": "2018-08-08T18:41:10.760000Z"
    },
    "code_folding": [
     17,
     23
    ]
   },
   "outputs": [
    {
     "name": "stderr",
     "output_type": "stream",
     "text": [
      "C:\\Users\\Shaul\\Anaconda2\\lib\\site-packages\\h5py\\__init__.py:36: FutureWarning: Conversion of the second argument of issubdtype from `float` to `np.floating` is deprecated. In future, it will be treated as `np.float64 == np.dtype(float).type`.\n",
      "  from ._conv import register_converters as _register_converters\n"
     ]
    }
   ],
   "source": [
    "import numpy as np\n",
    "import pandas as pd\n",
    "import os\n",
    "import matplotlib\n",
    "import matplotlib.pyplot as plt\n",
    "from matplotlib import cm\n",
    "from pyflann import *\n",
    "from sklearn.neighbors import NearestNeighbors\n",
    "from sklearn.metrics import roc_curve, auc\n",
    "import cv2\n",
    "import csv\n",
    "import re\n",
    "from sklearn.ensemble import RandomForestClassifier\n",
    "import json\n",
    "from tqdm import tqdm_notebook\n",
    "import seaborn as sns\n",
    "import xgboost as xgb\n",
    "\n",
    "# %matplotlib notebook\n",
    "\n",
    "coordinate_header = ['FrameNumber', 'MouthHook_x', 'MouthHook_y', 'LeftMHhook_x', 'LeftMHhook_y',\n",
    "                     'RightMHhook_x', 'RightMHhook_y', 'LeftDorsalOrgan_x', 'LeftDorsalOrgan_y',\n",
    "                     'RightDorsalOrgan_x', 'RightDorsalOrgan_y', 'CenterBolwigOrgan_x', 'CenterBolwigOrgan_y',\n",
    "                     'LeftBolwigOrgan_x', 'LeftBolwigOrgan_y', 'RightBolwigOrgan_x', 'RightBolwigOrgan_y']\n",
    "\n",
    "distance_header = ['MouthHook', 'LeftMHhook',\n",
    "                   'RightMHhook', 'LeftDorsalOrgan', 'RightDorsalOrgan',\n",
    "                   'CenterBolwigOrgan', 'LeftBolwigOrgan', 'RightBolwigOrgan']\n",
    "\n",
    "project_dir=\"G:/My Drive/CRG_Dropbox/AljoComputer/Temp\"\n",
    "dir_keypoints=\"../expts/KeypointsAndDescriptors/validKeyPoints\"\n",
    "dir_descriptors=\"../expts/KeypointsAndDescriptors/descriptors\"\n"
   ]
  },
  {
   "cell_type": "code",
   "execution_count": 2,
   "metadata": {
    "ExecuteTime": {
     "end_time": "2018-08-08T18:41:49.884000Z",
     "start_time": "2018-08-08T18:41:12.128000Z"
    }
   },
   "outputs": [
    {
     "name": "stdout",
     "output_type": "stream",
     "text": [
      "len(all_annotations): 2613\n",
      "len(descs): 2613\n"
     ]
    }
   ],
   "source": [
    "annotation_list = '../expts/annotation_list'\n",
    "all_annotations = []\n",
    "with open(annotation_list) as test_list:\n",
    "    for annotation_file in test_list:\n",
    "        annotation_file = project_dir + re.sub(\".*/20180417_BG57_Midpoint_200micron_30fps/\", \"/\", annotation_file.strip())\n",
    "        with open(annotation_file) as fin_annotation:\n",
    "            annotation = json.load(fin_annotation)\n",
    "            all_annotations.extend(annotation[\"Annotations\"])\n",
    "print \"len(all_annotations):\", len(all_annotations)\n",
    "\n",
    "gt = pd.DataFrame([])\n",
    "descs = []\n",
    "\n",
    "for ind, annotation in enumerate(all_annotations):\n",
    "    parent, file_name = os.path.split(annotation['FrameFile'])\n",
    "    file_name = os.path.splitext(file_name)[0]\n",
    "    _, parent_name = os.path.split(parent)\n",
    "    gt.loc[ind, 'FrameIndex'] = int(annotation['FrameIndexVideo'])\n",
    "    gt.loc[ind, 'FileName'] = str(file_name.strip())\n",
    "    gt.loc[ind, 'ParentName'] = str(parent_name.strip())\n",
    "    \n",
    "    for bp in annotation['FrameValueCoordinates']:\n",
    "        if bp['Name'] == 'LeftDorsalOrgan':\n",
    "            if (bp['Value']['x_coordinate'] != -1) and (bp['Value']['y_coordinate'] != -1):\n",
    "                gt.loc[ind, 'LeftDorsalOrgan'] = 1\n",
    "            else:\n",
    "                gt.loc[ind, 'LeftDorsalOrgan'] = 0\n",
    "        \n",
    "        elif bp['Name'] == 'RightDorsalOrgan':\n",
    "            if (bp['Value']['x_coordinate'] != -1) and (bp['Value']['y_coordinate'] != -1):\n",
    "                gt.loc[ind, 'RightDorsalOrgan'] = 1\n",
    "            else:\n",
    "                gt.loc[ind, 'RightDorsalOrgan'] = 0\n",
    "\n",
    "    desc_file = os.path.join(dir_descriptors, str(parent_name.strip()), str(file_name.strip() + '.csv'))\n",
    "    \n",
    "    try:\n",
    "        temp = pd.read_csv(desc_file, sep='\\t', header=None)\n",
    "        descs.append(temp.values)\n",
    "    except:\n",
    "        temp = pd.DataFrame(np.zeros((1, 128)))\n",
    "        descs.append(temp.values)\n",
    "        continue\n",
    "\n",
    "print \"len(descs):\", len(descs)\n"
   ]
  },
  {
   "cell_type": "code",
   "execution_count": 3,
   "metadata": {
    "ExecuteTime": {
     "end_time": "2018-08-08T19:03:27.847000Z",
     "start_time": "2018-08-08T18:41:49.889000Z"
    },
    "scrolled": false
   },
   "outputs": [
    {
     "name": "stdout",
     "output_type": "stream",
     "text": [
      "CrossVal Round 1\n",
      "Training.......\n"
     ]
    },
    {
     "data": {
      "application/vnd.jupyter.widget-view+json": {
       "model_id": "b06348a1b0bb4e4aacb06f55691c8f0d",
       "version_major": 2,
       "version_minor": 0
      },
      "text/plain": [
       "HBox(children=(IntProgress(value=0, max=1462), HTML(value=u'')))"
      ]
     },
     "metadata": {},
     "output_type": "display_data"
    },
    {
     "name": "stdout",
     "output_type": "stream",
     "text": [
      "\n"
     ]
    },
    {
     "data": {
      "application/vnd.jupyter.widget-view+json": {
       "model_id": "e877142a09e243cd927a6137b21c992b",
       "version_major": 2,
       "version_minor": 0
      },
      "text/plain": [
       "HBox(children=(IntProgress(value=0, max=627), HTML(value=u'')))"
      ]
     },
     "metadata": {},
     "output_type": "display_data"
    },
    {
     "name": "stdout",
     "output_type": "stream",
     "text": [
      "\n",
      "[0]\teval-auc:0.74245\ttrain-auc:0.932673\n",
      "[9]\teval-auc:0.852242\ttrain-auc:0.995913\n",
      "Testing.......\n"
     ]
    },
    {
     "data": {
      "application/vnd.jupyter.widget-view+json": {
       "model_id": "2d4e0dd67d29434d8a0769ba6320ed91",
       "version_major": 2,
       "version_minor": 0
      },
      "text/plain": [
       "HBox(children=(IntProgress(value=0, max=524), HTML(value=u'')))"
      ]
     },
     "metadata": {},
     "output_type": "display_data"
    },
    {
     "name": "stdout",
     "output_type": "stream",
     "text": [
      "\n",
      "CrossVal Round 2\n",
      "Training.......\n"
     ]
    },
    {
     "data": {
      "application/vnd.jupyter.widget-view+json": {
       "model_id": "522e5706c0c74cb28123029d84cdf10a",
       "version_major": 2,
       "version_minor": 0
      },
      "text/plain": [
       "HBox(children=(IntProgress(value=0, max=1463), HTML(value=u'')))"
      ]
     },
     "metadata": {},
     "output_type": "display_data"
    },
    {
     "name": "stdout",
     "output_type": "stream",
     "text": [
      "\n"
     ]
    },
    {
     "data": {
      "application/vnd.jupyter.widget-view+json": {
       "model_id": "1960df2d947041809ca2ef3ccf613a44",
       "version_major": 2,
       "version_minor": 0
      },
      "text/plain": [
       "HBox(children=(IntProgress(value=0, max=627), HTML(value=u'')))"
      ]
     },
     "metadata": {},
     "output_type": "display_data"
    },
    {
     "name": "stdout",
     "output_type": "stream",
     "text": [
      "\n",
      "[0]\teval-auc:0.724891\ttrain-auc:0.92252\n",
      "[9]\teval-auc:0.840063\ttrain-auc:0.995949\n",
      "Testing.......\n"
     ]
    },
    {
     "data": {
      "application/vnd.jupyter.widget-view+json": {
       "model_id": "ca79ab6fc56d4e6fa720fbb395b6453e",
       "version_major": 2,
       "version_minor": 0
      },
      "text/plain": [
       "HBox(children=(IntProgress(value=0, max=523), HTML(value=u'')))"
      ]
     },
     "metadata": {},
     "output_type": "display_data"
    },
    {
     "name": "stdout",
     "output_type": "stream",
     "text": [
      "\n",
      "CrossVal Round 3\n",
      "Training.......\n"
     ]
    },
    {
     "data": {
      "application/vnd.jupyter.widget-view+json": {
       "model_id": "12778b3d2d1642c6b7729bc0b5d228ff",
       "version_major": 2,
       "version_minor": 0
      },
      "text/plain": [
       "HBox(children=(IntProgress(value=0, max=1463), HTML(value=u'')))"
      ]
     },
     "metadata": {},
     "output_type": "display_data"
    },
    {
     "name": "stdout",
     "output_type": "stream",
     "text": [
      "\n"
     ]
    },
    {
     "data": {
      "application/vnd.jupyter.widget-view+json": {
       "model_id": "377bb5f50f424bca87eb58d986094c16",
       "version_major": 2,
       "version_minor": 0
      },
      "text/plain": [
       "HBox(children=(IntProgress(value=0, max=628), HTML(value=u'')))"
      ]
     },
     "metadata": {},
     "output_type": "display_data"
    },
    {
     "name": "stdout",
     "output_type": "stream",
     "text": [
      "\n",
      "[0]\teval-auc:0.70979\ttrain-auc:0.91888\n",
      "[9]\teval-auc:0.814844\ttrain-auc:0.99517\n",
      "Testing.......\n"
     ]
    },
    {
     "data": {
      "application/vnd.jupyter.widget-view+json": {
       "model_id": "2d4438b4b8c74aecaeb57c4f2d2165c0",
       "version_major": 2,
       "version_minor": 0
      },
      "text/plain": [
       "HBox(children=(IntProgress(value=0, max=522), HTML(value=u'')))"
      ]
     },
     "metadata": {},
     "output_type": "display_data"
    },
    {
     "name": "stdout",
     "output_type": "stream",
     "text": [
      "\n",
      "CrossVal Round 4\n",
      "Training.......\n"
     ]
    },
    {
     "data": {
      "application/vnd.jupyter.widget-view+json": {
       "model_id": "2121c88b4af64372aa2a2a4c808c8457",
       "version_major": 2,
       "version_minor": 0
      },
      "text/plain": [
       "HBox(children=(IntProgress(value=0, max=1463), HTML(value=u'')))"
      ]
     },
     "metadata": {},
     "output_type": "display_data"
    },
    {
     "name": "stdout",
     "output_type": "stream",
     "text": [
      "\n"
     ]
    },
    {
     "data": {
      "application/vnd.jupyter.widget-view+json": {
       "model_id": "719badd433194fcd9d8c705dbcf55520",
       "version_major": 2,
       "version_minor": 0
      },
      "text/plain": [
       "HBox(children=(IntProgress(value=0, max=628), HTML(value=u'')))"
      ]
     },
     "metadata": {},
     "output_type": "display_data"
    },
    {
     "name": "stdout",
     "output_type": "stream",
     "text": [
      "\n",
      "[0]\teval-auc:0.702649\ttrain-auc:0.918399\n",
      "[9]\teval-auc:0.80964\ttrain-auc:0.995492\n",
      "Testing.......\n"
     ]
    },
    {
     "data": {
      "application/vnd.jupyter.widget-view+json": {
       "model_id": "b81b0fba1f514ebb839223470f0a014f",
       "version_major": 2,
       "version_minor": 0
      },
      "text/plain": [
       "HBox(children=(IntProgress(value=0, max=522), HTML(value=u'')))"
      ]
     },
     "metadata": {},
     "output_type": "display_data"
    },
    {
     "name": "stdout",
     "output_type": "stream",
     "text": [
      "\n",
      "CrossVal Round 5\n",
      "Training.......\n"
     ]
    },
    {
     "data": {
      "application/vnd.jupyter.widget-view+json": {
       "model_id": "727c6c7c4e19498ebc9ff0d9c1694d14",
       "version_major": 2,
       "version_minor": 0
      },
      "text/plain": [
       "HBox(children=(IntProgress(value=0, max=1463), HTML(value=u'')))"
      ]
     },
     "metadata": {},
     "output_type": "display_data"
    },
    {
     "name": "stdout",
     "output_type": "stream",
     "text": [
      "\n"
     ]
    },
    {
     "data": {
      "application/vnd.jupyter.widget-view+json": {
       "model_id": "4bc0b2f83a7b4f00acaec1b431b6f8cc",
       "version_major": 2,
       "version_minor": 0
      },
      "text/plain": [
       "HBox(children=(IntProgress(value=0, max=628), HTML(value=u'')))"
      ]
     },
     "metadata": {},
     "output_type": "display_data"
    },
    {
     "name": "stdout",
     "output_type": "stream",
     "text": [
      "\n",
      "[0]\teval-auc:0.74105\ttrain-auc:0.924872\n",
      "[9]\teval-auc:0.858337\ttrain-auc:0.995413\n",
      "Testing.......\n"
     ]
    },
    {
     "data": {
      "application/vnd.jupyter.widget-view+json": {
       "model_id": "bf993106aa7945a2b821b1d8f0e86bb1",
       "version_major": 2,
       "version_minor": 0
      },
      "text/plain": [
       "HBox(children=(IntProgress(value=0, max=522), HTML(value=u'')))"
      ]
     },
     "metadata": {},
     "output_type": "display_data"
    },
    {
     "name": "stdout",
     "output_type": "stream",
     "text": [
      "\n"
     ]
    },
    {
     "data": {
      "image/png": "[encoded data removed]",
      "text/plain": [
       "<Figure size 720x720 with 1 Axes>"
      ]
     },
     "metadata": {},
     "output_type": "display_data"
    }
   ],
   "source": [
    "from sklearn.model_selection import train_test_split\n",
    "from sklearn.model_selection import StratifiedKFold\n",
    "from scipy import interp\n",
    "\n",
    "param = {'max_depth': 16, 'n_estimators': 100, 'eta': 0.1, 'silent': 1, 'objective': 'binary:logistic'}\n",
    "param['nthread'] = 20\n",
    "param['eval_metric'] = 'auc'\n",
    "num_round = 50\n",
    "\n",
    "bp = 'LeftDorsalOrgan'\n",
    "X = gt.index.values\n",
    "y = gt.loc[:, bp]\n",
    "mean_fpr = np.linspace(0, 1, 100)\n",
    "tprs = []\n",
    "aucs = []\n",
    "cv = StratifiedKFold(n_splits=5)\n",
    "sns.set(style=\"whitegrid\", font_scale=2)\n",
    "fig, ax = plt.subplots(1, 1, figsize=(10, 10))\n",
    "\n",
    "cnt = 0\n",
    "for train, test in cv.split(X, y):\n",
    "    print 'CrossVal Round', cnt+1\n",
    "    X_train = X[train]\n",
    "    y_train = y[train]\n",
    "    X_train_2, X_eval, y_train_2, y_eval = train_test_split(X_train, y_train, test_size=0.30, random_state=42)\n",
    "    \n",
    "    print 'Training.......'\n",
    "    train_desc = np.zeros((0, 128))\n",
    "    train_labels = np.zeros((0, 1))\n",
    "    for i in tqdm_notebook(X_train_2):\n",
    "        train_desc = np.r_[train_desc, descs[i]]\n",
    "        train_labels = np.r_[train_labels, np.tile(gt.loc[i, bp], (np.shape(descs[i])[0], 1))]\n",
    "    \n",
    "    eval_desc = np.zeros((0, 128))\n",
    "    eval_labels = np.zeros((0, 1))\n",
    "    for i in tqdm_notebook(X_eval):\n",
    "        eval_desc = np.r_[eval_desc, descs[i]]\n",
    "        eval_labels = np.r_[eval_labels, np.tile(gt.loc[i, bp], (np.shape(descs[i])[0], 1))]\n",
    "\n",
    "    deval  = xgb.DMatrix(eval_desc , label=np.ravel(eval_labels ))\n",
    "    dtrain = xgb.DMatrix(train_desc, label=np.ravel(train_labels))\n",
    "    evallist = [(deval, 'eval'), (dtrain, 'train')]\n",
    "    bst = xgb.train(param, dtrain, num_round, evallist, verbose_eval=25)\n",
    "    \n",
    "    print 'Testing.......'\n",
    "    test_desc = np.zeros((0, 128))\n",
    "    test_labels = np.zeros((0, 1))\n",
    "    probas_ = []\n",
    "    for i in tqdm_notebook(test):\n",
    "        pred = bst.predict(xgb.DMatrix(descs[i]))\n",
    "        probas_.append(np.mean(pred))\n",
    "        test_labels = np.r_[test_labels, np.reshape(np.array([gt.loc[i, bp]]), (1,1))]\n",
    "\n",
    "    # Compute ROC curve and area the curve\n",
    "    fpr, tpr, thresholds = roc_curve(test_labels, np.array(probas_))\n",
    "    tprs.append(interp(mean_fpr, fpr, tpr))\n",
    "    tprs[-1][0] = 0.0\n",
    "    roc_auc = auc(fpr, tpr)\n",
    "    aucs.append(roc_auc)\n",
    "    plt.plot(fpr, tpr, lw=1, alpha=0.3, label='ROC fold %d (AUC = %0.2f)' % (cnt, roc_auc))\n",
    "    cnt += 1\n",
    "\n",
    "# tprs_mat = np.array(tprs)\n",
    "# tprs_mat.dump(\"tprs_mat_LDO_depth8.dat\")\n",
    "\n",
    "# aucs_mat = np.array(aucs)\n",
    "# aucs_mat.dump(\"aucs_mat_LDO_depth8.dat\")\n",
    "\n",
    "# plt.plot([0, 1], [0, 1], linestyle='--', lw=2, color='r',\n",
    "#          label='Luck', alpha=.8)\n",
    "\n",
    "# mean_tpr = np.mean(tprs, axis=0)\n",
    "# mean_tpr[-1] = 1.0\n",
    "# mean_auc = auc(mean_fpr, mean_tpr)\n",
    "# std_auc = np.std(aucs)\n",
    "# plt.plot(mean_fpr, mean_tpr, color='b',\n",
    "#          label=r'Mean ROC (AUC = %0.2f $\\pm$ %0.2f)' % (mean_auc, std_auc),\n",
    "#          lw=2, alpha=.8)\n",
    "\n",
    "# std_tpr = np.std(tprs, axis=0)\n",
    "# tprs_upper = np.minimum(mean_tpr + std_tpr, 1)\n",
    "# tprs_lower = np.maximum(mean_tpr - std_tpr, 0)\n",
    "# plt.fill_between(mean_fpr, tprs_lower, tprs_upper, color='grey', alpha=.2,\n",
    "#                  label=r'$\\pm$ 1 std. dev.')\n",
    "\n",
    "# plt.xlim([-0.05, 1.05])\n",
    "# plt.ylim([-0.05, 1.05])\n",
    "# plt.xlabel('False Positive Rate')\n",
    "# plt.ylabel('True Positive Rate')\n",
    "# # plt.title('Receiver operating characteristic example')\n",
    "# plt.legend(loc=\"lower right\", frameon=False)\n",
    "# sns.despine()\n",
    "# plt.axis('scaled')\n",
    "# plt.savefig(\"CrossVal_ROC_10_Fold_LDO_depth8.png\", format='png', dpi=300, bbox_inches='tight')\n",
    "# plt.savefig(\"CrossVal_ROC_10_Fold_LDO_depth8.pdf\", format='pdf', dpi=300, bbox_inches='tight')\n",
    "# plt.show()"
   ]
  },
  {
   "cell_type": "code",
   "execution_count": 4,
   "metadata": {
    "scrolled": false
   },
   "outputs": [
    {
     "name": "stdout",
     "output_type": "stream",
     "text": [
      "Cross-validation\n"
     ]
    },
    {
     "data": {
      "application/vnd.jupyter.widget-view+json": {
       "model_id": "eeb1229121414ee48bdb68725031ac66",
       "version_major": 2,
       "version_minor": 0
      },
      "text/plain": [
       "HBox(children=(IntProgress(value=0, max=2613), HTML(value=u'')))"
      ]
     },
     "metadata": {},
     "output_type": "display_data"
    },
    {
     "name": "stdout",
     "output_type": "stream",
     "text": [
      "\n",
      "[0]\ttrain-auc:0.914354+0.0026466\ttest-auc:0.760392+0.00219508\n",
      "[1]\ttrain-auc:0.95093+0.00106183\ttest-auc:0.803424+0.00246177\n",
      "[2]\ttrain-auc:0.967291+0.000939786\ttest-auc:0.825552+0.00287424\n",
      "[3]\ttrain-auc:0.975768+0.000622061\ttest-auc:0.839298+0.00229618\n",
      "[4]\ttrain-auc:0.981128+0.000700178\ttest-auc:0.848224+0.0020433\n",
      "[5]\ttrain-auc:0.984509+0.000694566\ttest-auc:0.854609+0.00192559\n",
      "[6]\ttrain-auc:0.988179+0.000587531\ttest-auc:0.861497+0.0015167\n",
      "[7]\ttrain-auc:0.99022+0.00039085\ttest-auc:0.86625+0.00128232\n",
      "[8]\ttrain-auc:0.992068+0.000367238\ttest-auc:0.870303+0.00106052\n",
      "[9]\ttrain-auc:0.99359+0.000339417\ttest-auc:0.874205+0.0010357\n",
      "[10]\ttrain-auc:0.9947+0.000172023\ttest-auc:0.877606+0.000981973\n",
      "[11]\ttrain-auc:0.99555+0.000254913\ttest-auc:0.880346+0.00101328\n",
      "[12]\ttrain-auc:0.996301+0.000238311\ttest-auc:0.882843+0.00117316\n",
      "[13]\ttrain-auc:0.996898+0.000175942\ttest-auc:0.885234+0.00106002\n",
      "[14]\ttrain-auc:0.997404+0.000166991\ttest-auc:0.887137+0.000928144\n",
      "[15]\ttrain-auc:0.99792+0.000108286\ttest-auc:0.889107+0.000750889\n",
      "[16]\ttrain-auc:0.998276+0.000120152\ttest-auc:0.890929+0.000726542\n",
      "[17]\ttrain-auc:0.998587+0.000111849\ttest-auc:0.892606+0.000779363\n",
      "[18]\ttrain-auc:0.998809+7.90276e-05\ttest-auc:0.893983+0.000803718\n",
      "[19]\ttrain-auc:0.999009+6.90808e-05\ttest-auc:0.89533+0.000839124\n",
      "[20]\ttrain-auc:0.999158+6.80647e-05\ttest-auc:0.896497+0.000917934\n",
      "[21]\ttrain-auc:0.999308+4.27645e-05\ttest-auc:0.897604+0.000853362\n",
      "[22]\ttrain-auc:0.999437+3.17654e-05\ttest-auc:0.89872+0.000819715\n",
      "[23]\ttrain-auc:0.999542+2.69696e-05\ttest-auc:0.899858+0.000882305\n",
      "[24]\ttrain-auc:0.999615+2.77373e-05\ttest-auc:0.90078+0.000908461\n",
      "[25]\ttrain-auc:0.999671+2.50392e-05\ttest-auc:0.901655+0.000861702\n",
      "[26]\ttrain-auc:0.999724+1.76477e-05\ttest-auc:0.902586+0.000715565\n",
      "[27]\ttrain-auc:0.999772+1.40855e-05\ttest-auc:0.903432+0.000720473\n",
      "[28]\ttrain-auc:0.99981+1.46779e-05\ttest-auc:0.904211+0.000711088\n",
      "[29]\ttrain-auc:0.999841+9.2e-06\ttest-auc:0.904945+0.000892125\n",
      "[30]\ttrain-auc:0.999869+1.06508e-05\ttest-auc:0.905606+0.000931573\n",
      "[31]\ttrain-auc:0.999891+1.18895e-05\ttest-auc:0.906278+0.000904005\n",
      "[32]\ttrain-auc:0.999909+7.63151e-06\ttest-auc:0.906854+0.000853056\n",
      "[33]\ttrain-auc:0.999924+7.38647e-06\ttest-auc:0.907414+0.000879545\n",
      "[34]\ttrain-auc:0.999934+5.38145e-06\ttest-auc:0.907957+0.000912449\n",
      "[35]\ttrain-auc:0.999942+6.08605e-06\ttest-auc:0.908475+0.000886123\n",
      "[36]\ttrain-auc:0.99995+5.49181e-06\ttest-auc:0.908999+0.00088418\n",
      "[37]\ttrain-auc:0.999956+4.88262e-06\ttest-auc:0.909501+0.00085313\n",
      "[38]\ttrain-auc:0.999961+4.84149e-06\ttest-auc:0.909944+0.000845492\n",
      "[39]\ttrain-auc:0.999967+4.88262e-06\ttest-auc:0.910406+0.000877129\n",
      "[40]\ttrain-auc:0.999971+3.77359e-06\ttest-auc:0.910836+0.000842291\n",
      "[41]\ttrain-auc:0.999974+4.26146e-06\ttest-auc:0.911239+0.000785623\n",
      "[42]\ttrain-auc:0.999977+4.24264e-06\ttest-auc:0.911611+0.00083037\n",
      "[43]\ttrain-auc:0.999979+4.45421e-06\ttest-auc:0.91198+0.000777019\n",
      "[44]\ttrain-auc:0.999982+4.45421e-06\ttest-auc:0.912397+0.000744791\n",
      "[45]\ttrain-auc:0.999984+5.03587e-06\ttest-auc:0.912809+0.000738758\n",
      "[46]\ttrain-auc:0.999985+5.49181e-06\ttest-auc:0.913103+0.000756895\n",
      "[47]\ttrain-auc:0.999987+4.74974e-06\ttest-auc:0.913515+0.000751127\n",
      "[48]\ttrain-auc:0.999988+4.4e-06\ttest-auc:0.913923+0.000768864\n",
      "[49]\ttrain-auc:0.99999+3.65513e-06\ttest-auc:0.914294+0.00078411\n"
     ]
    },
    {
     "data": {
      "text/html": [
       "<div>\n",
       "<style scoped>\n",
       "    .dataframe tbody tr th:only-of-type {\n",
       "        vertical-align: middle;\n",
       "    }\n",
       "\n",
       "    .dataframe tbody tr th {\n",
       "        vertical-align: top;\n",
       "    }\n",
       "\n",
       "    .dataframe thead th {\n",
       "        text-align: right;\n",
       "    }\n",
       "</style>\n",
       "<table border=\"1\" class=\"dataframe\">\n",
       "  <thead>\n",
       "    <tr style=\"text-align: right;\">\n",
       "      <th></th>\n",
       "      <th>test-auc-mean</th>\n",
       "      <th>test-auc-std</th>\n",
       "      <th>train-auc-mean</th>\n",
       "      <th>train-auc-std</th>\n",
       "    </tr>\n",
       "  </thead>\n",
       "  <tbody>\n",
       "    <tr>\n",
       "      <th>0</th>\n",
       "      <td>0.760392</td>\n",
       "      <td>0.002195</td>\n",
       "      <td>0.914354</td>\n",
       "      <td>0.002647</td>\n",
       "    </tr>\n",
       "    <tr>\n",
       "      <th>1</th>\n",
       "      <td>0.803424</td>\n",
       "      <td>0.002462</td>\n",
       "      <td>0.950930</td>\n",
       "      <td>0.001062</td>\n",
       "    </tr>\n",
       "    <tr>\n",
       "      <th>2</th>\n",
       "      <td>0.825552</td>\n",
       "      <td>0.002874</td>\n",
       "      <td>0.967291</td>\n",
       "      <td>0.000940</td>\n",
       "    </tr>\n",
       "    <tr>\n",
       "      <th>3</th>\n",
       "      <td>0.839298</td>\n",
       "      <td>0.002296</td>\n",
       "      <td>0.975768</td>\n",
       "      <td>0.000622</td>\n",
       "    </tr>\n",
       "    <tr>\n",
       "      <th>4</th>\n",
       "      <td>0.848224</td>\n",
       "      <td>0.002043</td>\n",
       "      <td>0.981128</td>\n",
       "      <td>0.000700</td>\n",
       "    </tr>\n",
       "    <tr>\n",
       "      <th>5</th>\n",
       "      <td>0.854609</td>\n",
       "      <td>0.001926</td>\n",
       "      <td>0.984509</td>\n",
       "      <td>0.000695</td>\n",
       "    </tr>\n",
       "    <tr>\n",
       "      <th>6</th>\n",
       "      <td>0.861497</td>\n",
       "      <td>0.001517</td>\n",
       "      <td>0.988179</td>\n",
       "      <td>0.000588</td>\n",
       "    </tr>\n",
       "    <tr>\n",
       "      <th>7</th>\n",
       "      <td>0.866250</td>\n",
       "      <td>0.001282</td>\n",
       "      <td>0.990220</td>\n",
       "      <td>0.000391</td>\n",
       "    </tr>\n",
       "    <tr>\n",
       "      <th>8</th>\n",
       "      <td>0.870303</td>\n",
       "      <td>0.001061</td>\n",
       "      <td>0.992068</td>\n",
       "      <td>0.000367</td>\n",
       "    </tr>\n",
       "    <tr>\n",
       "      <th>9</th>\n",
       "      <td>0.874205</td>\n",
       "      <td>0.001036</td>\n",
       "      <td>0.993590</td>\n",
       "      <td>0.000339</td>\n",
       "    </tr>\n",
       "    <tr>\n",
       "      <th>10</th>\n",
       "      <td>0.877606</td>\n",
       "      <td>0.000982</td>\n",
       "      <td>0.994700</td>\n",
       "      <td>0.000172</td>\n",
       "    </tr>\n",
       "    <tr>\n",
       "      <th>11</th>\n",
       "      <td>0.880346</td>\n",
       "      <td>0.001013</td>\n",
       "      <td>0.995550</td>\n",
       "      <td>0.000255</td>\n",
       "    </tr>\n",
       "    <tr>\n",
       "      <th>12</th>\n",
       "      <td>0.882843</td>\n",
       "      <td>0.001173</td>\n",
       "      <td>0.996301</td>\n",
       "      <td>0.000238</td>\n",
       "    </tr>\n",
       "    <tr>\n",
       "      <th>13</th>\n",
       "      <td>0.885234</td>\n",
       "      <td>0.001060</td>\n",
       "      <td>0.996898</td>\n",
       "      <td>0.000176</td>\n",
       "    </tr>\n",
       "    <tr>\n",
       "      <th>14</th>\n",
       "      <td>0.887137</td>\n",
       "      <td>0.000928</td>\n",
       "      <td>0.997404</td>\n",
       "      <td>0.000167</td>\n",
       "    </tr>\n",
       "    <tr>\n",
       "      <th>15</th>\n",
       "      <td>0.889107</td>\n",
       "      <td>0.000751</td>\n",
       "      <td>0.997920</td>\n",
       "      <td>0.000108</td>\n",
       "    </tr>\n",
       "    <tr>\n",
       "      <th>16</th>\n",
       "      <td>0.890929</td>\n",
       "      <td>0.000727</td>\n",
       "      <td>0.998276</td>\n",
       "      <td>0.000120</td>\n",
       "    </tr>\n",
       "    <tr>\n",
       "      <th>17</th>\n",
       "      <td>0.892606</td>\n",
       "      <td>0.000779</td>\n",
       "      <td>0.998587</td>\n",
       "      <td>0.000112</td>\n",
       "    </tr>\n",
       "    <tr>\n",
       "      <th>18</th>\n",
       "      <td>0.893983</td>\n",
       "      <td>0.000804</td>\n",
       "      <td>0.998809</td>\n",
       "      <td>0.000079</td>\n",
       "    </tr>\n",
       "    <tr>\n",
       "      <th>19</th>\n",
       "      <td>0.895330</td>\n",
       "      <td>0.000839</td>\n",
       "      <td>0.999009</td>\n",
       "      <td>0.000069</td>\n",
       "    </tr>\n",
       "    <tr>\n",
       "      <th>20</th>\n",
       "      <td>0.896497</td>\n",
       "      <td>0.000918</td>\n",
       "      <td>0.999158</td>\n",
       "      <td>0.000068</td>\n",
       "    </tr>\n",
       "    <tr>\n",
       "      <th>21</th>\n",
       "      <td>0.897604</td>\n",
       "      <td>0.000853</td>\n",
       "      <td>0.999308</td>\n",
       "      <td>0.000043</td>\n",
       "    </tr>\n",
       "    <tr>\n",
       "      <th>22</th>\n",
       "      <td>0.898720</td>\n",
       "      <td>0.000820</td>\n",
       "      <td>0.999437</td>\n",
       "      <td>0.000032</td>\n",
       "    </tr>\n",
       "    <tr>\n",
       "      <th>23</th>\n",
       "      <td>0.899858</td>\n",
       "      <td>0.000882</td>\n",
       "      <td>0.999542</td>\n",
       "      <td>0.000027</td>\n",
       "    </tr>\n",
       "    <tr>\n",
       "      <th>24</th>\n",
       "      <td>0.900780</td>\n",
       "      <td>0.000908</td>\n",
       "      <td>0.999615</td>\n",
       "      <td>0.000028</td>\n",
       "    </tr>\n",
       "    <tr>\n",
       "      <th>25</th>\n",
       "      <td>0.901655</td>\n",
       "      <td>0.000862</td>\n",
       "      <td>0.999671</td>\n",
       "      <td>0.000025</td>\n",
       "    </tr>\n",
       "    <tr>\n",
       "      <th>26</th>\n",
       "      <td>0.902586</td>\n",
       "      <td>0.000716</td>\n",
       "      <td>0.999724</td>\n",
       "      <td>0.000018</td>\n",
       "    </tr>\n",
       "    <tr>\n",
       "      <th>27</th>\n",
       "      <td>0.903432</td>\n",
       "      <td>0.000720</td>\n",
       "      <td>0.999772</td>\n",
       "      <td>0.000014</td>\n",
       "    </tr>\n",
       "    <tr>\n",
       "      <th>28</th>\n",
       "      <td>0.904211</td>\n",
       "      <td>0.000711</td>\n",
       "      <td>0.999810</td>\n",
       "      <td>0.000015</td>\n",
       "    </tr>\n",
       "    <tr>\n",
       "      <th>29</th>\n",
       "      <td>0.904945</td>\n",
       "      <td>0.000892</td>\n",
       "      <td>0.999841</td>\n",
       "      <td>0.000009</td>\n",
       "    </tr>\n",
       "    <tr>\n",
       "      <th>30</th>\n",
       "      <td>0.905606</td>\n",
       "      <td>0.000932</td>\n",
       "      <td>0.999869</td>\n",
       "      <td>0.000011</td>\n",
       "    </tr>\n",
       "    <tr>\n",
       "      <th>31</th>\n",
       "      <td>0.906278</td>\n",
       "      <td>0.000904</td>\n",
       "      <td>0.999891</td>\n",
       "      <td>0.000012</td>\n",
       "    </tr>\n",
       "    <tr>\n",
       "      <th>32</th>\n",
       "      <td>0.906854</td>\n",
       "      <td>0.000853</td>\n",
       "      <td>0.999909</td>\n",
       "      <td>0.000008</td>\n",
       "    </tr>\n",
       "    <tr>\n",
       "      <th>33</th>\n",
       "      <td>0.907414</td>\n",
       "      <td>0.000880</td>\n",
       "      <td>0.999924</td>\n",
       "      <td>0.000007</td>\n",
       "    </tr>\n",
       "    <tr>\n",
       "      <th>34</th>\n",
       "      <td>0.907957</td>\n",
       "      <td>0.000912</td>\n",
       "      <td>0.999934</td>\n",
       "      <td>0.000005</td>\n",
       "    </tr>\n",
       "    <tr>\n",
       "      <th>35</th>\n",
       "      <td>0.908475</td>\n",
       "      <td>0.000886</td>\n",
       "      <td>0.999942</td>\n",
       "      <td>0.000006</td>\n",
       "    </tr>\n",
       "    <tr>\n",
       "      <th>36</th>\n",
       "      <td>0.908999</td>\n",
       "      <td>0.000884</td>\n",
       "      <td>0.999950</td>\n",
       "      <td>0.000005</td>\n",
       "    </tr>\n",
       "    <tr>\n",
       "      <th>37</th>\n",
       "      <td>0.909501</td>\n",
       "      <td>0.000853</td>\n",
       "      <td>0.999956</td>\n",
       "      <td>0.000005</td>\n",
       "    </tr>\n",
       "    <tr>\n",
       "      <th>38</th>\n",
       "      <td>0.909944</td>\n",
       "      <td>0.000845</td>\n",
       "      <td>0.999961</td>\n",
       "      <td>0.000005</td>\n",
       "    </tr>\n",
       "    <tr>\n",
       "      <th>39</th>\n",
       "      <td>0.910406</td>\n",
       "      <td>0.000877</td>\n",
       "      <td>0.999967</td>\n",
       "      <td>0.000005</td>\n",
       "    </tr>\n",
       "    <tr>\n",
       "      <th>40</th>\n",
       "      <td>0.910836</td>\n",
       "      <td>0.000842</td>\n",
       "      <td>0.999971</td>\n",
       "      <td>0.000004</td>\n",
       "    </tr>\n",
       "    <tr>\n",
       "      <th>41</th>\n",
       "      <td>0.911239</td>\n",
       "      <td>0.000786</td>\n",
       "      <td>0.999974</td>\n",
       "      <td>0.000004</td>\n",
       "    </tr>\n",
       "    <tr>\n",
       "      <th>42</th>\n",
       "      <td>0.911611</td>\n",
       "      <td>0.000830</td>\n",
       "      <td>0.999977</td>\n",
       "      <td>0.000004</td>\n",
       "    </tr>\n",
       "    <tr>\n",
       "      <th>43</th>\n",
       "      <td>0.911980</td>\n",
       "      <td>0.000777</td>\n",
       "      <td>0.999979</td>\n",
       "      <td>0.000004</td>\n",
       "    </tr>\n",
       "    <tr>\n",
       "      <th>44</th>\n",
       "      <td>0.912397</td>\n",
       "      <td>0.000745</td>\n",
       "      <td>0.999982</td>\n",
       "      <td>0.000004</td>\n",
       "    </tr>\n",
       "    <tr>\n",
       "      <th>45</th>\n",
       "      <td>0.912809</td>\n",
       "      <td>0.000739</td>\n",
       "      <td>0.999984</td>\n",
       "      <td>0.000005</td>\n",
       "    </tr>\n",
       "    <tr>\n",
       "      <th>46</th>\n",
       "      <td>0.913103</td>\n",
       "      <td>0.000757</td>\n",
       "      <td>0.999985</td>\n",
       "      <td>0.000005</td>\n",
       "    </tr>\n",
       "    <tr>\n",
       "      <th>47</th>\n",
       "      <td>0.913515</td>\n",
       "      <td>0.000751</td>\n",
       "      <td>0.999987</td>\n",
       "      <td>0.000005</td>\n",
       "    </tr>\n",
       "    <tr>\n",
       "      <th>48</th>\n",
       "      <td>0.913923</td>\n",
       "      <td>0.000769</td>\n",
       "      <td>0.999988</td>\n",
       "      <td>0.000004</td>\n",
       "    </tr>\n",
       "    <tr>\n",
       "      <th>49</th>\n",
       "      <td>0.914294</td>\n",
       "      <td>0.000784</td>\n",
       "      <td>0.999990</td>\n",
       "      <td>0.000004</td>\n",
       "    </tr>\n",
       "  </tbody>\n",
       "</table>\n",
       "</div>"
      ],
      "text/plain": [
       "    test-auc-mean  test-auc-std  train-auc-mean  train-auc-std\n",
       "0        0.760392      0.002195        0.914354       0.002647\n",
       "1        0.803424      0.002462        0.950930       0.001062\n",
       "2        0.825552      0.002874        0.967291       0.000940\n",
       "3        0.839298      0.002296        0.975768       0.000622\n",
       "4        0.848224      0.002043        0.981128       0.000700\n",
       "5        0.854609      0.001926        0.984509       0.000695\n",
       "6        0.861497      0.001517        0.988179       0.000588\n",
       "7        0.866250      0.001282        0.990220       0.000391\n",
       "8        0.870303      0.001061        0.992068       0.000367\n",
       "9        0.874205      0.001036        0.993590       0.000339\n",
       "10       0.877606      0.000982        0.994700       0.000172\n",
       "11       0.880346      0.001013        0.995550       0.000255\n",
       "12       0.882843      0.001173        0.996301       0.000238\n",
       "13       0.885234      0.001060        0.996898       0.000176\n",
       "14       0.887137      0.000928        0.997404       0.000167\n",
       "15       0.889107      0.000751        0.997920       0.000108\n",
       "16       0.890929      0.000727        0.998276       0.000120\n",
       "17       0.892606      0.000779        0.998587       0.000112\n",
       "18       0.893983      0.000804        0.998809       0.000079\n",
       "19       0.895330      0.000839        0.999009       0.000069\n",
       "20       0.896497      0.000918        0.999158       0.000068\n",
       "21       0.897604      0.000853        0.999308       0.000043\n",
       "22       0.898720      0.000820        0.999437       0.000032\n",
       "23       0.899858      0.000882        0.999542       0.000027\n",
       "24       0.900780      0.000908        0.999615       0.000028\n",
       "25       0.901655      0.000862        0.999671       0.000025\n",
       "26       0.902586      0.000716        0.999724       0.000018\n",
       "27       0.903432      0.000720        0.999772       0.000014\n",
       "28       0.904211      0.000711        0.999810       0.000015\n",
       "29       0.904945      0.000892        0.999841       0.000009\n",
       "30       0.905606      0.000932        0.999869       0.000011\n",
       "31       0.906278      0.000904        0.999891       0.000012\n",
       "32       0.906854      0.000853        0.999909       0.000008\n",
       "33       0.907414      0.000880        0.999924       0.000007\n",
       "34       0.907957      0.000912        0.999934       0.000005\n",
       "35       0.908475      0.000886        0.999942       0.000006\n",
       "36       0.908999      0.000884        0.999950       0.000005\n",
       "37       0.909501      0.000853        0.999956       0.000005\n",
       "38       0.909944      0.000845        0.999961       0.000005\n",
       "39       0.910406      0.000877        0.999967       0.000005\n",
       "40       0.910836      0.000842        0.999971       0.000004\n",
       "41       0.911239      0.000786        0.999974       0.000004\n",
       "42       0.911611      0.000830        0.999977       0.000004\n",
       "43       0.911980      0.000777        0.999979       0.000004\n",
       "44       0.912397      0.000745        0.999982       0.000004\n",
       "45       0.912809      0.000739        0.999984       0.000005\n",
       "46       0.913103      0.000757        0.999985       0.000005\n",
       "47       0.913515      0.000751        0.999987       0.000005\n",
       "48       0.913923      0.000769        0.999988       0.000004\n",
       "49       0.914294      0.000784        0.999990       0.000004"
      ]
     },
     "execution_count": 4,
     "metadata": {},
     "output_type": "execute_result"
    }
   ],
   "source": [
    "param = {'max_depth': 16, 'n_estimators': 100, 'eta': 0.1, 'silent': 1, 'objective': 'binary:logistic'}\n",
    "param['nthread'] = 20\n",
    "param['eval_metric'] = 'auc'\n",
    "num_round = 50\n",
    "\n",
    "print 'Cross-validation'\n",
    "train_desc = np.zeros((0, 128))\n",
    "train_labels = np.zeros((0, 1))\n",
    "for i in tqdm_notebook(X):\n",
    "    train_desc = np.r_[train_desc, descs[i]]\n",
    "    train_labels = np.r_[train_labels, np.tile(gt.loc[i, bp], (np.shape(descs[i])[0], 1))]\n",
    "\n",
    "dtrain = xgb.DMatrix(train_desc, label=np.ravel(train_labels))\n",
    "xgb.cv(param, dtrain, num_round, nfold=5, metrics={'auc'}, seed=0,\n",
    "       callbacks=[xgb.callback.print_evaluation(show_stdv=True)])"
   ]
  },
  {
   "cell_type": "code",
   "execution_count": null,
   "metadata": {},
   "outputs": [],
   "source": []
  },
  {
   "cell_type": "code",
   "execution_count": null,
   "metadata": {},
   "outputs": [],
   "source": []
  },
  {
   "cell_type": "code",
   "execution_count": null,
   "metadata": {},
   "outputs": [],
   "source": []
  },
  {
   "cell_type": "code",
   "execution_count": null,
   "metadata": {},
   "outputs": [],
   "source": [
    "dasdfaf"
   ]
  },
  {
   "cell_type": "code",
   "execution_count": null,
   "metadata": {},
   "outputs": [],
   "source": []
  },
  {
   "cell_type": "code",
   "execution_count": null,
   "metadata": {},
   "outputs": [],
   "source": []
  },
  {
   "cell_type": "code",
   "execution_count": null,
   "metadata": {},
   "outputs": [],
   "source": []
  },
  {
   "cell_type": "code",
   "execution_count": null,
   "metadata": {},
   "outputs": [],
   "source": []
  },
  {
   "cell_type": "code",
   "execution_count": null,
   "metadata": {
    "ExecuteTime": {
     "end_time": "2018-08-08T19:03:29Z",
     "start_time": "2018-08-08T18:41:10.348Z"
    }
   },
   "outputs": [],
   "source": [
    "from __future__ import print_function\n",
    "\n",
    "from sklearn.model_selection import train_test_split\n",
    "from sklearn.model_selection import StratifiedKFold\n",
    "from scipy import interp\n",
    "\n",
    "X = gt.index.values\n",
    "y = gt.loc[:, 'RightDorsalOrgan']\n",
    "mean_fpr = np.linspace(0, 1, 100)\n",
    "tprs = []\n",
    "aucs = []\n",
    "cv = StratifiedKFold(n_splits=5)\n",
    "sns.set(style=\"whitegrid\", font_scale=2)\n",
    "fig, ax = plt.subplots(1, 1, figsize=(10, 10))\n",
    "\n",
    "## Best parameters based on gridSearch are 64 and 100\n",
    "# rf = RandomForestClassifier(max_depth=64, n_estimators=128, n_jobs=16)\n",
    "# rf = RandomForestClassifier(max_depth=32, n_estimators=64, n_jobs=16)\n",
    "rf = RandomForestClassifier(max_depth=16, n_estimators=32, n_jobs=16)\n",
    "\n",
    "cnt = 0\n",
    "for train, test in cv.split(X, y):\n",
    "    print('CrossVal Round', cnt+1)\n",
    "    train_desc = np.zeros((0,128))\n",
    "    train_labels = np.zeros((0,1))\n",
    "    print('Training.......')\n",
    "    for i in tqdm_notebook(train):\n",
    "        train_desc = np.r_[train_desc, descs[i]]\n",
    "        train_labels = np.r_[train_labels, np.tile(gt.loc[i, 'RightDorsalOrgan'], (np.shape(descs[i])[0], 1))]\n",
    "    rf.fit(train_desc, np.ravel(train_labels))\n",
    "    \n",
    "    print('Testing.......')\n",
    "    test_desc = np.zeros((0,128))\n",
    "    test_labels = np.zeros((0,1))\n",
    "    probas_ = []\n",
    "    for i in tqdm_notebook(test):\n",
    "        pred = rf.predict(descs[i])\n",
    "        probas_.append(np.mean(pred))\n",
    "        test_labels = np.r_[test_labels, np.reshape(np.array([gt.loc[i, 'RightDorsalOrgan']]), (1,1))]\n",
    "\n",
    "    # Compute ROC curve and area the curve\n",
    "    fpr, tpr, thresholds = roc_curve(test_labels, np.array(probas_))\n",
    "    tprs.append(interp(mean_fpr, fpr, tpr))\n",
    "    tprs[-1][0] = 0.0\n",
    "    roc_auc = auc(fpr, tpr)\n",
    "    aucs.append(roc_auc)\n",
    "    plt.plot(fpr, tpr, lw=1, alpha=0.3, label='ROC fold %d (AUC = %0.2f)' % (cnt, roc_auc))\n",
    "    cnt += 1\n",
    "\n",
    "tprs_mat = np.array(tprs)\n",
    "tprs_mat.dump(\"tprs_mat_RDO_depth16.dat\")\n",
    "\n",
    "aucs_mat = np.array(aucs)\n",
    "aucs_mat.dump(\"aucs_mat_RDO_depth16.dat\")\n",
    "\n",
    "plt.plot([0, 1], [0, 1], linestyle='--', lw=2, color='r',\n",
    "         label='Luck', alpha=.8)\n",
    "\n",
    "mean_tpr = np.mean(tprs, axis=0)\n",
    "mean_tpr[-1] = 1.0\n",
    "mean_auc = auc(mean_fpr, mean_tpr)\n",
    "std_auc = np.std(aucs)\n",
    "plt.plot(mean_fpr, mean_tpr, color='b',\n",
    "         label=r'Mean ROC (AUC = %0.2f $\\pm$ %0.2f)' % (mean_auc, std_auc),\n",
    "         lw=2, alpha=.8)\n",
    "\n",
    "std_tpr = np.std(tprs, axis=0)\n",
    "tprs_upper = np.minimum(mean_tpr + std_tpr, 1)\n",
    "tprs_lower = np.maximum(mean_tpr - std_tpr, 0)\n",
    "plt.fill_between(mean_fpr, tprs_lower, tprs_upper, color='grey', alpha=.2,\n",
    "                 label=r'$\\pm$ 1 std. dev.')\n",
    "\n",
    "plt.xlim([-0.05, 1.05])\n",
    "plt.ylim([-0.05, 1.05])\n",
    "plt.xlabel('False Positive Rate')\n",
    "plt.ylabel('True Positive Rate')\n",
    "# plt.title('Receiver operating characteristic example')\n",
    "plt.legend(loc=\"lower right\", frameon=False)\n",
    "sns.despine()\n",
    "plt.axis('scaled')\n",
    "plt.savefig(\"CrossVal_ROC_10_Fold_RDO_depth16.png\", format='png', dpi=300, bbox_inches='tight')\n",
    "plt.savefig(\"CrossVal_ROC_10_Fold_RDO_depth16.pdf\", format='pdf', dpi=300, bbox_inches='tight')\n",
    "plt.show()"
   ]
  },
  {
   "cell_type": "code",
   "execution_count": null,
   "metadata": {
    "ExecuteTime": {
     "end_time": "2018-08-08T19:03:29.002000Z",
     "start_time": "2018-08-08T18:41:10.350Z"
    }
   },
   "outputs": [],
   "source": [
    "print(asfasfag)"
   ]
  },
  {
   "cell_type": "code",
   "execution_count": null,
   "metadata": {},
   "outputs": [],
   "source": []
  },
  {
   "cell_type": "code",
   "execution_count": null,
   "metadata": {
    "ExecuteTime": {
     "end_time": "2018-08-08T19:03:29.005000Z",
     "start_time": "2018-08-08T18:41:10.354Z"
    },
    "code_folding": [
     25,
     27,
     29,
     31
    ]
   },
   "outputs": [],
   "source": [
    "from __future__ import print_function\n",
    "\n",
    "from sklearn.model_selection import train_test_split, StratifiedKFold\n",
    "from sklearn.metrics import precision_recall_fscore_support\n",
    "from scipy import interp\n",
    "\n",
    "X = gt.index.values\n",
    "y = gt.loc[:, 'LeftDorsalOrgan']\n",
    "X_train, X_test, y_train, y_test = train_test_split(X, y, test_size=0.5, random_state=0)\n",
    "\n",
    "nsplits = 3\n",
    "cv = StratifiedKFold(n_splits=nsplits)\n",
    "\n",
    "# Set the parameters by cross-validation\n",
    "tuned_parameters = {'max_depth': [16, 32, 64, 128, 256],\n",
    "                     'n_estimators': [1, 10, 100, 1000]}\n",
    "\n",
    "scores = ['precision', 'recall']\n",
    "\n",
    "mean_fpr = np.linspace(0, 1, 100)\n",
    "tprs = []\n",
    "aucs = []\n",
    "\n",
    "tprs = []\n",
    "\n",
    "grid_precision = np.zeros((nsplits, len(tuned_parameters['max_depth']),\n",
    "                      len(tuned_parameters['n_estimators'])))\n",
    "grid_recall = np.zeros((nsplits, len(tuned_parameters['max_depth']),\n",
    "                      len(tuned_parameters['n_estimators'])))\n",
    "grid_f1 = np.zeros((nsplits, len(tuned_parameters['max_depth']),\n",
    "                      len(tuned_parameters['n_estimators'])))\n",
    "grid_auc = np.zeros((nsplits, len(tuned_parameters['max_depth']),\n",
    "                      len(tuned_parameters['n_estimators'])))\n",
    "\n",
    "sp = -1\n",
    "for train, test in cv.split(X_train, y_train):\n",
    "    sp += 1\n",
    "    train_desc = np.zeros((0,128))\n",
    "    train_labels = np.zeros((0,1))\n",
    "    for i in train:\n",
    "        train_desc = np.r_[train_desc, descs[i]]\n",
    "        train_labels = np.r_[train_labels, np.tile(gt.loc[i, 'LeftDorsalOrgan'], (np.shape(descs[i])[0], 1))]\n",
    "    \n",
    "    for i_est, est in enumerate(tuned_parameters['n_estimators']):\n",
    "        for i_dep, dep in enumerate(tuned_parameters['max_depth']):\n",
    "            rf = RandomForestClassifier(max_depth=dep, n_estimators=est)\n",
    "            rf.fit(train_desc, np.ravel(train_labels))\n",
    "            \n",
    "            test_desc = np.zeros((0,128))\n",
    "            test_labels = np.zeros((0,1))\n",
    "            probas_ = []\n",
    "            for i in test:\n",
    "                pred = rf.predict(descs[i])\n",
    "                probas_.append(np.mean(pred))\n",
    "                test_labels = np.r_[test_labels, np.reshape(np.array([gt.loc[i, 'LeftDorsalOrgan']]), (1,1))]\n",
    "\n",
    "            # Compute ROC curve and area the curve\n",
    "            fpr, tpr, thresholds = roc_curve(test_labels, np.array(probas_))\n",
    "            grid_auc[sp, i_dep, i_est] = auc(fpr, tpr)\n",
    "            \n",
    "#             prec, recl, f1, _ = precision_recall_fscore_support(test_labels, np.array(probas_), average='weighted')\n",
    "#             grid_precision[sp, i_dep, i_est] = prec.copy()\n",
    "#             grid_precision[sp, i_dep, i_est] = recl.copy()\n",
    "#             grid_precision[sp, i_dep, i_est] = f1.copy()\n",
    "\n",
    "grid_auc.dump(\"grid_auc_10.dat\")\n",
    "mat2 = np.load(\"grid_auc_10.dat\")"
   ]
  },
  {
   "cell_type": "code",
   "execution_count": null,
   "metadata": {
    "ExecuteTime": {
     "end_time": "2018-08-07T19:03:27.886950Z",
     "start_time": "2018-08-07T19:03:27.878307Z"
    }
   },
   "outputs": [],
   "source": []
  },
  {
   "cell_type": "code",
   "execution_count": null,
   "metadata": {
    "ExecuteTime": {
     "end_time": "2018-08-08T19:03:29.007000Z",
     "start_time": "2018-08-08T18:41:10.356Z"
    }
   },
   "outputs": [],
   "source": [
    "# df = pd.DataFrame(np.c_[thresholds.T, fpr.T, tpr.T], columns=['Threshold', 'FPR', 'TPR'])\n",
    "# df.loc[:, 'FPR'] = df.loc[:, 'FPR'].copy()*100\n",
    "# df.loc[:, 'TPR'] = df.loc[:, 'TPR'].copy()*100\n",
    "# df.loc[:, ['TPR', 'FPR']] = df.loc[:, ['TPR', 'FPR']].round(0).copy()\n",
    "# tol_cutoff = 10.0\n",
    "\n",
    "# optimal_votes = df[df['FPR'] == tol_cutoff].iloc[0, 0]\n",
    "# optimal_tpr = df[df['FPR'] == tol_cutoff].iloc[0, 2]\n",
    "# optimal_fpr = df[df['FPR'] == tol_cutoff].iloc[0, 1]\n",
    "\n",
    "# print 'Optimal votes at %d percent FPR : %0.2f '%(optimal_fpr, optimal_votes) \n",
    "# print 'TPR at Optimal votes : ', optimal_tpr\n"
   ]
  },
  {
   "cell_type": "code",
   "execution_count": null,
   "metadata": {
    "ExecuteTime": {
     "end_time": "2018-08-08T19:03:29.009000Z",
     "start_time": "2018-08-08T18:41:10.359Z"
    }
   },
   "outputs": [],
   "source": [
    "# det = np.zeros_like(votes_use)\n",
    "# pos_frames = np.where(votes_use >= optimal_votes)\n",
    "# neg_frames = np.where(votes_use < optimal_votes)\n",
    "# det[pos_frames] = 1"
   ]
  },
  {
   "cell_type": "code",
   "execution_count": null,
   "metadata": {
    "ExecuteTime": {
     "end_time": "2018-08-08T19:03:29.011000Z",
     "start_time": "2018-08-08T18:41:10.361Z"
    }
   },
   "outputs": [],
   "source": [
    "# out_vid = 'temp.avi'\n",
    "# video_crop = cv2.VideoWriter(out_vid, 0, 5, (1920, 1920))\n",
    "# cap = cv2.VideoCapture(video_file)\n",
    "\n",
    "# first_frame = gt.index.values[0]\n",
    "# ind = -1\n",
    "# for frame_index, row in gt.iterrows():\n",
    "#     ind += 1\n",
    "#     if cap.isOpened():\n",
    "#         cap.set(1, frame_index)\n",
    "#         ret, frame = cap.read()\n",
    "#         if (ret == True):\n",
    "#             if votes_use[ind] >= optimal_votes:\n",
    "#                 cv2.circle(frame, (1800, 200), radius=30, color=(0, 255, 0), thickness=-1)\n",
    "#             else:\n",
    "#                 cv2.circle(frame, (1800, 200), radius=30, color=(0, 0, 255), thickness=-1)\n",
    "\n",
    "#             video_crop.write(frame)\n",
    "#     else:\n",
    "#         print 'Cap Not Opened'\n",
    "#         cap.release()\n",
    "\n",
    "# cap.release()\n",
    "# cv2.destroyAllWindows()\n",
    "# video_crop.release()"
   ]
  },
  {
   "cell_type": "code",
   "execution_count": null,
   "metadata": {
    "ExecuteTime": {
     "end_time": "2018-08-08T19:03:29.013000Z",
     "start_time": "2018-08-08T18:41:10.363Z"
    },
    "scrolled": false
   },
   "outputs": [],
   "source": [
    "# gt = {}\n",
    "# fpr = {}\n",
    "# tpr = {}\n",
    "# thresholds = {}\n",
    "# roc_auc = {}\n",
    "\n",
    "# train_data_pos = get_train_data(train_pos.copy())\n",
    "# train_data_neg = get_train_data(train_neg.copy())\n",
    "\n",
    "# fig_roc = plt.figure(figsize=(14, 12))\n",
    "# patch_sizes = np.arange(4, 17, 2)\n",
    "# patch_sigmas = np.arange(0.1, 11, 1)\n",
    "# detected_loc = {}\n",
    "# for vote_patch in patch_sizes:\n",
    "#     for vote_sigma in patch_sigmas:\n",
    "#         detected_loc = predict_locations_patchsize(train_data_pos, test_annotations, vote_patch, vote_sigma)\n",
    "#         gt, fpr, tpr, thresholds, roc_auc = plot_roc_curve_metrics(detected_loc, no_anno_df, ['Sum'])\n",
    "#         plt.plot(fpr, tpr, lw=2, label='R-%d S-%d (AUC = %0.2f)'%(vote_patch, vote_sigma, roc_auc))\n",
    "\n",
    "# plt.plot([0, 1], [0, 1], color='navy', lw=2, linestyle='--')\n",
    "# plt.xlim([-0.05, 1.05])\n",
    "# plt.ylim([-0.05, 1.05])\n",
    "# plt.xlabel('False Positive Rate')\n",
    "# plt.ylabel('True Positive Rate')\n",
    "# # plt.title(bp)\n",
    "# plt.legend(loc=\"lower right\", frameon=False)\n",
    "# plt.show()"
   ]
  },
  {
   "cell_type": "code",
   "execution_count": null,
   "metadata": {
    "ExecuteTime": {
     "end_time": "2018-08-06T18:02:07.672373Z",
     "start_time": "2018-08-06T18:02:05.427510Z"
    }
   },
   "outputs": [],
   "source": []
  },
  {
   "cell_type": "code",
   "execution_count": null,
   "metadata": {
    "ExecuteTime": {
     "end_time": "2018-08-06T18:13:35.776847Z",
     "start_time": "2018-08-06T18:13:35.765784Z"
    }
   },
   "outputs": [],
   "source": []
  },
  {
   "cell_type": "code",
   "execution_count": null,
   "metadata": {},
   "outputs": [],
   "source": []
  },
  {
   "cell_type": "code",
   "execution_count": null,
   "metadata": {},
   "outputs": [],
   "source": []
  },
  {
   "cell_type": "code",
   "execution_count": null,
   "metadata": {},
   "outputs": [],
   "source": []
  },
  {
   "cell_type": "code",
   "execution_count": null,
   "metadata": {},
   "outputs": [],
   "source": []
  },
  {
   "cell_type": "code",
   "execution_count": null,
   "metadata": {},
   "outputs": [],
   "source": []
  },
  {
   "cell_type": "code",
   "execution_count": null,
   "metadata": {},
   "outputs": [],
   "source": []
  },
  {
   "cell_type": "code",
   "execution_count": null,
   "metadata": {},
   "outputs": [],
   "source": []
  },
  {
   "cell_type": "code",
   "execution_count": null,
   "metadata": {},
   "outputs": [],
   "source": []
  },
  {
   "cell_type": "code",
   "execution_count": null,
   "metadata": {},
   "outputs": [],
   "source": []
  },
  {
   "cell_type": "code",
   "execution_count": null,
   "metadata": {},
   "outputs": [],
   "source": []
  },
  {
   "cell_type": "code",
   "execution_count": null,
   "metadata": {
    "ExecuteTime": {
     "end_time": "2018-08-08T19:03:29.015000Z",
     "start_time": "2018-08-08T18:41:10.386Z"
    }
   },
   "outputs": [],
   "source": [
    "# train_data_pos = get_train_data(train_pos.copy())\n",
    "# detected_loc = predict_locations(train_data_pos, test_annotations)\n",
    "\n",
    "# ground_truth = detected_loc.iloc[:, 17:].astype(dtype=np.uint16).copy()\n",
    "# ground_truth.loc[:, :] = 1\n",
    "# for rind, rval in no_anno_df.iterrows():\n",
    "#     if rval['index'] in detected_loc.index.values:\n",
    "#         ground_truth.loc[rval['index'], rval['col']+'_votes'] = 0\n",
    "# votes_use = detected_loc.iloc[:, 17:].astype(dtype=np.float32).copy()\n",
    "    \n",
    "# y_true = ground_truth['LeftDorsalOrgan_votes'].values\n",
    "# y_score = votes_use['LeftDorsalOrgan_votes'].values\n",
    "\n",
    "# # make y_true a boolean vector\n",
    "# y_true = (y_true == 1)\n",
    "\n",
    "# # sort scores and corresponding truth values\n",
    "# desc_score_indices = np.argsort(y_score, kind=\"mergesort\")[::-1]\n",
    "# y_score = y_score[desc_score_indices]\n",
    "# y_true = y_true[desc_score_indices]\n",
    "# weight = 1.\n",
    "\n",
    "# # y_score typically has many tied values. Here we extract\n",
    "# # the indices associated with the distinct values. We also\n",
    "# # concatenate a value for the end of the curve.\n",
    "# distinct_value_indices = np.where(np.diff(y_score))[0]\n",
    "# threshold_idxs = np.r_[distinct_value_indices, y_true.size - 1]\n",
    "\n",
    "# # accumulate the true positives with decreasing threshold\n",
    "# # tps = stable_cumsum(y_true * weight)[threshold_idxs]\n",
    "# tps = np.cumsum(y_true * weight)[threshold_idxs]\n",
    "# fps = 1 + threshold_idxs - tps\n",
    "\n",
    "# # return fps, tps, y_score[threshold_idxs]\n",
    "\n",
    "# fpr = fps / fps[-1]\n",
    "# tpr = tps / tps[-1]\n"
   ]
  },
  {
   "cell_type": "code",
   "execution_count": null,
   "metadata": {
    "ExecuteTime": {
     "end_time": "2018-08-08T19:03:29.017000Z",
     "start_time": "2018-08-08T18:41:10.388Z"
    }
   },
   "outputs": [],
   "source": [
    "# temp_coordinates = all_coordinates.loc[:, all_coordinates.columns.values[::2]]\n",
    "# total_negatives = temp_coordinates[temp_coordinates<0].count()\n",
    "# total_positives = temp_coordinates[temp_coordinates>=0].count()\n",
    "# posneg_df = pd.DataFrame([total_positives, total_negatives])\n",
    "# posneg_df.columns = distance_header\n",
    "# posneg_df.index = ['pos', 'neg']\n",
    "# posneg_df"
   ]
  },
  {
   "cell_type": "code",
   "execution_count": null,
   "metadata": {
    "ExecuteTime": {
     "end_time": "2018-08-08T19:03:29.019000Z",
     "start_time": "2018-08-08T18:41:10.390Z"
    }
   },
   "outputs": [],
   "source": [
    "# vote_patch_size = 30\n",
    "# vote_sigma = 15\n",
    "# bodypart_vote = np.zeros((2 * vote_patch_size + 1, 2 * vote_patch_size + 1), np.float)\n",
    "\n",
    "# for x in range(-vote_patch_size, vote_patch_size + 1):\n",
    "#     for y in range(-vote_patch_size, vote_patch_size + 1):\n",
    "#         bodypart_vote[y + vote_patch_size, x + vote_patch_size] = np.exp(-0.5 * (\n",
    "#             x * x + y * y) / (np.square(vote_sigma))) / (vote_sigma * np.sqrt(2 * np.pi))\n",
    "\n",
    "# imgplot = plt.imshow(bodypart_vote, cmap=\"hot\")\n",
    "# plt.colorbar()"
   ]
  },
  {
   "cell_type": "code",
   "execution_count": null,
   "metadata": {
    "scrolled": false
   },
   "outputs": [],
   "source": []
  }
 ],
 "metadata": {
  "kernelspec": {
   "display_name": "Python 2",
   "language": "python",
   "name": "python2"
  },
  "language_info": {
   "codemirror_mode": {
    "name": "ipython",
    "version": 2
   },
   "file_extension": ".py",
   "mimetype": "text/x-python",
   "name": "python",
   "nbconvert_exporter": "python",
   "pygments_lexer": "ipython2",
   "version": "2.7.15"
  },
  "varInspector": {
   "cols": {
    "lenName": 16,
    "lenType": 16,
    "lenVar": 40
   },
   "kernels_config": {
    "python": {
     "delete_cmd_postfix": "",
     "delete_cmd_prefix": "del ",
     "library": "var_list.py",
     "varRefreshCmd": "print(var_dic_list())"
    },
    "r": {
     "delete_cmd_postfix": ") ",
     "delete_cmd_prefix": "rm(",
     "library": "var_list.r",
     "varRefreshCmd": "cat(var_dic_list()) "
    }
   },
   "types_to_exclude": [
    "module",
    "function",
    "builtin_function_or_method",
    "instance",
    "_Feature"
   ],
   "window_display": false
  },
  "widgets": {
   "application/vnd.jupyter.widget-state+json": {
    "state": {},
    "version_major": 2,
    "version_minor": 0
   }
  }
 },
 "nbformat": 4,
 "nbformat_minor": 2
}
