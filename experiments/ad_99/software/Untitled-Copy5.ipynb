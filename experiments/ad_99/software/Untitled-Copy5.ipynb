{
 "cells": [
  {
   "cell_type": "code",
   "execution_count": 1,
   "metadata": {
    "ExecuteTime": {
     "end_time": "2018-08-08T18:41:12.124000Z",
     "start_time": "2018-08-08T18:41:10.760000Z"
    },
    "code_folding": [
     17,
     23
    ]
   },
   "outputs": [
    {
     "name": "stderr",
     "output_type": "stream",
     "text": [
      "C:\\Users\\Shaul\\Anaconda2\\lib\\site-packages\\h5py\\__init__.py:36: FutureWarning: Conversion of the second argument of issubdtype from `float` to `np.floating` is deprecated. In future, it will be treated as `np.float64 == np.dtype(float).type`.\n",
      "  from ._conv import register_converters as _register_converters\n"
     ]
    }
   ],
   "source": [
    "import numpy as np\n",
    "import pandas as pd\n",
    "import os\n",
    "import matplotlib\n",
    "import matplotlib.pyplot as plt\n",
    "from matplotlib import cm\n",
    "from pyflann import *\n",
    "from sklearn.neighbors import NearestNeighbors\n",
    "from sklearn.metrics import roc_curve, auc\n",
    "import cv2\n",
    "import csv\n",
    "import re\n",
    "from sklearn.ensemble import RandomForestClassifier\n",
    "import json\n",
    "from tqdm import tqdm_notebook\n",
    "import seaborn as sns\n",
    "import xgboost as xgb\n",
    "\n",
    "# %matplotlib notebook\n",
    "\n",
    "coordinate_header = ['FrameNumber', 'MouthHook_x', 'MouthHook_y', 'LeftMHhook_x', 'LeftMHhook_y',\n",
    "                     'RightMHhook_x', 'RightMHhook_y', 'LeftDorsalOrgan_x', 'LeftDorsalOrgan_y',\n",
    "                     'RightDorsalOrgan_x', 'RightDorsalOrgan_y', 'CenterBolwigOrgan_x', 'CenterBolwigOrgan_y',\n",
    "                     'LeftBolwigOrgan_x', 'LeftBolwigOrgan_y', 'RightBolwigOrgan_x', 'RightBolwigOrgan_y']\n",
    "\n",
    "distance_header = ['MouthHook', 'LeftMHhook',\n",
    "                   'RightMHhook', 'LeftDorsalOrgan', 'RightDorsalOrgan',\n",
    "                   'CenterBolwigOrgan', 'LeftBolwigOrgan', 'RightBolwigOrgan']\n",
    "\n",
    "project_dir=\"G:/My Drive/CRG_Dropbox/AljoComputer/Temp\"\n",
    "dir_keypoints=\"../expts/KeypointsAndDescriptors/validKeyPoints\"\n",
    "dir_descriptors=\"../expts/KeypointsAndDescriptors/descriptors\""
   ]
  },
  {
   "cell_type": "code",
   "execution_count": 2,
   "metadata": {
    "ExecuteTime": {
     "end_time": "2018-08-08T18:41:49.884000Z",
     "start_time": "2018-08-08T18:41:12.128000Z"
    }
   },
   "outputs": [
    {
     "name": "stdout",
     "output_type": "stream",
     "text": [
      "len(all_annotations): 2613\n",
      "len(descs): 2613\n"
     ]
    }
   ],
   "source": [
    "annotation_list = '../expts/annotation_list'\n",
    "all_annotations = []\n",
    "with open(annotation_list) as test_list:\n",
    "    for annotation_file in test_list:\n",
    "        annotation_file = project_dir + re.sub(\".*/20180417_BG57_Midpoint_200micron_30fps/\", \"/\", annotation_file.strip())\n",
    "        with open(annotation_file) as fin_annotation:\n",
    "            annotation = json.load(fin_annotation)\n",
    "            all_annotations.extend(annotation[\"Annotations\"])\n",
    "\n",
    "print \"len(all_annotations):\", len(all_annotations)\n",
    "\n",
    "gt = pd.DataFrame([])\n",
    "descs = []\n",
    "for ind, annotation in enumerate(all_annotations):\n",
    "    parent, file_name = os.path.split(annotation['FrameFile'])\n",
    "    file_name = os.path.splitext(file_name)[0]\n",
    "    _, parent_name = os.path.split(parent)\n",
    "    gt.loc[ind, 'FrameIndex'] = int(annotation['FrameIndexVideo'])\n",
    "    gt.loc[ind, 'FileName'] = str(file_name.strip())\n",
    "    gt.loc[ind, 'ParentName'] = str(parent_name.strip())\n",
    "    for bp in annotation['FrameValueCoordinates']:\n",
    "        if bp['Name'] == 'LeftDorsalOrgan':\n",
    "            if (bp['Value']['x_coordinate'] != -1) and (bp['Value']['y_coordinate'] != -1):\n",
    "                gt.loc[ind, 'LeftDorsalOrgan'] = 1\n",
    "            else:\n",
    "                gt.loc[ind, 'LeftDorsalOrgan'] = 0\n",
    "        elif bp['Name'] == 'RightDorsalOrgan':\n",
    "            if (bp['Value']['x_coordinate'] != -1) and (bp['Value']['y_coordinate'] != -1):\n",
    "                gt.loc[ind, 'RightDorsalOrgan'] = 1\n",
    "            else:\n",
    "                gt.loc[ind, 'RightDorsalOrgan'] = 0\n",
    "    desc_file = os.path.join(dir_descriptors, str(parent_name.strip()), str(file_name.strip() + '.csv'))\n",
    "    try:\n",
    "        temp = pd.read_csv(desc_file, sep='\\t', header=None)\n",
    "        descs.append(temp.values)\n",
    "    except:\n",
    "        temp = pd.DataFrame(np.zeros((1, 128)))\n",
    "        descs.append(temp.values)\n",
    "        continue\n",
    "\n",
    "print \"len(descs):\", len(descs)        "
   ]
  },
  {
   "cell_type": "code",
   "execution_count": 3,
   "metadata": {
    "ExecuteTime": {
     "end_time": "2018-08-08T19:03:27.847000Z",
     "start_time": "2018-08-08T18:41:49.889000Z"
    },
    "scrolled": false
   },
   "outputs": [
    {
     "name": "stdout",
     "output_type": "stream",
     "text": [
      "CrossVal Round 1\n",
      "Training.......\n"
     ]
    },
    {
     "data": {
      "application/vnd.jupyter.widget-view+json": {
       "model_id": "924874e2127242f89514071dc3ea6da7",
       "version_major": 2,
       "version_minor": 0
      },
      "text/plain": [
       "HBox(children=(IntProgress(value=0, max=1462), HTML(value=u'')))"
      ]
     },
     "metadata": {},
     "output_type": "display_data"
    },
    {
     "name": "stdout",
     "output_type": "stream",
     "text": [
      "\n"
     ]
    },
    {
     "data": {
      "application/vnd.jupyter.widget-view+json": {
       "model_id": "7fc6eccc3dde4eea9519c55b28f3c4a5",
       "version_major": 2,
       "version_minor": 0
      },
      "text/plain": [
       "HBox(children=(IntProgress(value=0, max=627), HTML(value=u'')))"
      ]
     },
     "metadata": {},
     "output_type": "display_data"
    },
    {
     "name": "stdout",
     "output_type": "stream",
     "text": [
      "\n",
      "[0]\teval-auc:0.719782\ttrain-auc:0.743268\n",
      "[1]\teval-auc:0.743766\ttrain-auc:0.770712\n",
      "[2]\teval-auc:0.757766\ttrain-auc:0.785291\n",
      "[3]\teval-auc:0.763592\ttrain-auc:0.793344\n",
      "[4]\teval-auc:0.772296\ttrain-auc:0.8041\n",
      "[5]\teval-auc:0.776405\ttrain-auc:0.808996\n",
      "[6]\teval-auc:0.780579\ttrain-auc:0.814907\n",
      "[7]\teval-auc:0.784487\ttrain-auc:0.820527\n",
      "[8]\teval-auc:0.78782\ttrain-auc:0.82468\n",
      "[9]\teval-auc:0.790736\ttrain-auc:0.828192\n",
      "[10]\teval-auc:0.793115\ttrain-auc:0.831674\n",
      "[11]\teval-auc:0.795464\ttrain-auc:0.834412\n",
      "[12]\teval-auc:0.798212\ttrain-auc:0.838152\n",
      "[13]\teval-auc:0.801306\ttrain-auc:0.842156\n",
      "[14]\teval-auc:0.803791\ttrain-auc:0.845786\n",
      "[15]\teval-auc:0.80622\ttrain-auc:0.849515\n",
      "[16]\teval-auc:0.80773\ttrain-auc:0.852072\n",
      "[17]\teval-auc:0.809896\ttrain-auc:0.854952\n",
      "[18]\teval-auc:0.811814\ttrain-auc:0.858103\n",
      "[19]\teval-auc:0.813166\ttrain-auc:0.860304\n",
      "[20]\teval-auc:0.814875\ttrain-auc:0.862936\n",
      "[21]\teval-auc:0.81654\ttrain-auc:0.865064\n",
      "[22]\teval-auc:0.817541\ttrain-auc:0.867119\n",
      "[23]\teval-auc:0.819077\ttrain-auc:0.869671\n",
      "[24]\teval-auc:0.820363\ttrain-auc:0.871554\n",
      "[25]\teval-auc:0.821459\ttrain-auc:0.873436\n",
      "[26]\teval-auc:0.822568\ttrain-auc:0.87525\n",
      "[27]\teval-auc:0.823345\ttrain-auc:0.876531\n",
      "[28]\teval-auc:0.824809\ttrain-auc:0.878862\n",
      "[29]\teval-auc:0.825992\ttrain-auc:0.880388\n",
      "[30]\teval-auc:0.826787\ttrain-auc:0.881975\n",
      "[31]\teval-auc:0.827476\ttrain-auc:0.882937\n",
      "[32]\teval-auc:0.828675\ttrain-auc:0.885327\n",
      "[33]\teval-auc:0.829811\ttrain-auc:0.886761\n",
      "[34]\teval-auc:0.830702\ttrain-auc:0.888269\n",
      "[35]\teval-auc:0.831358\ttrain-auc:0.889446\n",
      "[36]\teval-auc:0.832146\ttrain-auc:0.890533\n",
      "[37]\teval-auc:0.833011\ttrain-auc:0.891789\n",
      "[38]\teval-auc:0.834137\ttrain-auc:0.893446\n",
      "[39]\teval-auc:0.834833\ttrain-auc:0.894691\n",
      "[40]\teval-auc:0.835646\ttrain-auc:0.896053\n",
      "[41]\teval-auc:0.836348\ttrain-auc:0.897\n",
      "[42]\teval-auc:0.837058\ttrain-auc:0.898026\n",
      "[43]\teval-auc:0.8375\ttrain-auc:0.898801\n",
      "[44]\teval-auc:0.838472\ttrain-auc:0.900068\n",
      "[45]\teval-auc:0.838984\ttrain-auc:0.900861\n",
      "[46]\teval-auc:0.839695\ttrain-auc:0.901987\n",
      "[47]\teval-auc:0.840428\ttrain-auc:0.902958\n",
      "[48]\teval-auc:0.840665\ttrain-auc:0.903473\n",
      "[49]\teval-auc:0.841322\ttrain-auc:0.904584\n",
      "[50]\teval-auc:0.84186\ttrain-auc:0.905531\n",
      "[51]\teval-auc:0.842517\ttrain-auc:0.906598\n",
      "[52]\teval-auc:0.843218\ttrain-auc:0.907706\n",
      "[53]\teval-auc:0.843703\ttrain-auc:0.908463\n",
      "[54]\teval-auc:0.844233\ttrain-auc:0.909204\n",
      "[55]\teval-auc:0.844664\ttrain-auc:0.909804\n",
      "[56]\teval-auc:0.845605\ttrain-auc:0.910976\n",
      "[57]\teval-auc:0.84642\ttrain-auc:0.91237\n",
      "[58]\teval-auc:0.846817\ttrain-auc:0.912904\n",
      "[59]\teval-auc:0.847103\ttrain-auc:0.913255\n",
      "[60]\teval-auc:0.847495\ttrain-auc:0.913897\n",
      "[61]\teval-auc:0.848141\ttrain-auc:0.915182\n",
      "[62]\teval-auc:0.848659\ttrain-auc:0.916127\n",
      "[63]\teval-auc:0.849306\ttrain-auc:0.917097\n",
      "[64]\teval-auc:0.849855\ttrain-auc:0.917811\n",
      "[65]\teval-auc:0.850391\ttrain-auc:0.918397\n",
      "[66]\teval-auc:0.850979\ttrain-auc:0.919265\n",
      "[67]\teval-auc:0.851149\ttrain-auc:0.919528\n",
      "[68]\teval-auc:0.851982\ttrain-auc:0.920953\n",
      "[69]\teval-auc:0.852196\ttrain-auc:0.921272\n",
      "[70]\teval-auc:0.852614\ttrain-auc:0.921664\n",
      "[71]\teval-auc:0.853189\ttrain-auc:0.922517\n",
      "[72]\teval-auc:0.853716\ttrain-auc:0.923186\n",
      "[73]\teval-auc:0.853913\ttrain-auc:0.92382\n",
      "[74]\teval-auc:0.854271\ttrain-auc:0.924356\n",
      "[75]\teval-auc:0.854478\ttrain-auc:0.924809\n",
      "[76]\teval-auc:0.855127\ttrain-auc:0.925844\n",
      "[77]\teval-auc:0.855888\ttrain-auc:0.926886\n",
      "[78]\teval-auc:0.856353\ttrain-auc:0.927561\n",
      "[79]\teval-auc:0.856498\ttrain-auc:0.927789\n",
      "[80]\teval-auc:0.856724\ttrain-auc:0.928145\n",
      "[81]\teval-auc:0.857257\ttrain-auc:0.928846\n",
      "[82]\teval-auc:0.857624\ttrain-auc:0.929273\n",
      "[83]\teval-auc:0.85809\ttrain-auc:0.929934\n",
      "[84]\teval-auc:0.858664\ttrain-auc:0.930832\n",
      "[85]\teval-auc:0.858876\ttrain-auc:0.931247\n",
      "[86]\teval-auc:0.859187\ttrain-auc:0.931637\n",
      "[87]\teval-auc:0.859401\ttrain-auc:0.932148\n",
      "[88]\teval-auc:0.859552\ttrain-auc:0.932422\n",
      "[89]\teval-auc:0.859668\ttrain-auc:0.932666\n",
      "[90]\teval-auc:0.860055\ttrain-auc:0.933231\n",
      "[91]\teval-auc:0.860712\ttrain-auc:0.934225\n",
      "[92]\teval-auc:0.861178\ttrain-auc:0.934863\n",
      "[93]\teval-auc:0.861326\ttrain-auc:0.935102\n",
      "[94]\teval-auc:0.861491\ttrain-auc:0.935552\n",
      "[95]\teval-auc:0.861541\ttrain-auc:0.935661\n",
      "[96]\teval-auc:0.861647\ttrain-auc:0.935835\n",
      "[97]\teval-auc:0.861924\ttrain-auc:0.936268\n",
      "[98]\teval-auc:0.862336\ttrain-auc:0.936824\n",
      "[99]\teval-auc:0.862486\ttrain-auc:0.937171\n",
      "[100]\teval-auc:0.862868\ttrain-auc:0.937756\n",
      "[101]\teval-auc:0.863246\ttrain-auc:0.938545\n",
      "[102]\teval-auc:0.863337\ttrain-auc:0.938728\n",
      "[103]\teval-auc:0.863799\ttrain-auc:0.939503\n",
      "[104]\teval-auc:0.864217\ttrain-auc:0.940112\n",
      "[105]\teval-auc:0.864554\ttrain-auc:0.940707\n",
      "[106]\teval-auc:0.864718\ttrain-auc:0.941028\n",
      "[107]\teval-auc:0.864774\ttrain-auc:0.941126\n",
      "[108]\teval-auc:0.865009\ttrain-auc:0.941544\n",
      "[109]\teval-auc:0.865102\ttrain-auc:0.941855\n",
      "[110]\teval-auc:0.865742\ttrain-auc:0.942737\n",
      "[111]\teval-auc:0.865933\ttrain-auc:0.943176\n",
      "[112]\teval-auc:0.8661\ttrain-auc:0.943387\n",
      "[113]\teval-auc:0.866435\ttrain-auc:0.943888\n",
      "[114]\teval-auc:0.866721\ttrain-auc:0.944596\n",
      "[115]\teval-auc:0.867031\ttrain-auc:0.945266\n",
      "[116]\teval-auc:0.867216\ttrain-auc:0.94553\n",
      "[117]\teval-auc:0.867382\ttrain-auc:0.945919\n",
      "[118]\teval-auc:0.867755\ttrain-auc:0.946579\n",
      "[119]\teval-auc:0.867829\ttrain-auc:0.946808\n",
      "[120]\teval-auc:0.868148\ttrain-auc:0.947199\n",
      "[121]\teval-auc:0.868236\ttrain-auc:0.947318\n",
      "[122]\teval-auc:0.868672\ttrain-auc:0.94794\n",
      "[123]\teval-auc:0.868846\ttrain-auc:0.948329\n",
      "[124]\teval-auc:0.868971\ttrain-auc:0.9486\n",
      "[125]\teval-auc:0.869218\ttrain-auc:0.949014\n",
      "[126]\teval-auc:0.869342\ttrain-auc:0.949215\n",
      "[127]\teval-auc:0.869397\ttrain-auc:0.949266\n",
      "Testing.......\n"
     ]
    },
    {
     "data": {
      "application/vnd.jupyter.widget-view+json": {
       "model_id": "3e8b1eb8e6b9497a84cb6cb24e9e6561",
       "version_major": 2,
       "version_minor": 0
      },
      "text/plain": [
       "HBox(children=(IntProgress(value=0, max=524), HTML(value=u'')))"
      ]
     },
     "metadata": {},
     "output_type": "display_data"
    },
    {
     "name": "stdout",
     "output_type": "stream",
     "text": [
      "\n",
      "CrossVal Round 2\n",
      "Training.......\n"
     ]
    },
    {
     "data": {
      "application/vnd.jupyter.widget-view+json": {
       "model_id": "542dc98443874e4a9e58353e0b6f5bc4",
       "version_major": 2,
       "version_minor": 0
      },
      "text/plain": [
       "HBox(children=(IntProgress(value=0, max=1463), HTML(value=u'')))"
      ]
     },
     "metadata": {},
     "output_type": "display_data"
    },
    {
     "name": "stdout",
     "output_type": "stream",
     "text": [
      "\n"
     ]
    },
    {
     "data": {
      "application/vnd.jupyter.widget-view+json": {
       "model_id": "77f7c1ff766b44c191108461d37db232",
       "version_major": 2,
       "version_minor": 0
      },
      "text/plain": [
       "HBox(children=(IntProgress(value=0, max=627), HTML(value=u'')))"
      ]
     },
     "metadata": {},
     "output_type": "display_data"
    },
    {
     "name": "stdout",
     "output_type": "stream",
     "text": [
      "\n",
      "[0]\teval-auc:0.709584\ttrain-auc:0.737199\n",
      "[1]\teval-auc:0.734688\ttrain-auc:0.766185\n",
      "[2]\teval-auc:0.744844\ttrain-auc:0.7788\n",
      "[3]\teval-auc:0.757305\ttrain-auc:0.794242\n",
      "[4]\teval-auc:0.762839\ttrain-auc:0.801169\n",
      "[5]\teval-auc:0.767703\ttrain-auc:0.807359\n",
      "[6]\teval-auc:0.770431\ttrain-auc:0.811567\n",
      "[7]\teval-auc:0.774038\ttrain-auc:0.816344\n",
      "[8]\teval-auc:0.776001\ttrain-auc:0.81988\n",
      "[9]\teval-auc:0.778756\ttrain-auc:0.823491\n",
      "[10]\teval-auc:0.781206\ttrain-auc:0.827292\n",
      "[11]\teval-auc:0.784973\ttrain-auc:0.832117\n",
      "[12]\teval-auc:0.787676\ttrain-auc:0.835725\n",
      "[13]\teval-auc:0.789749\ttrain-auc:0.838678\n",
      "[14]\teval-auc:0.791655\ttrain-auc:0.841292\n",
      "[15]\teval-auc:0.793206\ttrain-auc:0.843698\n",
      "[16]\teval-auc:0.795035\ttrain-auc:0.846451\n",
      "[17]\teval-auc:0.797795\ttrain-auc:0.850334\n",
      "[18]\teval-auc:0.799328\ttrain-auc:0.852675\n",
      "[19]\teval-auc:0.800753\ttrain-auc:0.85533\n",
      "[20]\teval-auc:0.802714\ttrain-auc:0.857962\n",
      "[21]\teval-auc:0.804053\ttrain-auc:0.860317\n",
      "[22]\teval-auc:0.805355\ttrain-auc:0.862354\n",
      "[23]\teval-auc:0.806868\ttrain-auc:0.864485\n",
      "[24]\teval-auc:0.808705\ttrain-auc:0.867256\n",
      "[25]\teval-auc:0.810123\ttrain-auc:0.869515\n",
      "[26]\teval-auc:0.810705\ttrain-auc:0.870814\n",
      "[27]\teval-auc:0.811619\ttrain-auc:0.872471\n",
      "[28]\teval-auc:0.812392\ttrain-auc:0.87378\n",
      "[29]\teval-auc:0.813269\ttrain-auc:0.874864\n",
      "[30]\teval-auc:0.814315\ttrain-auc:0.876551\n",
      "[31]\teval-auc:0.815276\ttrain-auc:0.878131\n",
      "[32]\teval-auc:0.816041\ttrain-auc:0.879288\n",
      "[33]\teval-auc:0.816992\ttrain-auc:0.881178\n",
      "[34]\teval-auc:0.818083\ttrain-auc:0.882525\n",
      "[35]\teval-auc:0.819153\ttrain-auc:0.884235\n",
      "[36]\teval-auc:0.819747\ttrain-auc:0.885368\n",
      "[37]\teval-auc:0.820961\ttrain-auc:0.887292\n",
      "[38]\teval-auc:0.821573\ttrain-auc:0.888199\n",
      "[39]\teval-auc:0.822569\ttrain-auc:0.889797\n",
      "[40]\teval-auc:0.823492\ttrain-auc:0.890912\n",
      "[41]\teval-auc:0.824525\ttrain-auc:0.892838\n",
      "[42]\teval-auc:0.825312\ttrain-auc:0.893805\n",
      "[43]\teval-auc:0.825893\ttrain-auc:0.894927\n",
      "[44]\teval-auc:0.82636\ttrain-auc:0.895646\n",
      "[45]\teval-auc:0.826913\ttrain-auc:0.896633\n",
      "[46]\teval-auc:0.827781\ttrain-auc:0.89809\n",
      "[47]\teval-auc:0.828421\ttrain-auc:0.899202\n",
      "[48]\teval-auc:0.828959\ttrain-auc:0.900326\n",
      "[49]\teval-auc:0.829278\ttrain-auc:0.901032\n",
      "[50]\teval-auc:0.830265\ttrain-auc:0.902511\n",
      "[51]\teval-auc:0.831364\ttrain-auc:0.904018\n",
      "[52]\teval-auc:0.832057\ttrain-auc:0.90473\n",
      "[53]\teval-auc:0.832735\ttrain-auc:0.90579\n",
      "[54]\teval-auc:0.833134\ttrain-auc:0.90659\n",
      "[55]\teval-auc:0.833517\ttrain-auc:0.907093\n",
      "[56]\teval-auc:0.833937\ttrain-auc:0.907943\n",
      "[57]\teval-auc:0.834221\ttrain-auc:0.908689\n",
      "[58]\teval-auc:0.834714\ttrain-auc:0.909454\n",
      "[59]\teval-auc:0.835115\ttrain-auc:0.910315\n",
      "[60]\teval-auc:0.835811\ttrain-auc:0.911279\n",
      "[61]\teval-auc:0.836244\ttrain-auc:0.911967\n",
      "[62]\teval-auc:0.836526\ttrain-auc:0.912338\n",
      "[63]\teval-auc:0.836999\ttrain-auc:0.913276\n",
      "[64]\teval-auc:0.83818\ttrain-auc:0.91501\n",
      "[65]\teval-auc:0.839097\ttrain-auc:0.9164\n",
      "[66]\teval-auc:0.839373\ttrain-auc:0.917162\n",
      "[67]\teval-auc:0.839433\ttrain-auc:0.917428\n",
      "[68]\teval-auc:0.839583\ttrain-auc:0.917854\n",
      "[69]\teval-auc:0.84009\ttrain-auc:0.918803\n",
      "[70]\teval-auc:0.840267\ttrain-auc:0.91915\n",
      "[71]\teval-auc:0.840871\ttrain-auc:0.920171\n",
      "[72]\teval-auc:0.841023\ttrain-auc:0.920526\n",
      "[73]\teval-auc:0.841642\ttrain-auc:0.92133\n",
      "[74]\teval-auc:0.841919\ttrain-auc:0.921974\n",
      "[75]\teval-auc:0.842646\ttrain-auc:0.923042\n",
      "[76]\teval-auc:0.842825\ttrain-auc:0.923293\n",
      "[77]\teval-auc:0.843602\ttrain-auc:0.924278\n",
      "[78]\teval-auc:0.843745\ttrain-auc:0.924615\n",
      "[79]\teval-auc:0.844401\ttrain-auc:0.925855\n",
      "[80]\teval-auc:0.84459\ttrain-auc:0.926183\n",
      "[81]\teval-auc:0.845046\ttrain-auc:0.927022\n",
      "[82]\teval-auc:0.84532\ttrain-auc:0.927299\n",
      "[83]\teval-auc:0.845853\ttrain-auc:0.928219\n",
      "[84]\teval-auc:0.846066\ttrain-auc:0.92868\n",
      "[85]\teval-auc:0.846718\ttrain-auc:0.929455\n",
      "[86]\teval-auc:0.846992\ttrain-auc:0.929965\n",
      "[87]\teval-auc:0.847542\ttrain-auc:0.930538\n",
      "[88]\teval-auc:0.847901\ttrain-auc:0.931112\n",
      "[89]\teval-auc:0.847958\ttrain-auc:0.931354\n",
      "[90]\teval-auc:0.848033\ttrain-auc:0.93154\n",
      "[91]\teval-auc:0.848189\ttrain-auc:0.931921\n",
      "[92]\teval-auc:0.848268\ttrain-auc:0.932106\n",
      "[93]\teval-auc:0.848458\ttrain-auc:0.93237\n",
      "[94]\teval-auc:0.84855\ttrain-auc:0.932466\n",
      "[95]\teval-auc:0.84866\ttrain-auc:0.932624\n",
      "[96]\teval-auc:0.849107\ttrain-auc:0.933218\n",
      "[97]\teval-auc:0.849428\ttrain-auc:0.933749\n",
      "[98]\teval-auc:0.850075\ttrain-auc:0.934681\n",
      "[99]\teval-auc:0.850372\ttrain-auc:0.935207\n",
      "[100]\teval-auc:0.850764\ttrain-auc:0.936056\n",
      "[101]\teval-auc:0.851247\ttrain-auc:0.93697\n",
      "[102]\teval-auc:0.85142\ttrain-auc:0.93745\n",
      "[103]\teval-auc:0.851649\ttrain-auc:0.937909\n",
      "[104]\teval-auc:0.851761\ttrain-auc:0.938209\n",
      "[105]\teval-auc:0.851838\ttrain-auc:0.938494\n",
      "[106]\teval-auc:0.851978\ttrain-auc:0.938671\n",
      "[107]\teval-auc:0.852038\ttrain-auc:0.938798\n",
      "[108]\teval-auc:0.852141\ttrain-auc:0.938957\n",
      "[109]\teval-auc:0.852592\ttrain-auc:0.939707\n",
      "[110]\teval-auc:0.852814\ttrain-auc:0.939937\n",
      "[111]\teval-auc:0.853098\ttrain-auc:0.94059\n",
      "[112]\teval-auc:0.853132\ttrain-auc:0.940789\n",
      "[113]\teval-auc:0.853399\ttrain-auc:0.9412\n",
      "[114]\teval-auc:0.853509\ttrain-auc:0.941393\n",
      "[115]\teval-auc:0.853949\ttrain-auc:0.942216\n",
      "[116]\teval-auc:0.854234\ttrain-auc:0.942742\n",
      "[117]\teval-auc:0.854385\ttrain-auc:0.942908\n",
      "[118]\teval-auc:0.854451\ttrain-auc:0.943051\n",
      "[119]\teval-auc:0.854629\ttrain-auc:0.943272\n",
      "[120]\teval-auc:0.854926\ttrain-auc:0.943767\n",
      "[121]\teval-auc:0.855042\ttrain-auc:0.944093\n",
      "[122]\teval-auc:0.855435\ttrain-auc:0.944833\n",
      "[123]\teval-auc:0.85564\ttrain-auc:0.945281\n",
      "[124]\teval-auc:0.855659\ttrain-auc:0.945408\n",
      "[125]\teval-auc:0.855782\ttrain-auc:0.945604\n",
      "[126]\teval-auc:0.85601\ttrain-auc:0.946042\n",
      "[127]\teval-auc:0.856194\ttrain-auc:0.946282\n",
      "Testing.......\n"
     ]
    },
    {
     "data": {
      "application/vnd.jupyter.widget-view+json": {
       "model_id": "92765ddd38bd4bdaa4dcf996750f0c92",
       "version_major": 2,
       "version_minor": 0
      },
      "text/plain": [
       "HBox(children=(IntProgress(value=0, max=523), HTML(value=u'')))"
      ]
     },
     "metadata": {},
     "output_type": "display_data"
    },
    {
     "name": "stdout",
     "output_type": "stream",
     "text": [
      "\n",
      "CrossVal Round 3\n",
      "Training.......\n"
     ]
    },
    {
     "data": {
      "application/vnd.jupyter.widget-view+json": {
       "model_id": "c85e0ba535a643c9ad31a8010920b12f",
       "version_major": 2,
       "version_minor": 0
      },
      "text/plain": [
       "HBox(children=(IntProgress(value=0, max=1463), HTML(value=u'')))"
      ]
     },
     "metadata": {},
     "output_type": "display_data"
    },
    {
     "name": "stdout",
     "output_type": "stream",
     "text": [
      "\n"
     ]
    },
    {
     "data": {
      "application/vnd.jupyter.widget-view+json": {
       "model_id": "62d97f1061df411f8385cc6ad6fc87cf",
       "version_major": 2,
       "version_minor": 0
      },
      "text/plain": [
       "HBox(children=(IntProgress(value=0, max=628), HTML(value=u'')))"
      ]
     },
     "metadata": {},
     "output_type": "display_data"
    },
    {
     "name": "stdout",
     "output_type": "stream",
     "text": [
      "\n",
      "[0]\teval-auc:0.699133\ttrain-auc:0.732193\n",
      "[1]\teval-auc:0.713549\ttrain-auc:0.749213\n",
      "[2]\teval-auc:0.731176\ttrain-auc:0.768935\n",
      "[3]\teval-auc:0.743732\ttrain-auc:0.782466\n",
      "[4]\teval-auc:0.750772\ttrain-auc:0.79161\n",
      "[5]\teval-auc:0.757114\ttrain-auc:0.799156\n",
      "[6]\teval-auc:0.76315\ttrain-auc:0.806571\n",
      "[7]\teval-auc:0.764937\ttrain-auc:0.80952\n",
      "[8]\teval-auc:0.767861\ttrain-auc:0.813636\n",
      "[9]\teval-auc:0.77212\ttrain-auc:0.818892\n",
      "[10]\teval-auc:0.775271\ttrain-auc:0.823057\n",
      "[11]\teval-auc:0.777929\ttrain-auc:0.826087\n",
      "[12]\teval-auc:0.780554\ttrain-auc:0.829883\n",
      "[13]\teval-auc:0.78299\ttrain-auc:0.833448\n",
      "[14]\teval-auc:0.785356\ttrain-auc:0.83599\n",
      "[15]\teval-auc:0.786864\ttrain-auc:0.838306\n",
      "[16]\teval-auc:0.788776\ttrain-auc:0.841515\n",
      "[17]\teval-auc:0.790643\ttrain-auc:0.844048\n",
      "[18]\teval-auc:0.792394\ttrain-auc:0.847146\n",
      "[19]\teval-auc:0.79409\ttrain-auc:0.849739\n",
      "[20]\teval-auc:0.796313\ttrain-auc:0.853282\n",
      "[21]\teval-auc:0.797616\ttrain-auc:0.855133\n",
      "[22]\teval-auc:0.798884\ttrain-auc:0.857213\n",
      "[23]\teval-auc:0.800852\ttrain-auc:0.86008\n",
      "[24]\teval-auc:0.802267\ttrain-auc:0.862119\n",
      "[25]\teval-auc:0.803629\ttrain-auc:0.863806\n",
      "[26]\teval-auc:0.804819\ttrain-auc:0.865813\n",
      "[27]\teval-auc:0.806146\ttrain-auc:0.867918\n",
      "[28]\teval-auc:0.806702\ttrain-auc:0.868911\n",
      "[29]\teval-auc:0.807931\ttrain-auc:0.871059\n",
      "[30]\teval-auc:0.808979\ttrain-auc:0.873223\n",
      "[31]\teval-auc:0.809754\ttrain-auc:0.874438\n",
      "[32]\teval-auc:0.810308\ttrain-auc:0.875356\n",
      "[33]\teval-auc:0.811721\ttrain-auc:0.877618\n",
      "[34]\teval-auc:0.812237\ttrain-auc:0.878763\n",
      "[35]\teval-auc:0.812922\ttrain-auc:0.880633\n",
      "[36]\teval-auc:0.813343\ttrain-auc:0.881497\n",
      "[37]\teval-auc:0.814076\ttrain-auc:0.88293\n",
      "[38]\teval-auc:0.815128\ttrain-auc:0.884554\n",
      "[39]\teval-auc:0.815654\ttrain-auc:0.885639\n",
      "[40]\teval-auc:0.816385\ttrain-auc:0.886677\n",
      "[41]\teval-auc:0.81701\ttrain-auc:0.888123\n",
      "[42]\teval-auc:0.817682\ttrain-auc:0.889266\n",
      "[43]\teval-auc:0.817934\ttrain-auc:0.889761\n",
      "[44]\teval-auc:0.818339\ttrain-auc:0.890676\n",
      "[45]\teval-auc:0.818788\ttrain-auc:0.891487\n",
      "[46]\teval-auc:0.819584\ttrain-auc:0.893073\n",
      "[47]\teval-auc:0.820393\ttrain-auc:0.894504\n",
      "[48]\teval-auc:0.82052\ttrain-auc:0.895015\n",
      "[49]\teval-auc:0.821061\ttrain-auc:0.895942\n",
      "[50]\teval-auc:0.821917\ttrain-auc:0.897481\n",
      "[51]\teval-auc:0.822297\ttrain-auc:0.898192\n",
      "[52]\teval-auc:0.823167\ttrain-auc:0.899674\n",
      "[53]\teval-auc:0.82351\ttrain-auc:0.900212\n",
      "[54]\teval-auc:0.823983\ttrain-auc:0.901109\n",
      "[55]\teval-auc:0.824171\ttrain-auc:0.901678\n",
      "[56]\teval-auc:0.8248\ttrain-auc:0.902576\n",
      "[57]\teval-auc:0.825045\ttrain-auc:0.903153\n",
      "[58]\teval-auc:0.825714\ttrain-auc:0.904284\n",
      "[59]\teval-auc:0.825889\ttrain-auc:0.904622\n",
      "[60]\teval-auc:0.826294\ttrain-auc:0.905278\n",
      "[61]\teval-auc:0.826533\ttrain-auc:0.905869\n",
      "[62]\teval-auc:0.826936\ttrain-auc:0.906646\n",
      "[63]\teval-auc:0.827404\ttrain-auc:0.90734\n",
      "[64]\teval-auc:0.828279\ttrain-auc:0.908789\n",
      "[65]\teval-auc:0.828911\ttrain-auc:0.909688\n",
      "[66]\teval-auc:0.829007\ttrain-auc:0.910053\n",
      "[67]\teval-auc:0.829092\ttrain-auc:0.910493\n",
      "[68]\teval-auc:0.829348\ttrain-auc:0.9113\n",
      "[69]\teval-auc:0.829503\ttrain-auc:0.911489\n",
      "[70]\teval-auc:0.829758\ttrain-auc:0.912\n",
      "[71]\teval-auc:0.830391\ttrain-auc:0.912964\n",
      "[72]\teval-auc:0.830877\ttrain-auc:0.914071\n",
      "[73]\teval-auc:0.831026\ttrain-auc:0.914488\n",
      "[74]\teval-auc:0.831575\ttrain-auc:0.91551\n",
      "[75]\teval-auc:0.831946\ttrain-auc:0.916316\n",
      "[76]\teval-auc:0.832412\ttrain-auc:0.916759\n",
      "[77]\teval-auc:0.832687\ttrain-auc:0.91735\n",
      "[78]\teval-auc:0.833138\ttrain-auc:0.918174\n",
      "[79]\teval-auc:0.833519\ttrain-auc:0.918915\n",
      "[80]\teval-auc:0.833851\ttrain-auc:0.919511\n",
      "[81]\teval-auc:0.834112\ttrain-auc:0.919934\n",
      "[82]\teval-auc:0.834196\ttrain-auc:0.920234\n",
      "[83]\teval-auc:0.834684\ttrain-auc:0.920812\n",
      "[84]\teval-auc:0.835009\ttrain-auc:0.921527\n",
      "[85]\teval-auc:0.83534\ttrain-auc:0.922094\n",
      "[86]\teval-auc:0.835648\ttrain-auc:0.922609\n",
      "[87]\teval-auc:0.835718\ttrain-auc:0.922819\n",
      "[88]\teval-auc:0.836023\ttrain-auc:0.923341\n",
      "[89]\teval-auc:0.836119\ttrain-auc:0.923686\n",
      "[90]\teval-auc:0.836413\ttrain-auc:0.924111\n",
      "[91]\teval-auc:0.836826\ttrain-auc:0.924787\n",
      "[92]\teval-auc:0.837061\ttrain-auc:0.925499\n",
      "[93]\teval-auc:0.837163\ttrain-auc:0.925898\n",
      "[94]\teval-auc:0.837825\ttrain-auc:0.927146\n",
      "[95]\teval-auc:0.838085\ttrain-auc:0.927691\n",
      "[96]\teval-auc:0.838297\ttrain-auc:0.928347\n",
      "[97]\teval-auc:0.838405\ttrain-auc:0.928549\n",
      "[98]\teval-auc:0.838551\ttrain-auc:0.92882\n",
      "[99]\teval-auc:0.83876\ttrain-auc:0.929249\n",
      "[100]\teval-auc:0.839132\ttrain-auc:0.929829\n",
      "[101]\teval-auc:0.839371\ttrain-auc:0.930374\n",
      "[102]\teval-auc:0.839702\ttrain-auc:0.930862\n",
      "[103]\teval-auc:0.840286\ttrain-auc:0.931887\n",
      "[104]\teval-auc:0.8405\ttrain-auc:0.932494\n",
      "[105]\teval-auc:0.840662\ttrain-auc:0.9328\n",
      "[106]\teval-auc:0.840756\ttrain-auc:0.933072\n",
      "[107]\teval-auc:0.841091\ttrain-auc:0.933967\n",
      "[108]\teval-auc:0.841628\ttrain-auc:0.934797\n",
      "[109]\teval-auc:0.842236\ttrain-auc:0.935877\n",
      "[110]\teval-auc:0.842285\ttrain-auc:0.936116\n",
      "[111]\teval-auc:0.842532\ttrain-auc:0.936501\n",
      "[112]\teval-auc:0.842649\ttrain-auc:0.936737\n",
      "[113]\teval-auc:0.842921\ttrain-auc:0.937114\n",
      "[114]\teval-auc:0.843214\ttrain-auc:0.93779\n",
      "[115]\teval-auc:0.843372\ttrain-auc:0.938029\n",
      "[116]\teval-auc:0.843818\ttrain-auc:0.9388\n",
      "[117]\teval-auc:0.843963\ttrain-auc:0.939145\n",
      "[118]\teval-auc:0.844121\ttrain-auc:0.939356\n",
      "[119]\teval-auc:0.844164\ttrain-auc:0.939497\n",
      "[120]\teval-auc:0.84436\ttrain-auc:0.939943\n",
      "[121]\teval-auc:0.844669\ttrain-auc:0.940392\n",
      "[122]\teval-auc:0.844836\ttrain-auc:0.940806\n",
      "[123]\teval-auc:0.845173\ttrain-auc:0.94141\n",
      "[124]\teval-auc:0.845294\ttrain-auc:0.94165\n",
      "[125]\teval-auc:0.845725\ttrain-auc:0.942438\n",
      "[126]\teval-auc:0.845826\ttrain-auc:0.942713\n",
      "[127]\teval-auc:0.84601\ttrain-auc:0.943085\n",
      "Testing.......\n"
     ]
    },
    {
     "data": {
      "application/vnd.jupyter.widget-view+json": {
       "model_id": "3733bc58fff148e9992cb75a81305402",
       "version_major": 2,
       "version_minor": 0
      },
      "text/plain": [
       "HBox(children=(IntProgress(value=0, max=522), HTML(value=u'')))"
      ]
     },
     "metadata": {},
     "output_type": "display_data"
    },
    {
     "name": "stdout",
     "output_type": "stream",
     "text": [
      "\n",
      "CrossVal Round 4\n",
      "Training.......\n"
     ]
    },
    {
     "data": {
      "application/vnd.jupyter.widget-view+json": {
       "model_id": "809909e04ced4ba48ebc9eb27d0426a2",
       "version_major": 2,
       "version_minor": 0
      },
      "text/plain": [
       "HBox(children=(IntProgress(value=0, max=1463), HTML(value=u'')))"
      ]
     },
     "metadata": {},
     "output_type": "display_data"
    },
    {
     "name": "stdout",
     "output_type": "stream",
     "text": [
      "\n"
     ]
    },
    {
     "data": {
      "application/vnd.jupyter.widget-view+json": {
       "model_id": "5ec3a5463df74e6e99ed34a6274cf5c4",
       "version_major": 2,
       "version_minor": 0
      },
      "text/plain": [
       "HBox(children=(IntProgress(value=0, max=628), HTML(value=u'')))"
      ]
     },
     "metadata": {},
     "output_type": "display_data"
    },
    {
     "name": "stdout",
     "output_type": "stream",
     "text": [
      "\n",
      "[0]\teval-auc:0.70733\ttrain-auc:0.730254\n",
      "[1]\teval-auc:0.728395\ttrain-auc:0.756638\n",
      "[2]\teval-auc:0.745758\ttrain-auc:0.776877\n",
      "[3]\teval-auc:0.751678\ttrain-auc:0.784971\n",
      "[4]\teval-auc:0.759372\ttrain-auc:0.793974\n",
      "[5]\teval-auc:0.7641\ttrain-auc:0.799748\n",
      "[6]\teval-auc:0.767453\ttrain-auc:0.80382\n",
      "[7]\teval-auc:0.770606\ttrain-auc:0.809088\n",
      "[8]\teval-auc:0.77317\ttrain-auc:0.813732\n",
      "[9]\teval-auc:0.775573\ttrain-auc:0.81769\n",
      "[10]\teval-auc:0.777716\ttrain-auc:0.82108\n",
      "[11]\teval-auc:0.780586\ttrain-auc:0.824206\n",
      "[12]\teval-auc:0.783549\ttrain-auc:0.828486\n",
      "[13]\teval-auc:0.785366\ttrain-auc:0.831677\n",
      "[14]\teval-auc:0.787291\ttrain-auc:0.834618\n",
      "[15]\teval-auc:0.789153\ttrain-auc:0.8373\n",
      "[16]\teval-auc:0.790975\ttrain-auc:0.84017\n",
      "[17]\teval-auc:0.792575\ttrain-auc:0.842632\n",
      "[18]\teval-auc:0.793766\ttrain-auc:0.844965\n",
      "[19]\teval-auc:0.795552\ttrain-auc:0.847758\n",
      "[20]\teval-auc:0.797194\ttrain-auc:0.850162\n",
      "[21]\teval-auc:0.798734\ttrain-auc:0.852779\n",
      "[22]\teval-auc:0.80041\ttrain-auc:0.855219\n",
      "[23]\teval-auc:0.801972\ttrain-auc:0.857511\n",
      "[24]\teval-auc:0.802897\ttrain-auc:0.859327\n",
      "[25]\teval-auc:0.803995\ttrain-auc:0.861206\n",
      "[26]\teval-auc:0.805759\ttrain-auc:0.863807\n",
      "[27]\teval-auc:0.806767\ttrain-auc:0.865773\n",
      "[28]\teval-auc:0.807652\ttrain-auc:0.867923\n",
      "[29]\teval-auc:0.808783\ttrain-auc:0.869481\n",
      "[30]\teval-auc:0.809707\ttrain-auc:0.871486\n",
      "[31]\teval-auc:0.810853\ttrain-auc:0.873255\n",
      "[32]\teval-auc:0.811571\ttrain-auc:0.874471\n",
      "[33]\teval-auc:0.812379\ttrain-auc:0.876001\n",
      "[34]\teval-auc:0.813615\ttrain-auc:0.878204\n",
      "[35]\teval-auc:0.814182\ttrain-auc:0.879188\n",
      "[36]\teval-auc:0.815563\ttrain-auc:0.881466\n",
      "[37]\teval-auc:0.816158\ttrain-auc:0.882379\n",
      "[38]\teval-auc:0.816949\ttrain-auc:0.883764\n",
      "[39]\teval-auc:0.817686\ttrain-auc:0.8851\n",
      "[40]\teval-auc:0.818165\ttrain-auc:0.886028\n",
      "[41]\teval-auc:0.818699\ttrain-auc:0.88718\n",
      "[42]\teval-auc:0.819032\ttrain-auc:0.887741\n",
      "[43]\teval-auc:0.819998\ttrain-auc:0.889491\n",
      "[44]\teval-auc:0.820471\ttrain-auc:0.890269\n",
      "[45]\teval-auc:0.821005\ttrain-auc:0.891524\n",
      "[46]\teval-auc:0.821348\ttrain-auc:0.892289\n",
      "[47]\teval-auc:0.821418\ttrain-auc:0.892826\n",
      "[48]\teval-auc:0.821805\ttrain-auc:0.893464\n",
      "[49]\teval-auc:0.822886\ttrain-auc:0.895076\n",
      "[50]\teval-auc:0.823622\ttrain-auc:0.896366\n",
      "[51]\teval-auc:0.824418\ttrain-auc:0.898052\n",
      "[52]\teval-auc:0.825081\ttrain-auc:0.899092\n",
      "[53]\teval-auc:0.825521\ttrain-auc:0.899976\n",
      "[54]\teval-auc:0.826137\ttrain-auc:0.901149\n",
      "[55]\teval-auc:0.826652\ttrain-auc:0.902397\n",
      "[56]\teval-auc:0.827255\ttrain-auc:0.90328\n",
      "[57]\teval-auc:0.827314\ttrain-auc:0.903986\n",
      "[58]\teval-auc:0.827596\ttrain-auc:0.904825\n",
      "[59]\teval-auc:0.828\ttrain-auc:0.905819\n",
      "[60]\teval-auc:0.828375\ttrain-auc:0.906659\n",
      "[61]\teval-auc:0.828648\ttrain-auc:0.907416\n",
      "[62]\teval-auc:0.829305\ttrain-auc:0.909069\n",
      "[63]\teval-auc:0.829872\ttrain-auc:0.910108\n",
      "[64]\teval-auc:0.829964\ttrain-auc:0.910348\n",
      "[65]\teval-auc:0.830167\ttrain-auc:0.910871\n",
      "[66]\teval-auc:0.830709\ttrain-auc:0.911967\n",
      "[67]\teval-auc:0.831244\ttrain-auc:0.91301\n",
      "[68]\teval-auc:0.831627\ttrain-auc:0.913804\n",
      "[69]\teval-auc:0.832093\ttrain-auc:0.914897\n",
      "[70]\teval-auc:0.832293\ttrain-auc:0.915341\n",
      "[71]\teval-auc:0.83258\ttrain-auc:0.916143\n",
      "[72]\teval-auc:0.83296\ttrain-auc:0.916699\n",
      "[73]\teval-auc:0.833269\ttrain-auc:0.917462\n",
      "[74]\teval-auc:0.833474\ttrain-auc:0.917772\n",
      "[75]\teval-auc:0.833703\ttrain-auc:0.918265\n",
      "[76]\teval-auc:0.834101\ttrain-auc:0.91887\n",
      "[77]\teval-auc:0.834466\ttrain-auc:0.91982\n",
      "[78]\teval-auc:0.834857\ttrain-auc:0.920461\n",
      "[79]\teval-auc:0.834987\ttrain-auc:0.920757\n",
      "[80]\teval-auc:0.835316\ttrain-auc:0.921358\n",
      "[81]\teval-auc:0.835644\ttrain-auc:0.922031\n",
      "[82]\teval-auc:0.835968\ttrain-auc:0.922784\n",
      "[83]\teval-auc:0.836261\ttrain-auc:0.923304\n",
      "[84]\teval-auc:0.83643\ttrain-auc:0.923661\n",
      "[85]\teval-auc:0.836678\ttrain-auc:0.924072\n",
      "[86]\teval-auc:0.837167\ttrain-auc:0.924907\n",
      "[87]\teval-auc:0.837562\ttrain-auc:0.925485\n",
      "[88]\teval-auc:0.837785\ttrain-auc:0.926031\n",
      "[89]\teval-auc:0.838287\ttrain-auc:0.926706\n",
      "[90]\teval-auc:0.838719\ttrain-auc:0.927446\n",
      "[91]\teval-auc:0.839056\ttrain-auc:0.927962\n",
      "[92]\teval-auc:0.839513\ttrain-auc:0.928687\n",
      "[93]\teval-auc:0.839652\ttrain-auc:0.928965\n",
      "[94]\teval-auc:0.839687\ttrain-auc:0.929219\n",
      "[95]\teval-auc:0.8402\ttrain-auc:0.930091\n",
      "[96]\teval-auc:0.840427\ttrain-auc:0.930534\n",
      "[97]\teval-auc:0.840676\ttrain-auc:0.931027\n",
      "[98]\teval-auc:0.84091\ttrain-auc:0.931456\n",
      "[99]\teval-auc:0.841188\ttrain-auc:0.931967\n",
      "[100]\teval-auc:0.841526\ttrain-auc:0.932525\n",
      "[101]\teval-auc:0.841718\ttrain-auc:0.933029\n",
      "[102]\teval-auc:0.842188\ttrain-auc:0.933753\n",
      "[103]\teval-auc:0.84252\ttrain-auc:0.934379\n",
      "[104]\teval-auc:0.842738\ttrain-auc:0.934994\n",
      "[105]\teval-auc:0.842815\ttrain-auc:0.935369\n",
      "[106]\teval-auc:0.842908\ttrain-auc:0.935488\n",
      "[107]\teval-auc:0.84297\ttrain-auc:0.935662\n",
      "[108]\teval-auc:0.843238\ttrain-auc:0.936027\n",
      "[109]\teval-auc:0.843591\ttrain-auc:0.936579\n",
      "[110]\teval-auc:0.843713\ttrain-auc:0.936809\n",
      "[111]\teval-auc:0.843861\ttrain-auc:0.937101\n",
      "[112]\teval-auc:0.844068\ttrain-auc:0.937702\n",
      "[113]\teval-auc:0.844538\ttrain-auc:0.938339\n",
      "[114]\teval-auc:0.844704\ttrain-auc:0.938553\n",
      "[115]\teval-auc:0.84479\ttrain-auc:0.938916\n",
      "[116]\teval-auc:0.845052\ttrain-auc:0.939428\n",
      "[117]\teval-auc:0.845251\ttrain-auc:0.939768\n",
      "[118]\teval-auc:0.845477\ttrain-auc:0.940277\n",
      "[119]\teval-auc:0.845669\ttrain-auc:0.940636\n",
      "[120]\teval-auc:0.845801\ttrain-auc:0.941005\n",
      "[121]\teval-auc:0.846026\ttrain-auc:0.941434\n",
      "[122]\teval-auc:0.846225\ttrain-auc:0.94184\n",
      "[123]\teval-auc:0.846382\ttrain-auc:0.942264\n",
      "[124]\teval-auc:0.846535\ttrain-auc:0.942702\n",
      "[125]\teval-auc:0.846813\ttrain-auc:0.94313\n",
      "[126]\teval-auc:0.846932\ttrain-auc:0.943584\n",
      "[127]\teval-auc:0.847008\ttrain-auc:0.943833\n",
      "Testing.......\n"
     ]
    },
    {
     "data": {
      "application/vnd.jupyter.widget-view+json": {
       "model_id": "179cb1699ab7473ba8e4a305bbe2c784",
       "version_major": 2,
       "version_minor": 0
      },
      "text/plain": [
       "HBox(children=(IntProgress(value=0, max=522), HTML(value=u'')))"
      ]
     },
     "metadata": {},
     "output_type": "display_data"
    },
    {
     "name": "stdout",
     "output_type": "stream",
     "text": [
      "\n",
      "CrossVal Round 5\n",
      "Training.......\n"
     ]
    },
    {
     "data": {
      "application/vnd.jupyter.widget-view+json": {
       "model_id": "638f48d7c7c8467abe35eb440cdfaa6c",
       "version_major": 2,
       "version_minor": 0
      },
      "text/plain": [
       "HBox(children=(IntProgress(value=0, max=1463), HTML(value=u'')))"
      ]
     },
     "metadata": {},
     "output_type": "display_data"
    },
    {
     "name": "stdout",
     "output_type": "stream",
     "text": [
      "\n"
     ]
    },
    {
     "data": {
      "application/vnd.jupyter.widget-view+json": {
       "model_id": "32c6ce900c334d139dbb3fe6090055f6",
       "version_major": 2,
       "version_minor": 0
      },
      "text/plain": [
       "HBox(children=(IntProgress(value=0, max=628), HTML(value=u'')))"
      ]
     },
     "metadata": {},
     "output_type": "display_data"
    },
    {
     "name": "stdout",
     "output_type": "stream",
     "text": [
      "\n",
      "[0]\teval-auc:0.719989\ttrain-auc:0.745438\n",
      "[1]\teval-auc:0.745935\ttrain-auc:0.773651\n",
      "[2]\teval-auc:0.754337\ttrain-auc:0.783579\n",
      "[3]\teval-auc:0.764622\ttrain-auc:0.794873\n",
      "[4]\teval-auc:0.769961\ttrain-auc:0.801552\n",
      "[5]\teval-auc:0.774225\ttrain-auc:0.806461\n",
      "[6]\teval-auc:0.779266\ttrain-auc:0.813173\n",
      "[7]\teval-auc:0.783702\ttrain-auc:0.818971\n",
      "[8]\teval-auc:0.786849\ttrain-auc:0.823475\n",
      "[9]\teval-auc:0.790365\ttrain-auc:0.82831\n",
      "[10]\teval-auc:0.792447\ttrain-auc:0.831222\n",
      "[11]\teval-auc:0.794174\ttrain-auc:0.833839\n",
      "[12]\teval-auc:0.796562\ttrain-auc:0.83743\n",
      "[13]\teval-auc:0.798945\ttrain-auc:0.840809\n",
      "[14]\teval-auc:0.80126\ttrain-auc:0.84444\n",
      "[15]\teval-auc:0.802577\ttrain-auc:0.8463\n",
      "[16]\teval-auc:0.804359\ttrain-auc:0.848629\n",
      "[17]\teval-auc:0.806697\ttrain-auc:0.851846\n",
      "[18]\teval-auc:0.808086\ttrain-auc:0.853973\n",
      "[19]\teval-auc:0.810458\ttrain-auc:0.857149\n",
      "[20]\teval-auc:0.811576\ttrain-auc:0.859282\n",
      "[21]\teval-auc:0.813181\ttrain-auc:0.8621\n",
      "[22]\teval-auc:0.814788\ttrain-auc:0.864418\n",
      "[23]\teval-auc:0.816247\ttrain-auc:0.866594\n",
      "[24]\teval-auc:0.81774\ttrain-auc:0.868525\n",
      "[25]\teval-auc:0.819756\ttrain-auc:0.871329\n",
      "[26]\teval-auc:0.821122\ttrain-auc:0.873316\n",
      "[27]\teval-auc:0.822419\ttrain-auc:0.875357\n",
      "[28]\teval-auc:0.823355\ttrain-auc:0.876281\n",
      "[29]\teval-auc:0.824442\ttrain-auc:0.877503\n",
      "[30]\teval-auc:0.825544\ttrain-auc:0.879108\n",
      "[31]\teval-auc:0.826856\ttrain-auc:0.881116\n",
      "[32]\teval-auc:0.827729\ttrain-auc:0.882561\n",
      "[33]\teval-auc:0.828515\ttrain-auc:0.883756\n",
      "[34]\teval-auc:0.829196\ttrain-auc:0.885264\n",
      "[35]\teval-auc:0.82962\ttrain-auc:0.885943\n",
      "[36]\teval-auc:0.830949\ttrain-auc:0.8881\n",
      "[37]\teval-auc:0.831232\ttrain-auc:0.888682\n",
      "[38]\teval-auc:0.83211\ttrain-auc:0.889846\n",
      "[39]\teval-auc:0.832662\ttrain-auc:0.890615\n",
      "[40]\teval-auc:0.833216\ttrain-auc:0.891383\n",
      "[41]\teval-auc:0.834077\ttrain-auc:0.892724\n",
      "[42]\teval-auc:0.835275\ttrain-auc:0.894572\n",
      "[43]\teval-auc:0.836193\ttrain-auc:0.895802\n",
      "[44]\teval-auc:0.836578\ttrain-auc:0.896369\n",
      "[45]\teval-auc:0.837748\ttrain-auc:0.898002\n",
      "[46]\teval-auc:0.838161\ttrain-auc:0.898828\n",
      "[47]\teval-auc:0.838826\ttrain-auc:0.899853\n",
      "[48]\teval-auc:0.839821\ttrain-auc:0.901447\n",
      "[49]\teval-auc:0.840177\ttrain-auc:0.902266\n",
      "[50]\teval-auc:0.84116\ttrain-auc:0.903822\n",
      "[51]\teval-auc:0.841664\ttrain-auc:0.90455\n",
      "[52]\teval-auc:0.842423\ttrain-auc:0.905577\n",
      "[53]\teval-auc:0.842888\ttrain-auc:0.906273\n",
      "[54]\teval-auc:0.843457\ttrain-auc:0.907066\n",
      "[55]\teval-auc:0.844126\ttrain-auc:0.90808\n",
      "[56]\teval-auc:0.844386\ttrain-auc:0.908458\n",
      "[57]\teval-auc:0.844657\ttrain-auc:0.909052\n",
      "[58]\teval-auc:0.845047\ttrain-auc:0.909846\n",
      "[59]\teval-auc:0.845849\ttrain-auc:0.910872\n",
      "[60]\teval-auc:0.84628\ttrain-auc:0.911568\n",
      "[61]\teval-auc:0.846962\ttrain-auc:0.912691\n",
      "[62]\teval-auc:0.847192\ttrain-auc:0.913243\n",
      "[63]\teval-auc:0.84735\ttrain-auc:0.913401\n",
      "[64]\teval-auc:0.847585\ttrain-auc:0.913704\n",
      "[65]\teval-auc:0.848314\ttrain-auc:0.914839\n",
      "[66]\teval-auc:0.849354\ttrain-auc:0.916555\n",
      "[67]\teval-auc:0.849661\ttrain-auc:0.917181\n",
      "[68]\teval-auc:0.850385\ttrain-auc:0.918367\n",
      "[69]\teval-auc:0.851079\ttrain-auc:0.919518\n",
      "[70]\teval-auc:0.851452\ttrain-auc:0.920023\n",
      "[71]\teval-auc:0.851822\ttrain-auc:0.920743\n",
      "[72]\teval-auc:0.852369\ttrain-auc:0.921637\n",
      "[73]\teval-auc:0.853073\ttrain-auc:0.922592\n",
      "[74]\teval-auc:0.853566\ttrain-auc:0.923303\n",
      "[75]\teval-auc:0.853894\ttrain-auc:0.923981\n",
      "[76]\teval-auc:0.854053\ttrain-auc:0.924198\n",
      "[77]\teval-auc:0.854182\ttrain-auc:0.924411\n",
      "[78]\teval-auc:0.854706\ttrain-auc:0.925232\n",
      "[79]\teval-auc:0.855027\ttrain-auc:0.925699\n",
      "[80]\teval-auc:0.855192\ttrain-auc:0.926026\n",
      "[81]\teval-auc:0.855555\ttrain-auc:0.926748\n",
      "[82]\teval-auc:0.856012\ttrain-auc:0.927463\n",
      "[83]\teval-auc:0.856534\ttrain-auc:0.92812\n",
      "[84]\teval-auc:0.856799\ttrain-auc:0.928713\n",
      "[85]\teval-auc:0.857032\ttrain-auc:0.929228\n",
      "[86]\teval-auc:0.857241\ttrain-auc:0.929573\n",
      "[87]\teval-auc:0.857281\ttrain-auc:0.929689\n",
      "[88]\teval-auc:0.857507\ttrain-auc:0.929967\n",
      "[89]\teval-auc:0.857789\ttrain-auc:0.930468\n",
      "[90]\teval-auc:0.858305\ttrain-auc:0.931195\n",
      "[91]\teval-auc:0.85842\ttrain-auc:0.931465\n",
      "[92]\teval-auc:0.858619\ttrain-auc:0.931569\n",
      "[93]\teval-auc:0.859087\ttrain-auc:0.932275\n",
      "[94]\teval-auc:0.859322\ttrain-auc:0.93254\n",
      "[95]\teval-auc:0.859778\ttrain-auc:0.93312\n",
      "[96]\teval-auc:0.860179\ttrain-auc:0.933742\n",
      "[97]\teval-auc:0.860521\ttrain-auc:0.93422\n",
      "[98]\teval-auc:0.86075\ttrain-auc:0.934508\n",
      "[99]\teval-auc:0.860893\ttrain-auc:0.934885\n",
      "[100]\teval-auc:0.861492\ttrain-auc:0.935586\n",
      "[101]\teval-auc:0.861783\ttrain-auc:0.936033\n",
      "[102]\teval-auc:0.861893\ttrain-auc:0.93624\n",
      "[103]\teval-auc:0.86209\ttrain-auc:0.936695\n",
      "[104]\teval-auc:0.862379\ttrain-auc:0.937132\n",
      "[105]\teval-auc:0.863061\ttrain-auc:0.938189\n",
      "[106]\teval-auc:0.863298\ttrain-auc:0.938718\n",
      "[107]\teval-auc:0.863513\ttrain-auc:0.939095\n",
      "[108]\teval-auc:0.863545\ttrain-auc:0.939245\n",
      "[109]\teval-auc:0.863784\ttrain-auc:0.939831\n",
      "[110]\teval-auc:0.863879\ttrain-auc:0.939994\n",
      "[111]\teval-auc:0.864524\ttrain-auc:0.940871\n",
      "[112]\teval-auc:0.864867\ttrain-auc:0.941483\n",
      "[113]\teval-auc:0.864968\ttrain-auc:0.941705\n",
      "[114]\teval-auc:0.865371\ttrain-auc:0.942161\n",
      "[115]\teval-auc:0.865594\ttrain-auc:0.942495\n",
      "[116]\teval-auc:0.865671\ttrain-auc:0.942595\n",
      "[117]\teval-auc:0.866176\ttrain-auc:0.943428\n",
      "[118]\teval-auc:0.866328\ttrain-auc:0.943568\n",
      "[119]\teval-auc:0.866996\ttrain-auc:0.94441\n",
      "[120]\teval-auc:0.867458\ttrain-auc:0.944945\n",
      "[121]\teval-auc:0.867506\ttrain-auc:0.945153\n",
      "[122]\teval-auc:0.867748\ttrain-auc:0.945499\n",
      "[123]\teval-auc:0.867985\ttrain-auc:0.946074\n",
      "[124]\teval-auc:0.86829\ttrain-auc:0.946409\n",
      "[125]\teval-auc:0.868537\ttrain-auc:0.946811\n",
      "[126]\teval-auc:0.868675\ttrain-auc:0.946981\n",
      "[127]\teval-auc:0.868808\ttrain-auc:0.947143\n",
      "Testing.......\n"
     ]
    },
    {
     "data": {
      "application/vnd.jupyter.widget-view+json": {
       "model_id": "2730f6735e0e487ba7aa2dc6e9a2bed5",
       "version_major": 2,
       "version_minor": 0
      },
      "text/plain": [
       "HBox(children=(IntProgress(value=0, max=522), HTML(value=u'')))"
      ]
     },
     "metadata": {},
     "output_type": "display_data"
    },
    {
     "name": "stdout",
     "output_type": "stream",
     "text": [
      "\n"
     ]
    },
    {
     "data": {
      "image/png": "[encoded data removed]",
      "text/plain": [
       "<Figure size 720x720 with 1 Axes>"
      ]
     },
     "metadata": {},
     "output_type": "display_data"
    }
   ],
   "source": [
    "from __future__ import print_function\n",
    "\n",
    "from sklearn.model_selection import train_test_split\n",
    "from sklearn.model_selection import StratifiedKFold\n",
    "from scipy import interp\n",
    "\n",
    "\n",
    "param = {'max_depth': 8, 'n_estimators': 16, 'eta': 0.1, 'silent': 1, 'objective': 'binary:logistic'}\n",
    "param['nthread'] = 20\n",
    "param['eval_metric'] = 'auc'\n",
    "num_round = 128\n",
    "\n",
    "bp = 'LeftDorsalOrgan'\n",
    "X = gt.index.values\n",
    "y = gt.loc[:, bp]\n",
    "mean_fpr = np.linspace(0, 1, 100)\n",
    "tprs = []\n",
    "aucs = []\n",
    "cv = StratifiedKFold(n_splits=5)\n",
    "sns.set(style=\"whitegrid\", font_scale=2)\n",
    "fig, ax = plt.subplots(1, 1, figsize=(10, 10))\n",
    "\n",
    "cnt = 0\n",
    "for train, test in cv.split(X, y):\n",
    "    print('CrossVal Round', cnt+1)\n",
    "    X_train = X[train]\n",
    "    y_train = y[train]\n",
    "    X_train_2, X_eval, y_train_2, y_eval = train_test_split(X_train, y_train, test_size=0.30, random_state=42)\n",
    "    \n",
    "    print('Training.......')\n",
    "    train_desc = np.zeros((0,128))\n",
    "    train_labels = np.zeros((0,1))\n",
    "    for i in tqdm_notebook(X_train_2):\n",
    "        train_desc = np.r_[train_desc, descs[i]]\n",
    "        train_labels = np.r_[train_labels, np.tile(gt.loc[i, bp], (np.shape(descs[i])[0], 1))]\n",
    "    \n",
    "    eval_desc = np.zeros((0,128))\n",
    "    eval_labels = np.zeros((0,1))\n",
    "    for i in tqdm_notebook(X_eval):\n",
    "        eval_desc = np.r_[eval_desc, descs[i]]\n",
    "        eval_labels = np.r_[eval_labels, np.tile(gt.loc[i, bp], (np.shape(descs[i])[0], 1))]\n",
    "    \n",
    "    deval = xgb.DMatrix(eval_desc, label=np.ravel(eval_labels))\n",
    "    dtrain = xgb.DMatrix(train_desc, label=np.ravel(train_labels))\n",
    "    evallist = [(deval, 'eval'), (dtrain, 'train')]\n",
    "    bst = xgb.train(param, dtrain, num_round, evallist)\n",
    "    \n",
    "    print('Testing.......')\n",
    "    test_desc = np.zeros((0,128))\n",
    "    test_labels = np.zeros((0,1))\n",
    "    probas_ = []\n",
    "    for i in tqdm_notebook(test):\n",
    "        pred = bst.predict(xgb.DMatrix(descs[i]))\n",
    "        probas_.append(np.mean(pred))\n",
    "        test_labels = np.r_[test_labels, np.reshape(np.array([gt.loc[i, bp]]), (1,1))]\n",
    "\n",
    "    # Compute ROC curve and area the curve\n",
    "    fpr, tpr, thresholds = roc_curve(test_labels, np.array(probas_))\n",
    "    tprs.append(interp(mean_fpr, fpr, tpr))\n",
    "    tprs[-1][0] = 0.0\n",
    "    roc_auc = auc(fpr, tpr)\n",
    "    aucs.append(roc_auc)\n",
    "    plt.plot(fpr, tpr, lw=1, alpha=0.3, label='ROC fold %d (AUC = %0.2f)' % (cnt, roc_auc))\n",
    "    cnt += 1\n",
    "\n",
    "# tprs_mat = np.array(tprs)\n",
    "# tprs_mat.dump(\"tprs_mat_LDO_depth8.dat\")\n",
    "\n",
    "# aucs_mat = np.array(aucs)\n",
    "# aucs_mat.dump(\"aucs_mat_LDO_depth8.dat\")\n",
    "\n",
    "# plt.plot([0, 1], [0, 1], linestyle='--', lw=2, color='r',\n",
    "#          label='Luck', alpha=.8)\n",
    "\n",
    "# mean_tpr = np.mean(tprs, axis=0)\n",
    "# mean_tpr[-1] = 1.0\n",
    "# mean_auc = auc(mean_fpr, mean_tpr)\n",
    "# std_auc = np.std(aucs)\n",
    "# plt.plot(mean_fpr, mean_tpr, color='b',\n",
    "#          label=r'Mean ROC (AUC = %0.2f $\\pm$ %0.2f)' % (mean_auc, std_auc),\n",
    "#          lw=2, alpha=.8)\n",
    "\n",
    "# std_tpr = np.std(tprs, axis=0)\n",
    "# tprs_upper = np.minimum(mean_tpr + std_tpr, 1)\n",
    "# tprs_lower = np.maximum(mean_tpr - std_tpr, 0)\n",
    "# plt.fill_between(mean_fpr, tprs_lower, tprs_upper, color='grey', alpha=.2,\n",
    "#                  label=r'$\\pm$ 1 std. dev.')\n",
    "\n",
    "# plt.xlim([-0.05, 1.05])\n",
    "# plt.ylim([-0.05, 1.05])\n",
    "# plt.xlabel('False Positive Rate')\n",
    "# plt.ylabel('True Positive Rate')\n",
    "# # plt.title('Receiver operating characteristic example')\n",
    "# plt.legend(loc=\"lower right\", frameon=False)\n",
    "# sns.despine()\n",
    "# plt.axis('scaled')\n",
    "# plt.savefig(\"CrossVal_ROC_10_Fold_LDO_depth8.png\", format='png', dpi=300, bbox_inches='tight')\n",
    "# plt.savefig(\"CrossVal_ROC_10_Fold_LDO_depth8.pdf\", format='pdf', dpi=300, bbox_inches='tight')\n",
    "# plt.show()"
   ]
  },
  {
   "cell_type": "code",
   "execution_count": 4,
   "metadata": {
    "ExecuteTime": {
     "end_time": "2018-08-08T19:03:28.999000Z",
     "start_time": "2018-08-08T19:03:27.878000Z"
    }
   },
   "outputs": [
    {
     "ename": "NameError",
     "evalue": "name 'sda' is not defined",
     "output_type": "error",
     "traceback": [
      "\u001b[1;31m\u001b[0m",
      "\u001b[1;31mNameError\u001b[0mTraceback (most recent call last)",
      "\u001b[1;32m<ipython-input-4-8fdca4e3395c>\u001b[0m in \u001b[0;36m<module>\u001b[1;34m()\u001b[0m\n\u001b[1;32m----> 1\u001b[1;33m \u001b[0msda\u001b[0m\u001b[1;33m\u001b[0m\u001b[0m\n\u001b[0m",
      "\u001b[1;31mNameError\u001b[0m: name 'sda' is not defined"
     ]
    }
   ],
   "source": [
    "sda"
   ]
  },
  {
   "cell_type": "code",
   "execution_count": null,
   "metadata": {
    "ExecuteTime": {
     "end_time": "2018-08-08T19:03:29Z",
     "start_time": "2018-08-08T18:41:10.348Z"
    }
   },
   "outputs": [],
   "source": [
    "from __future__ import print_function\n",
    "\n",
    "from sklearn.model_selection import train_test_split\n",
    "from sklearn.model_selection import StratifiedKFold\n",
    "from scipy import interp\n",
    "\n",
    "X = gt.index.values\n",
    "y = gt.loc[:, 'RightDorsalOrgan']\n",
    "mean_fpr = np.linspace(0, 1, 100)\n",
    "tprs = []\n",
    "aucs = []\n",
    "cv = StratifiedKFold(n_splits=5)\n",
    "sns.set(style=\"whitegrid\", font_scale=2)\n",
    "fig, ax = plt.subplots(1, 1, figsize=(10, 10))\n",
    "\n",
    "## Best parameters based on gridSearch are 64 and 100\n",
    "# rf = RandomForestClassifier(max_depth=64, n_estimators=128, n_jobs=16)\n",
    "# rf = RandomForestClassifier(max_depth=32, n_estimators=64, n_jobs=16)\n",
    "rf = RandomForestClassifier(max_depth=16, n_estimators=32, n_jobs=16)\n",
    "\n",
    "cnt = 0\n",
    "for train, test in cv.split(X, y):\n",
    "    print('CrossVal Round', cnt+1)\n",
    "    train_desc = np.zeros((0,128))\n",
    "    train_labels = np.zeros((0,1))\n",
    "    print('Training.......')\n",
    "    for i in tqdm_notebook(train):\n",
    "        train_desc = np.r_[train_desc, descs[i]]\n",
    "        train_labels = np.r_[train_labels, np.tile(gt.loc[i, 'RightDorsalOrgan'], (np.shape(descs[i])[0], 1))]\n",
    "    rf.fit(train_desc, np.ravel(train_labels))\n",
    "    \n",
    "    print('Testing.......')\n",
    "    test_desc = np.zeros((0,128))\n",
    "    test_labels = np.zeros((0,1))\n",
    "    probas_ = []\n",
    "    for i in tqdm_notebook(test):\n",
    "        pred = rf.predict(descs[i])\n",
    "        probas_.append(np.mean(pred))\n",
    "        test_labels = np.r_[test_labels, np.reshape(np.array([gt.loc[i, 'RightDorsalOrgan']]), (1,1))]\n",
    "\n",
    "    # Compute ROC curve and area the curve\n",
    "    fpr, tpr, thresholds = roc_curve(test_labels, np.array(probas_))\n",
    "    tprs.append(interp(mean_fpr, fpr, tpr))\n",
    "    tprs[-1][0] = 0.0\n",
    "    roc_auc = auc(fpr, tpr)\n",
    "    aucs.append(roc_auc)\n",
    "    plt.plot(fpr, tpr, lw=1, alpha=0.3, label='ROC fold %d (AUC = %0.2f)' % (cnt, roc_auc))\n",
    "    cnt += 1\n",
    "\n",
    "tprs_mat = np.array(tprs)\n",
    "tprs_mat.dump(\"tprs_mat_RDO_depth16.dat\")\n",
    "\n",
    "aucs_mat = np.array(aucs)\n",
    "aucs_mat.dump(\"aucs_mat_RDO_depth16.dat\")\n",
    "\n",
    "plt.plot([0, 1], [0, 1], linestyle='--', lw=2, color='r',\n",
    "         label='Luck', alpha=.8)\n",
    "\n",
    "mean_tpr = np.mean(tprs, axis=0)\n",
    "mean_tpr[-1] = 1.0\n",
    "mean_auc = auc(mean_fpr, mean_tpr)\n",
    "std_auc = np.std(aucs)\n",
    "plt.plot(mean_fpr, mean_tpr, color='b',\n",
    "         label=r'Mean ROC (AUC = %0.2f $\\pm$ %0.2f)' % (mean_auc, std_auc),\n",
    "         lw=2, alpha=.8)\n",
    "\n",
    "std_tpr = np.std(tprs, axis=0)\n",
    "tprs_upper = np.minimum(mean_tpr + std_tpr, 1)\n",
    "tprs_lower = np.maximum(mean_tpr - std_tpr, 0)\n",
    "plt.fill_between(mean_fpr, tprs_lower, tprs_upper, color='grey', alpha=.2,\n",
    "                 label=r'$\\pm$ 1 std. dev.')\n",
    "\n",
    "plt.xlim([-0.05, 1.05])\n",
    "plt.ylim([-0.05, 1.05])\n",
    "plt.xlabel('False Positive Rate')\n",
    "plt.ylabel('True Positive Rate')\n",
    "# plt.title('Receiver operating characteristic example')\n",
    "plt.legend(loc=\"lower right\", frameon=False)\n",
    "sns.despine()\n",
    "plt.axis('scaled')\n",
    "plt.savefig(\"CrossVal_ROC_10_Fold_RDO_depth16.png\", format='png', dpi=300, bbox_inches='tight')\n",
    "plt.savefig(\"CrossVal_ROC_10_Fold_RDO_depth16.pdf\", format='pdf', dpi=300, bbox_inches='tight')\n",
    "plt.show()"
   ]
  },
  {
   "cell_type": "code",
   "execution_count": null,
   "metadata": {
    "ExecuteTime": {
     "end_time": "2018-08-08T19:03:29.002000Z",
     "start_time": "2018-08-08T18:41:10.350Z"
    }
   },
   "outputs": [],
   "source": [
    "print(asfasfag)"
   ]
  },
  {
   "cell_type": "code",
   "execution_count": null,
   "metadata": {},
   "outputs": [],
   "source": []
  },
  {
   "cell_type": "code",
   "execution_count": null,
   "metadata": {
    "ExecuteTime": {
     "end_time": "2018-08-08T19:03:29.005000Z",
     "start_time": "2018-08-08T18:41:10.354Z"
    },
    "code_folding": [
     25,
     27,
     29,
     31
    ]
   },
   "outputs": [],
   "source": [
    "from __future__ import print_function\n",
    "\n",
    "from sklearn.model_selection import train_test_split, StratifiedKFold\n",
    "from sklearn.metrics import precision_recall_fscore_support\n",
    "from scipy import interp\n",
    "\n",
    "X = gt.index.values\n",
    "y = gt.loc[:, 'LeftDorsalOrgan']\n",
    "X_train, X_test, y_train, y_test = train_test_split(X, y, test_size=0.5, random_state=0)\n",
    "\n",
    "nsplits = 3\n",
    "cv = StratifiedKFold(n_splits=nsplits)\n",
    "\n",
    "# Set the parameters by cross-validation\n",
    "tuned_parameters = {'max_depth': [16, 32, 64, 128, 256],\n",
    "                     'n_estimators': [1, 10, 100, 1000]}\n",
    "\n",
    "scores = ['precision', 'recall']\n",
    "\n",
    "mean_fpr = np.linspace(0, 1, 100)\n",
    "tprs = []\n",
    "aucs = []\n",
    "\n",
    "tprs = []\n",
    "\n",
    "grid_precision = np.zeros((nsplits, len(tuned_parameters['max_depth']),\n",
    "                      len(tuned_parameters['n_estimators'])))\n",
    "grid_recall = np.zeros((nsplits, len(tuned_parameters['max_depth']),\n",
    "                      len(tuned_parameters['n_estimators'])))\n",
    "grid_f1 = np.zeros((nsplits, len(tuned_parameters['max_depth']),\n",
    "                      len(tuned_parameters['n_estimators'])))\n",
    "grid_auc = np.zeros((nsplits, len(tuned_parameters['max_depth']),\n",
    "                      len(tuned_parameters['n_estimators'])))\n",
    "\n",
    "sp = -1\n",
    "for train, test in cv.split(X_train, y_train):\n",
    "    sp += 1\n",
    "    train_desc = np.zeros((0,128))\n",
    "    train_labels = np.zeros((0,1))\n",
    "    for i in train:\n",
    "        train_desc = np.r_[train_desc, descs[i]]\n",
    "        train_labels = np.r_[train_labels, np.tile(gt.loc[i, 'LeftDorsalOrgan'], (np.shape(descs[i])[0], 1))]\n",
    "    \n",
    "    for i_est, est in enumerate(tuned_parameters['n_estimators']):\n",
    "        for i_dep, dep in enumerate(tuned_parameters['max_depth']):\n",
    "            rf = RandomForestClassifier(max_depth=dep, n_estimators=est)\n",
    "            rf.fit(train_desc, np.ravel(train_labels))\n",
    "            \n",
    "            test_desc = np.zeros((0,128))\n",
    "            test_labels = np.zeros((0,1))\n",
    "            probas_ = []\n",
    "            for i in test:\n",
    "                pred = rf.predict(descs[i])\n",
    "                probas_.append(np.mean(pred))\n",
    "                test_labels = np.r_[test_labels, np.reshape(np.array([gt.loc[i, 'LeftDorsalOrgan']]), (1,1))]\n",
    "\n",
    "            # Compute ROC curve and area the curve\n",
    "            fpr, tpr, thresholds = roc_curve(test_labels, np.array(probas_))\n",
    "            grid_auc[sp, i_dep, i_est] = auc(fpr, tpr)\n",
    "            \n",
    "#             prec, recl, f1, _ = precision_recall_fscore_support(test_labels, np.array(probas_), average='weighted')\n",
    "#             grid_precision[sp, i_dep, i_est] = prec.copy()\n",
    "#             grid_precision[sp, i_dep, i_est] = recl.copy()\n",
    "#             grid_precision[sp, i_dep, i_est] = f1.copy()\n",
    "\n",
    "grid_auc.dump(\"grid_auc_10.dat\")\n",
    "mat2 = np.load(\"grid_auc_10.dat\")"
   ]
  },
  {
   "cell_type": "code",
   "execution_count": null,
   "metadata": {
    "ExecuteTime": {
     "end_time": "2018-08-07T19:03:27.886950Z",
     "start_time": "2018-08-07T19:03:27.878307Z"
    }
   },
   "outputs": [],
   "source": []
  },
  {
   "cell_type": "code",
   "execution_count": null,
   "metadata": {
    "ExecuteTime": {
     "end_time": "2018-08-08T19:03:29.007000Z",
     "start_time": "2018-08-08T18:41:10.356Z"
    }
   },
   "outputs": [],
   "source": [
    "# df = pd.DataFrame(np.c_[thresholds.T, fpr.T, tpr.T], columns=['Threshold', 'FPR', 'TPR'])\n",
    "# df.loc[:, 'FPR'] = df.loc[:, 'FPR'].copy()*100\n",
    "# df.loc[:, 'TPR'] = df.loc[:, 'TPR'].copy()*100\n",
    "# df.loc[:, ['TPR', 'FPR']] = df.loc[:, ['TPR', 'FPR']].round(0).copy()\n",
    "# tol_cutoff = 10.0\n",
    "\n",
    "# optimal_votes = df[df['FPR'] == tol_cutoff].iloc[0, 0]\n",
    "# optimal_tpr = df[df['FPR'] == tol_cutoff].iloc[0, 2]\n",
    "# optimal_fpr = df[df['FPR'] == tol_cutoff].iloc[0, 1]\n",
    "\n",
    "# print 'Optimal votes at %d percent FPR : %0.2f '%(optimal_fpr, optimal_votes) \n",
    "# print 'TPR at Optimal votes : ', optimal_tpr\n"
   ]
  },
  {
   "cell_type": "code",
   "execution_count": null,
   "metadata": {
    "ExecuteTime": {
     "end_time": "2018-08-08T19:03:29.009000Z",
     "start_time": "2018-08-08T18:41:10.359Z"
    }
   },
   "outputs": [],
   "source": [
    "# det = np.zeros_like(votes_use)\n",
    "# pos_frames = np.where(votes_use >= optimal_votes)\n",
    "# neg_frames = np.where(votes_use < optimal_votes)\n",
    "# det[pos_frames] = 1"
   ]
  },
  {
   "cell_type": "code",
   "execution_count": null,
   "metadata": {
    "ExecuteTime": {
     "end_time": "2018-08-08T19:03:29.011000Z",
     "start_time": "2018-08-08T18:41:10.361Z"
    }
   },
   "outputs": [],
   "source": [
    "# out_vid = 'temp.avi'\n",
    "# video_crop = cv2.VideoWriter(out_vid, 0, 5, (1920, 1920))\n",
    "# cap = cv2.VideoCapture(video_file)\n",
    "\n",
    "# first_frame = gt.index.values[0]\n",
    "# ind = -1\n",
    "# for frame_index, row in gt.iterrows():\n",
    "#     ind += 1\n",
    "#     if cap.isOpened():\n",
    "#         cap.set(1, frame_index)\n",
    "#         ret, frame = cap.read()\n",
    "#         if (ret == True):\n",
    "#             if votes_use[ind] >= optimal_votes:\n",
    "#                 cv2.circle(frame, (1800, 200), radius=30, color=(0, 255, 0), thickness=-1)\n",
    "#             else:\n",
    "#                 cv2.circle(frame, (1800, 200), radius=30, color=(0, 0, 255), thickness=-1)\n",
    "\n",
    "#             video_crop.write(frame)\n",
    "#     else:\n",
    "#         print 'Cap Not Opened'\n",
    "#         cap.release()\n",
    "\n",
    "# cap.release()\n",
    "# cv2.destroyAllWindows()\n",
    "# video_crop.release()"
   ]
  },
  {
   "cell_type": "code",
   "execution_count": null,
   "metadata": {
    "ExecuteTime": {
     "end_time": "2018-08-08T19:03:29.013000Z",
     "start_time": "2018-08-08T18:41:10.363Z"
    },
    "scrolled": false
   },
   "outputs": [],
   "source": [
    "# gt = {}\n",
    "# fpr = {}\n",
    "# tpr = {}\n",
    "# thresholds = {}\n",
    "# roc_auc = {}\n",
    "\n",
    "# train_data_pos = get_train_data(train_pos.copy())\n",
    "# train_data_neg = get_train_data(train_neg.copy())\n",
    "\n",
    "# fig_roc = plt.figure(figsize=(14, 12))\n",
    "# patch_sizes = np.arange(4, 17, 2)\n",
    "# patch_sigmas = np.arange(0.1, 11, 1)\n",
    "# detected_loc = {}\n",
    "# for vote_patch in patch_sizes:\n",
    "#     for vote_sigma in patch_sigmas:\n",
    "#         detected_loc = predict_locations_patchsize(train_data_pos, test_annotations, vote_patch, vote_sigma)\n",
    "#         gt, fpr, tpr, thresholds, roc_auc = plot_roc_curve_metrics(detected_loc, no_anno_df, ['Sum'])\n",
    "#         plt.plot(fpr, tpr, lw=2, label='R-%d S-%d (AUC = %0.2f)'%(vote_patch, vote_sigma, roc_auc))\n",
    "\n",
    "# plt.plot([0, 1], [0, 1], color='navy', lw=2, linestyle='--')\n",
    "# plt.xlim([-0.05, 1.05])\n",
    "# plt.ylim([-0.05, 1.05])\n",
    "# plt.xlabel('False Positive Rate')\n",
    "# plt.ylabel('True Positive Rate')\n",
    "# # plt.title(bp)\n",
    "# plt.legend(loc=\"lower right\", frameon=False)\n",
    "# plt.show()"
   ]
  },
  {
   "cell_type": "code",
   "execution_count": null,
   "metadata": {
    "ExecuteTime": {
     "end_time": "2018-08-06T18:02:07.672373Z",
     "start_time": "2018-08-06T18:02:05.427510Z"
    }
   },
   "outputs": [],
   "source": []
  },
  {
   "cell_type": "code",
   "execution_count": null,
   "metadata": {
    "ExecuteTime": {
     "end_time": "2018-08-06T18:13:35.776847Z",
     "start_time": "2018-08-06T18:13:35.765784Z"
    }
   },
   "outputs": [],
   "source": []
  },
  {
   "cell_type": "code",
   "execution_count": null,
   "metadata": {},
   "outputs": [],
   "source": []
  },
  {
   "cell_type": "code",
   "execution_count": null,
   "metadata": {},
   "outputs": [],
   "source": []
  },
  {
   "cell_type": "code",
   "execution_count": null,
   "metadata": {},
   "outputs": [],
   "source": []
  },
  {
   "cell_type": "code",
   "execution_count": null,
   "metadata": {},
   "outputs": [],
   "source": []
  },
  {
   "cell_type": "code",
   "execution_count": null,
   "metadata": {},
   "outputs": [],
   "source": []
  },
  {
   "cell_type": "code",
   "execution_count": null,
   "metadata": {},
   "outputs": [],
   "source": []
  },
  {
   "cell_type": "code",
   "execution_count": null,
   "metadata": {},
   "outputs": [],
   "source": []
  },
  {
   "cell_type": "code",
   "execution_count": null,
   "metadata": {},
   "outputs": [],
   "source": []
  },
  {
   "cell_type": "code",
   "execution_count": null,
   "metadata": {},
   "outputs": [],
   "source": []
  },
  {
   "cell_type": "code",
   "execution_count": null,
   "metadata": {},
   "outputs": [],
   "source": []
  },
  {
   "cell_type": "code",
   "execution_count": null,
   "metadata": {
    "ExecuteTime": {
     "end_time": "2018-08-08T19:03:29.015000Z",
     "start_time": "2018-08-08T18:41:10.386Z"
    }
   },
   "outputs": [],
   "source": [
    "# train_data_pos = get_train_data(train_pos.copy())\n",
    "# detected_loc = predict_locations(train_data_pos, test_annotations)\n",
    "\n",
    "# ground_truth = detected_loc.iloc[:, 17:].astype(dtype=np.uint16).copy()\n",
    "# ground_truth.loc[:, :] = 1\n",
    "# for rind, rval in no_anno_df.iterrows():\n",
    "#     if rval['index'] in detected_loc.index.values:\n",
    "#         ground_truth.loc[rval['index'], rval['col']+'_votes'] = 0\n",
    "# votes_use = detected_loc.iloc[:, 17:].astype(dtype=np.float32).copy()\n",
    "    \n",
    "# y_true = ground_truth['LeftDorsalOrgan_votes'].values\n",
    "# y_score = votes_use['LeftDorsalOrgan_votes'].values\n",
    "\n",
    "# # make y_true a boolean vector\n",
    "# y_true = (y_true == 1)\n",
    "\n",
    "# # sort scores and corresponding truth values\n",
    "# desc_score_indices = np.argsort(y_score, kind=\"mergesort\")[::-1]\n",
    "# y_score = y_score[desc_score_indices]\n",
    "# y_true = y_true[desc_score_indices]\n",
    "# weight = 1.\n",
    "\n",
    "# # y_score typically has many tied values. Here we extract\n",
    "# # the indices associated with the distinct values. We also\n",
    "# # concatenate a value for the end of the curve.\n",
    "# distinct_value_indices = np.where(np.diff(y_score))[0]\n",
    "# threshold_idxs = np.r_[distinct_value_indices, y_true.size - 1]\n",
    "\n",
    "# # accumulate the true positives with decreasing threshold\n",
    "# # tps = stable_cumsum(y_true * weight)[threshold_idxs]\n",
    "# tps = np.cumsum(y_true * weight)[threshold_idxs]\n",
    "# fps = 1 + threshold_idxs - tps\n",
    "\n",
    "# # return fps, tps, y_score[threshold_idxs]\n",
    "\n",
    "# fpr = fps / fps[-1]\n",
    "# tpr = tps / tps[-1]\n"
   ]
  },
  {
   "cell_type": "code",
   "execution_count": null,
   "metadata": {
    "ExecuteTime": {
     "end_time": "2018-08-08T19:03:29.017000Z",
     "start_time": "2018-08-08T18:41:10.388Z"
    }
   },
   "outputs": [],
   "source": [
    "# temp_coordinates = all_coordinates.loc[:, all_coordinates.columns.values[::2]]\n",
    "# total_negatives = temp_coordinates[temp_coordinates<0].count()\n",
    "# total_positives = temp_coordinates[temp_coordinates>=0].count()\n",
    "# posneg_df = pd.DataFrame([total_positives, total_negatives])\n",
    "# posneg_df.columns = distance_header\n",
    "# posneg_df.index = ['pos', 'neg']\n",
    "# posneg_df"
   ]
  },
  {
   "cell_type": "code",
   "execution_count": null,
   "metadata": {
    "ExecuteTime": {
     "end_time": "2018-08-08T19:03:29.019000Z",
     "start_time": "2018-08-08T18:41:10.390Z"
    }
   },
   "outputs": [],
   "source": [
    "# vote_patch_size = 30\n",
    "# vote_sigma = 15\n",
    "# bodypart_vote = np.zeros((2 * vote_patch_size + 1, 2 * vote_patch_size + 1), np.float)\n",
    "\n",
    "# for x in range(-vote_patch_size, vote_patch_size + 1):\n",
    "#     for y in range(-vote_patch_size, vote_patch_size + 1):\n",
    "#         bodypart_vote[y + vote_patch_size, x + vote_patch_size] = np.exp(-0.5 * (\n",
    "#             x * x + y * y) / (np.square(vote_sigma))) / (vote_sigma * np.sqrt(2 * np.pi))\n",
    "\n",
    "# imgplot = plt.imshow(bodypart_vote, cmap=\"hot\")\n",
    "# plt.colorbar()"
   ]
  },
  {
   "cell_type": "code",
   "execution_count": null,
   "metadata": {
    "scrolled": false
   },
   "outputs": [],
   "source": []
  }
 ],
 "metadata": {
  "kernelspec": {
   "display_name": "Python 2",
   "language": "python",
   "name": "python2"
  },
  "language_info": {
   "codemirror_mode": {
    "name": "ipython",
    "version": 2
   },
   "file_extension": ".py",
   "mimetype": "text/x-python",
   "name": "python",
   "nbconvert_exporter": "python",
   "pygments_lexer": "ipython2",
   "version": "2.7.15"
  },
  "varInspector": {
   "cols": {
    "lenName": 16,
    "lenType": 16,
    "lenVar": 40
   },
   "kernels_config": {
    "python": {
     "delete_cmd_postfix": "",
     "delete_cmd_prefix": "del ",
     "library": "var_list.py",
     "varRefreshCmd": "print(var_dic_list())"
    },
    "r": {
     "delete_cmd_postfix": ") ",
     "delete_cmd_prefix": "rm(",
     "library": "var_list.r",
     "varRefreshCmd": "cat(var_dic_list()) "
    }
   },
   "types_to_exclude": [
    "module",
    "function",
    "builtin_function_or_method",
    "instance",
    "_Feature"
   ],
   "window_display": false
  }
 },
 "nbformat": 4,
 "nbformat_minor": 2
}
