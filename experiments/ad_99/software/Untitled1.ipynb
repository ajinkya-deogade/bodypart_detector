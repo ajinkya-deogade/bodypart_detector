{
 "cells": [
  {
   "cell_type": "code",
   "execution_count": null,
   "metadata": {},
   "outputs": [],
   "source": [
    "from sklearn.ensemble import RandomForestClassifier\n",
    "import numpy as np\n",
    "\n",
    "rf = joblib.load('20180808_rf_model_depth16.pkl')\n",
    "\n",
    "def predict_DO_presence(desc):\n",
    "    pred = rf.predict(desc)\n",
    "    prob = np.mean(pred)\n",
    "    prediction = 0\n",
    "    if prob > 0.4:\n",
    "        prediction = 1\n",
    "    \n",
    "    return prediction, prob"
   ]
  }
 ],
 "metadata": {
  "kernelspec": {
   "display_name": "Python 2",
   "language": "python",
   "name": "python2"
  },
  "language_info": {
   "codemirror_mode": {
    "name": "ipython",
    "version": 2
   },
   "file_extension": ".py",
   "mimetype": "text/x-python",
   "name": "python",
   "nbconvert_exporter": "python",
   "pygments_lexer": "ipython2",
   "version": "2.7.15"
  }
 },
 "nbformat": 4,
 "nbformat_minor": 2
}
