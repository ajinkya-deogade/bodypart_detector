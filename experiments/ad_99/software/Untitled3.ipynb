{
 "cells": [
  {
   "cell_type": "code",
   "execution_count": 1,
   "metadata": {
    "ExecuteTime": {
     "end_time": "2018-08-13T21:18:33.583000Z",
     "start_time": "2018-08-13T21:18:32.382000Z"
    }
   },
   "outputs": [
    {
     "name": "stderr",
     "output_type": "stream",
     "text": [
      "C:\\Users\\Shaul\\Anaconda2\\lib\\site-packages\\h5py\\__init__.py:36: FutureWarning: Conversion of the second argument of issubdtype from `float` to `np.floating` is deprecated. In future, it will be treated as `np.float64 == np.dtype(float).type`.\n",
      "  from ._conv import register_converters as _register_converters\n"
     ]
    }
   ],
   "source": [
    "import numpy as np\n",
    "import pandas as pd\n",
    "import os\n",
    "import matplotlib\n",
    "import matplotlib.pyplot as plt\n",
    "from matplotlib import cm\n",
    "from pyflann import *\n",
    "from sklearn.neighbors import NearestNeighbors\n",
    "from sklearn.metrics import roc_curve, auc\n",
    "import cv2\n",
    "import csv\n",
    "import re\n",
    "from sklearn.ensemble import RandomForestClassifier\n",
    "import json\n",
    "from tqdm import tqdm_notebook\n",
    "import seaborn as sns\n",
    "\n",
    "# %matplotlib notebook\n",
    "\n",
    "coordinate_header = ['FrameNumber', 'MouthHook_x', 'MouthHook_y', 'LeftMHhook_x', 'LeftMHhook_y',\n",
    "                     'RightMHhook_x', 'RightMHhook_y', 'LeftDorsalOrgan_x', 'LeftDorsalOrgan_y',\n",
    "                     'RightDorsalOrgan_x', 'RightDorsalOrgan_y', 'CenterBolwigOrgan_x', 'CenterBolwigOrgan_y',\n",
    "                     'LeftBolwigOrgan_x', 'LeftBolwigOrgan_y', 'RightBolwigOrgan_x', 'RightBolwigOrgan_y']\n",
    "\n",
    "distance_header = ['MouthHook', 'LeftMHhook',\n",
    "                   'RightMHhook', 'LeftDorsalOrgan', 'RightDorsalOrgan',\n",
    "                   'CenterBolwigOrgan', 'LeftBolwigOrgan', 'RightBolwigOrgan']\n",
    "\n",
    "project_dir=\"G:/My Drive/CRG_Dropbox/AljoComputer/Temp\"\n",
    "dir_keypoints=\"../expts/KeypointsAndDescriptors/validKeyPoints\"\n",
    "dir_descriptors=\"../expts/KeypointsAndDescriptors/descriptors\"\n",
    "\n",
    "surf = cv2.xfeatures2d.SURF_create(hessianThreshold=400, nOctaves=3,nOctaveLayers=2, extended=True)"
   ]
  },
  {
   "cell_type": "code",
   "execution_count": 7,
   "metadata": {
    "ExecuteTime": {
     "end_time": "2018-08-13T21:19:03.579000Z",
     "start_time": "2018-08-13T21:19:03.412000Z"
    }
   },
   "outputs": [
    {
     "data": {
      "application/vnd.jupyter.widget-view+json": {
       "model_id": "f5641554ac0d497996c6e07eb2dd465e",
       "version_major": 2,
       "version_minor": 0
      },
      "text/plain": [
       "HBox(children=(IntProgress(value=0, max=1), HTML(value=u'')))"
      ]
     },
     "metadata": {},
     "output_type": "display_data"
    },
    {
     "name": "stdout",
     "output_type": "stream",
     "text": [
      "\n"
     ]
    }
   ],
   "source": [
    "# meta_data_header = ['FrameNumber', 'Stage_X', 'Stage_Y', 'X', 'Y', 'Head_X', 'Head_Y', 'Tail_X', 'Tail_Y']\n",
    "super_root = \"G:/My Drive/CRG_Dropbox/Tracker Development (Ajinkya)/MHDO_Tracking/data/Janelia_Q2_2015/20150501_MPEG4_EthylButyrate/Videos/relevant/\"\n",
    "# exp_list = [\"002_20150501_142038_StageData_ContourData\", \"003_20150501_143057_StageData_ContourData\",\n",
    "#             \"008_20150501_151739_StageData_ContourData\", \"009_20150501_152447_StageData_ContourData\",\n",
    "#             \"012_20150501_155154_StageData_ContourData\"]\n",
    "\n",
    "exp_list = [\"008_20150501_151739_StageData_ContourData\"]\n",
    "\n",
    "crop_size = 512\n",
    "for exp in tqdm_notebook(exp_list):\n",
    "    root = super_root + exp\n",
    "    for fs in os.listdir(root):\n",
    "        if '_pred.csv' in fs:\n",
    "            meta_data_file = os.path.join(root, fs)\n",
    "            meta_data = pd.read_csv(meta_data_file, sep=',')"
   ]
  },
  {
   "cell_type": "code",
   "execution_count": 8,
   "metadata": {
    "ExecuteTime": {
     "end_time": "2018-08-13T21:19:04.256000Z",
     "start_time": "2018-08-13T21:19:04.238000Z"
    }
   },
   "outputs": [
    {
     "data": {
      "text/plain": [
       "'G:/My Drive/CRG_Dropbox/Tracker Development (Ajinkya)/MHDO_Tracking/data/Janelia_Q2_2015/20150501_MPEG4_EthylButyrate/Videos/relevant/008_20150501_151739_StageData_ContourData\\\\Metadata_20150501_151739_pred.csv'"
      ]
     },
     "execution_count": 8,
     "metadata": {},
     "output_type": "execute_result"
    }
   ],
   "source": [
    "meta_data_file"
   ]
  },
  {
   "cell_type": "code",
   "execution_count": 9,
   "metadata": {
    "ExecuteTime": {
     "end_time": "2018-08-13T21:19:04.781000Z",
     "start_time": "2018-08-13T21:19:04.748000Z"
    }
   },
   "outputs": [],
   "source": [
    "meta_data_sel = meta_data.loc[0:30000, :].copy()\n",
    "s = meta_data_sel.loc[:, 'pred_probab'] > 0.2\n",
    "meta_data_sel.loc[:, 'prediction'] = 0\n",
    "meta_data_sel.loc[s, 'prediction'] = 1"
   ]
  },
  {
   "cell_type": "code",
   "execution_count": 13,
   "metadata": {
    "ExecuteTime": {
     "end_time": "2018-08-13T21:19:38.959000Z",
     "start_time": "2018-08-13T21:19:38.925000Z"
    }
   },
   "outputs": [
    {
     "data": {
      "text/plain": [
       "9765"
      ]
     },
     "execution_count": 13,
     "metadata": {},
     "output_type": "execute_result"
    }
   ],
   "source": [
    "len(s)"
   ]
  },
  {
   "cell_type": "code",
   "execution_count": 10,
   "metadata": {
    "ExecuteTime": {
     "end_time": "2018-08-13T21:19:06.112000Z",
     "start_time": "2018-08-13T21:19:06.092000Z"
    }
   },
   "outputs": [
    {
     "data": {
      "text/plain": [
       "9765"
      ]
     },
     "execution_count": 10,
     "metadata": {},
     "output_type": "execute_result"
    }
   ],
   "source": [
    "meta_data_sel['pred_probab'].isnull().count()"
   ]
  },
  {
   "cell_type": "code",
   "execution_count": 11,
   "metadata": {
    "ExecuteTime": {
     "end_time": "2018-08-13T21:19:08.823000Z",
     "start_time": "2018-08-13T21:19:08.582000Z"
    }
   },
   "outputs": [
    {
     "data": {
      "text/plain": [
       "[<matplotlib.lines.Line2D at 0xe0e6fd0>]"
      ]
     },
     "execution_count": 11,
     "metadata": {},
     "output_type": "execute_result"
    },
    {
     "data": {
      "image/png": "[encoded data removed]",
      "text/plain": [
       "<Figure size 432x288 with 1 Axes>"
      ]
     },
     "metadata": {},
     "output_type": "display_data"
    }
   ],
   "source": [
    "plt.plot(meta_data_sel.loc[:, 'prediction'])"
   ]
  },
  {
   "cell_type": "code",
   "execution_count": null,
   "metadata": {
    "ExecuteTime": {
     "end_time": "2018-08-10T18:27:28.465000Z",
     "start_time": "2018-08-10T18:27:28.438000Z"
    }
   },
   "outputs": [],
   "source": [
    "s = []\n",
    "start = []\n",
    "end = []\n",
    "dif = []\n",
    "st_end = []\n",
    "s = meta_data_sel['prediction']\n",
    "start = np.where(s.diff() == 1)[0]\n",
    "end = np.where(s.diff() == -1)[0] - 1\n",
    "dif =  np.r_[0, start[1:] - end[:-1]]\n",
    "st_end = np.c_[start.T, end.T, dif.T]\n",
    "# np.where(st_end[:, 2] < 2)\n",
    "# st_end = np.delete(st_end, np.where(st_end[:, 2] < 2), 0)\n",
    "\n",
    "st_end[:10, :]"
   ]
  },
  {
   "cell_type": "code",
   "execution_count": null,
   "metadata": {
    "ExecuteTime": {
     "end_time": "2018-08-13T20:44:35.499000Z",
     "start_time": "2018-08-13T20:44:35.473000Z"
    },
    "scrolled": false
   },
   "outputs": [],
   "source": [
    "print st_end\n",
    "to_combine = np.where(st_end[:, 2] <= 10)[0]\n",
    "for i in to_combine:\n",
    "    if i == 0:\n",
    "        continue\n",
    "    st_end[i-1, 1] = st_end[i, 1].copy()\n",
    "    \n",
    "print st_end\n",
    "# st_end_2 = np.delete(st_end, to_combine, axis=0)\n",
    "# st_end_2"
   ]
  },
  {
   "cell_type": "code",
   "execution_count": null,
   "metadata": {
    "ExecuteTime": {
     "end_time": "2018-08-10T18:08:57.072000Z",
     "start_time": "2018-08-10T18:08:57.036000Z"
    }
   },
   "outputs": [],
   "source": []
  },
  {
   "cell_type": "code",
   "execution_count": null,
   "metadata": {
    "ExecuteTime": {
     "end_time": "2018-08-10T15:32:27.395000Z",
     "start_time": "2018-08-10T15:32:27.112000Z"
    }
   },
   "outputs": [],
   "source": [
    "plt.hist(dif, bins=np.arange(0, 15))"
   ]
  },
  {
   "cell_type": "code",
   "execution_count": null,
   "metadata": {
    "ExecuteTime": {
     "end_time": "2018-08-10T14:44:48.430000Z",
     "start_time": "2018-08-10T14:44:48.218000Z"
    }
   },
   "outputs": [],
   "source": [
    "dsaf"
   ]
  },
  {
   "cell_type": "code",
   "execution_count": null,
   "metadata": {
    "ExecuteTime": {
     "end_time": "2018-08-10T14:44:48.431000Z",
     "start_time": "2018-08-10T14:44:45.973Z"
    }
   },
   "outputs": [],
   "source": [
    "super_root = 'G:/My Drive/CRG_Dropbox\\Tracker Development (Ajinkya)/MHDO_Tracking/data/Janelia_Q2_2015/20150501_MPEG4_NoOdor/Annotations_And_Frames'\n",
    "all_annotations = []\n",
    "for root, dirs, files in os.walk(super_root):\n",
    "    if not dirs:\n",
    "        for f in files:\n",
    "            if os.path.splitext(f)[1] == \".json\":\n",
    "                with open(os.path.join(root, f)) as fin_annotation:\n",
    "                    annotation = json.load(fin_annotation)\n",
    "                    all_annotations.extend(annotation[\"Annotations\"])\n",
    "\n",
    "print \"len(all_annotations):\", len(all_annotations)"
   ]
  },
  {
   "cell_type": "code",
   "execution_count": null,
   "metadata": {
    "ExecuteTime": {
     "end_time": "2018-08-10T14:44:48.434000Z",
     "start_time": "2018-08-10T14:44:45.976Z"
    }
   },
   "outputs": [],
   "source": [
    "meta_data_header = ['FrameNumber', 'Stage_X', 'Stage_Y', 'X', 'Y', 'Head_X', 'Head_Y', 'Tail_X', 'Tail_Y']\n",
    "super_root = \"G:/My Drive/CRG_Dropbox/Tracker Development (Ajinkya)/MHDO_Tracking/data/Janelia_Q2_2015/20150501_MPEG4_NoOdor/Videos/relevant/\"\n",
    "exp_list = [\"005_20150430_174405_StageData_ContourData\", \"006_20150430_175243_StageData_ContourData\",\n",
    "            \"009_20150430_182411_StageData_ContourData\", \"011_20150430_183916_StageData_ContourData\",\n",
    "            \"015_20150430_191255_StageData_ContourData\"]\n",
    "\n",
    "crop_size = 512\n",
    "for exp in tqdm_notebook(exp_list):\n",
    "    root = super_root + exp    \n",
    "    for fs in os.listdir(root):\n",
    "        if '_pred.csv' in fs:\n",
    "            meta_data_file = os.path.join(root, fs)\n",
    "            meta_data = pd.read_csv(meta_data_file, sep=',')"
   ]
  },
  {
   "cell_type": "code",
   "execution_count": null,
   "metadata": {},
   "outputs": [],
   "source": []
  },
  {
   "cell_type": "code",
   "execution_count": null,
   "metadata": {},
   "outputs": [],
   "source": []
  },
  {
   "cell_type": "code",
   "execution_count": null,
   "metadata": {},
   "outputs": [],
   "source": []
  },
  {
   "cell_type": "code",
   "execution_count": null,
   "metadata": {},
   "outputs": [],
   "source": []
  },
  {
   "cell_type": "code",
   "execution_count": null,
   "metadata": {
    "ExecuteTime": {
     "end_time": "2018-08-10T14:44:48.436000Z",
     "start_time": "2018-08-10T14:44:45.984Z"
    }
   },
   "outputs": [],
   "source": [
    "das"
   ]
  },
  {
   "cell_type": "code",
   "execution_count": null,
   "metadata": {
    "ExecuteTime": {
     "end_time": "2018-08-10T14:44:48.438000Z",
     "start_time": "2018-08-10T14:44:45.986Z"
    }
   },
   "outputs": [],
   "source": [
    "plt.plot(meta_data_sel.loc[:, 'prediction'])"
   ]
  },
  {
   "cell_type": "code",
   "execution_count": null,
   "metadata": {
    "ExecuteTime": {
     "end_time": "2018-08-10T14:44:48.441000Z",
     "start_time": "2018-08-10T14:44:45.987Z"
    }
   },
   "outputs": [],
   "source": [
    "meta_data"
   ]
  },
  {
   "cell_type": "code",
   "execution_count": null,
   "metadata": {},
   "outputs": [],
   "source": []
  }
 ],
 "metadata": {
  "kernelspec": {
   "display_name": "Python 2",
   "language": "python",
   "name": "python2"
  },
  "language_info": {
   "codemirror_mode": {
    "name": "ipython",
    "version": 2
   },
   "file_extension": ".py",
   "mimetype": "text/x-python",
   "name": "python",
   "nbconvert_exporter": "python",
   "pygments_lexer": "ipython2",
   "version": "2.7.15"
  }
 },
 "nbformat": 4,
 "nbformat_minor": 2
}
