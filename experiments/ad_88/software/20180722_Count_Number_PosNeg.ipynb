{
 "cells": [
  {
   "cell_type": "code",
   "execution_count": 1,
   "metadata": {
    "ExecuteTime": {
     "end_time": "2018-07-24T19:16:46.997630Z",
     "start_time": "2018-07-24T19:16:46.517222Z"
    },
    "code_folding": [
     44,
     144,
     271,
     300,
     331
    ],
    "hide_input": false
   },
   "outputs": [
    {
     "name": "stdout",
     "output_type": "stream",
     "text": [
      "Using matplotlib backend: MacOSX\n",
      "Warning: Cannot change to a different GUI toolkit: notebook. Using osx instead.\n"
     ]
    }
   ],
   "source": [
    "%matplotlib\n",
    "%matplotlib notebook\n",
    "\n",
    "# Import Libraries\n",
    "import numpy as np\n",
    "import pandas as pd\n",
    "import os\n",
    "\n",
    "# Headers for different tables\n",
    "coordinate_header = ['FrameNumber', 'MouthHook_x', 'MouthHook_y', 'LeftMHhook_x', 'LeftMHhook_y',\n",
    "                     'RightMHhook_x', 'RightMHhook_y', 'LeftDorsalOrgan_x', 'LeftDorsalOrgan_y',\n",
    "                     'RightDorsalOrgan_x', 'RightDorsalOrgan_y', 'CenterBolwigOrgan_x', 'CenterBolwigOrgan_y',\n",
    "                     'LeftBolwigOrgan_x', 'LeftBolwigOrgan_y', 'RightBolwigOrgan_x', 'RightBolwigOrgan_y']\n",
    "\n",
    "distance_header = ['MouthHook', 'LeftMHhook',\n",
    "                   'RightMHhook', 'LeftDorsalOrgan', 'RightDorsalOrgan',\n",
    "                   'CenterBolwigOrgan', 'LeftBolwigOrgan', 'RightBolwigOrgan']"
   ]
  },
  {
   "cell_type": "code",
   "execution_count": 2,
   "metadata": {
    "ExecuteTime": {
     "end_time": "2018-07-24T19:16:47.086152Z",
     "start_time": "2018-07-24T19:16:47.001837Z"
    },
    "code_folding": [
     3
    ]
   },
   "outputs": [],
   "source": [
    "root = '../expts/'\n",
    "exp = '20180417_Individual'\n",
    "test_list = [('dataCollectedOn_20180417_grp_1/Rawdata_20180417_084502_20180423_075225/', \"Rawdata_20180417_084502\"),\n",
    "             ('dataCollectedOn_20180417_grp_2/Rawdata_20180417_083618_20180420_104633/', \"Rawdata_20180417_083618\"),\n",
    "             ('dataCollectedOn_20180417_grp_3/Rawdata_20180417_082627_20180525_112343_A_133410/', \"Rawdata_20180417_082627\"),\n",
    "             ('dataCollectedOn_20180417_grp_4/Rawdata_20180417_075246_20180420_092232_A_095851/', \"Rawdata_20180417_075246\"),\n",
    "             ('dataCollectedOn_20180417_grp_5/Rawdata_20180417_072307_20180523_100127_A_122116/', \"Rawdata_20180417_072307\"),\n",
    "             ('dataCollectedOn_20180417_grp_6/Rawdata_20180417_070739_20180522_151012/', \"Rawdata_20180417_070739\"),\n",
    "             ('dataCollectedOn_20180417_grp_7/Rawdata_20180417_065725_20180522_114055/', \"Rawdata_20180417_065725\")]\n",
    "\n",
    "for idx_test, (test, test_string) in enumerate(test_list):\n",
    "    test_dir = os.path.join(root, 'trainingData_'+ exp, test)\n",
    "\n",
    "    for fs in os.listdir(test_dir):\n",
    "        if 'Coordinates' in fs:\n",
    "            coordinates = pd.read_csv(os.path.join(test_dir, fs), sep=',', names=coordinate_header)\n",
    "\n",
    "            ## Make the annotation frame umber start from 0 index\n",
    "            coordinates = coordinates.round(0)\n",
    "            start_frame = coordinates.loc[0, 'FrameNumber'].copy() - 1\n",
    "            coordinates.loc[:, 'FrameNumber'] = coordinates.loc[:, 'FrameNumber'].copy() - start_frame\n",
    "            coordinates.set_index('FrameNumber', inplace=True)\n",
    "\n",
    "            if idx_test == 0:\n",
    "                all_coordinates = coordinates.copy()\n",
    "            else:\n",
    "                all_coordinates = pd.concat([all_coordinates, coordinates.copy()], axis=0)"
   ]
  },
  {
   "cell_type": "code",
   "execution_count": 3,
   "metadata": {
    "ExecuteTime": {
     "end_time": "2018-07-24T19:16:47.183423Z",
     "start_time": "2018-07-24T19:16:47.149749Z"
    }
   },
   "outputs": [
    {
     "data": {
      "text/html": [
       "<div>\n",
       "<style scoped>\n",
       "    .dataframe tbody tr th:only-of-type {\n",
       "        vertical-align: middle;\n",
       "    }\n",
       "\n",
       "    .dataframe tbody tr th {\n",
       "        vertical-align: top;\n",
       "    }\n",
       "\n",
       "    .dataframe thead th {\n",
       "        text-align: right;\n",
       "    }\n",
       "</style>\n",
       "<table border=\"1\" class=\"dataframe\">\n",
       "  <thead>\n",
       "    <tr style=\"text-align: right;\">\n",
       "      <th></th>\n",
       "      <th>MouthHook</th>\n",
       "      <th>LeftMHhook</th>\n",
       "      <th>RightMHhook</th>\n",
       "      <th>LeftDorsalOrgan</th>\n",
       "      <th>RightDorsalOrgan</th>\n",
       "      <th>CenterBolwigOrgan</th>\n",
       "      <th>LeftBolwigOrgan</th>\n",
       "      <th>RightBolwigOrgan</th>\n",
       "    </tr>\n",
       "  </thead>\n",
       "  <tbody>\n",
       "    <tr>\n",
       "      <th>pos</th>\n",
       "      <td>1829</td>\n",
       "      <td>1793</td>\n",
       "      <td>1793</td>\n",
       "      <td>1583</td>\n",
       "      <td>1582</td>\n",
       "      <td>1820</td>\n",
       "      <td>1819</td>\n",
       "      <td>1819</td>\n",
       "    </tr>\n",
       "    <tr>\n",
       "      <th>neg</th>\n",
       "      <td>1</td>\n",
       "      <td>37</td>\n",
       "      <td>37</td>\n",
       "      <td>247</td>\n",
       "      <td>248</td>\n",
       "      <td>10</td>\n",
       "      <td>11</td>\n",
       "      <td>11</td>\n",
       "    </tr>\n",
       "  </tbody>\n",
       "</table>\n",
       "</div>"
      ],
      "text/plain": [
       "     MouthHook  LeftMHhook  RightMHhook  LeftDorsalOrgan  RightDorsalOrgan  \\\n",
       "pos       1829        1793         1793             1583              1582   \n",
       "neg          1          37           37              247               248   \n",
       "\n",
       "     CenterBolwigOrgan  LeftBolwigOrgan  RightBolwigOrgan  \n",
       "pos               1820             1819              1819  \n",
       "neg                 10               11                11  "
      ]
     },
     "execution_count": 3,
     "metadata": {},
     "output_type": "execute_result"
    }
   ],
   "source": [
    "temp_coordinates = all_coordinates.loc[:, all_coordinates.columns.values[::2]]\n",
    "total_negatives = temp_coordinates[temp_coordinates<0].count()\n",
    "total_positives = temp_coordinates[temp_coordinates>=0].count()\n",
    "posneg_df = pd.DataFrame([total_positives, total_negatives])\n",
    "posneg_df.columns = distance_header\n",
    "posneg_df.index = ['pos', 'neg']\n",
    "posneg_df"
   ]
  },
  {
   "cell_type": "code",
   "execution_count": null,
   "metadata": {},
   "outputs": [],
   "source": []
  }
 ],
 "metadata": {
  "celltoolbar": "Raw Cell Format",
  "kernelspec": {
   "display_name": "Python 2",
   "language": "python",
   "name": "python2"
  },
  "language_info": {
   "codemirror_mode": {
    "name": "ipython",
    "version": 2
   },
   "file_extension": ".py",
   "mimetype": "text/x-python",
   "name": "python",
   "nbconvert_exporter": "python",
   "pygments_lexer": "ipython2",
   "version": "2.7.15"
  },
  "notify_time": "5",
  "varInspector": {
   "cols": {
    "lenName": 16,
    "lenType": 16,
    "lenVar": 40
   },
   "kernels_config": {
    "python": {
     "delete_cmd_postfix": "",
     "delete_cmd_prefix": "del ",
     "library": "var_list.py",
     "varRefreshCmd": "print(var_dic_list())"
    },
    "r": {
     "delete_cmd_postfix": ") ",
     "delete_cmd_prefix": "rm(",
     "library": "var_list.r",
     "varRefreshCmd": "cat(var_dic_list()) "
    }
   },
   "types_to_exclude": [
    "module",
    "function",
    "builtin_function_or_method",
    "instance",
    "_Feature"
   ],
   "window_display": false
  }
 },
 "nbformat": 4,
 "nbformat_minor": 2
}
