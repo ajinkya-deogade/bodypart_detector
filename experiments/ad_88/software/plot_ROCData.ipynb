{
 "cells": [
  {
   "cell_type": "code",
   "execution_count": 1,
   "metadata": {
    "ExecuteTime": {
     "end_time": "2018-07-18T10:27:30.717171Z",
     "start_time": "2018-07-18T10:27:30.120883Z"
    }
   },
   "outputs": [
    {
     "name": "stdout",
     "output_type": "stream",
     "text": [
      "Using matplotlib backend: MacOSX\n",
      "Warning: Cannot change to a different GUI toolkit: notebook. Using osx instead.\n"
     ]
    }
   ],
   "source": [
    "%matplotlib\n",
    "%matplotlib notebook\n",
    "\n",
    "import numpy as np\n",
    "import os\n",
    "import pickle\n",
    "import pandas as pd\n",
    "import matplotlib.pyplot as plt\n",
    "\n",
    "header = ['MouthHook', 'LeftMHhook', 'RightMHhook',\n",
    "                   'LeftDorsalOrgan', 'RightDorsalOrgan',\n",
    "                   'CenterBolwigOrgan']"
   ]
  },
  {
   "cell_type": "code",
   "execution_count": 2,
   "metadata": {
    "ExecuteTime": {
     "end_time": "2018-07-18T10:27:30.783110Z",
     "start_time": "2018-07-18T10:27:30.722469Z"
    }
   },
   "outputs": [],
   "source": [
    "## Old Data\n",
    "# rocFile = os.path.join('ROC_20170317_7c2.pkl')\n",
    "rocFile = os.path.join('ROC_20170317_7c0.pkl')\n",
    "# rocFile = os.path.join('ROC_20170317_7c1.pkl')\n",
    "\n",
    "## New Data\n",
    "# rocFile = os.path.join('ROC_20180417_7c2.pkl')\n",
    "# rocFile = os.path.join('ROC_20180417_7c1.pkl')\n",
    "# rocFile = os.path.join('ROC_20180417_7c0.pkl')\n",
    "\n",
    "with open(rocFile, 'r') as rf:\n",
    "    rocDatGrpAll = pickle.load(rf)"
   ]
  },
  {
   "cell_type": "code",
   "execution_count": 3,
   "metadata": {
    "ExecuteTime": {
     "end_time": "2018-07-18T10:27:30.919859Z",
     "start_time": "2018-07-18T10:27:30.841271Z"
    },
    "scrolled": false
   },
   "outputs": [],
   "source": [
    "vote_threshold = np.array(rocDatGrpAll[0]['MouthHook'][25].loc[:, 'vote_threshold'].values, dtype=np.float16)\n",
    "recall_all = {}\n",
    "dist_all = {}\n",
    "for grp in rocDatGrpAll:\n",
    "    for bp in grp:\n",
    "        recall_all[bp] = {}\n",
    "        dist_all[bp] = {}\n",
    "        for thresh in grp[bp]:\n",
    "            recall_all[bp][thresh] = pd.DataFrame([])\n",
    "            dist_all[bp][thresh] = pd.DataFrame([])            \n",
    "\n",
    "for grp in rocDatGrpAll:\n",
    "    for bp in grp:\n",
    "        for thresh in grp[bp]:\n",
    "            recall_all[bp][thresh] = pd.concat([recall_all[bp][thresh], grp[bp][thresh].loc[:, 'recall']], axis=1)\n",
    "            dist_all[bp][thresh] = pd.concat([recall_all[bp][thresh], grp[bp][thresh].loc[:, 'recall']], axis=1)            \n",
    "            "
   ]
  },
  {
   "cell_type": "code",
   "execution_count": 4,
   "metadata": {
    "ExecuteTime": {
     "end_time": "2018-07-18T10:27:30.993607Z",
     "start_time": "2018-07-18T10:27:30.979374Z"
    }
   },
   "outputs": [
    {
     "data": {
      "text/plain": [
       "Index([u'true_positive', u'false_positive', u'true_negative',\n",
       "       u'false_negative', u'positive', u'negative', u'true_positive_rate',\n",
       "       u'false_positive_rate', u'total_negative', u'total_positive',\n",
       "       u'true_negative_rate', u'false_negative_rate', u'precision', u'recall',\n",
       "       u'vote_threshold'],\n",
       "      dtype='object')"
      ]
     },
     "execution_count": 4,
     "metadata": {},
     "output_type": "execute_result"
    }
   ],
   "source": [
    "grp[bp][thresh].columns"
   ]
  },
  {
   "cell_type": "code",
   "execution_count": 6,
   "metadata": {
    "ExecuteTime": {
     "end_time": "2018-07-18T10:28:27.540804Z",
     "start_time": "2018-07-18T10:28:26.957266Z"
    }
   },
   "outputs": [],
   "source": [
    "row, col = (0, 0)\n",
    "fig, ax = plt.subplots(2, 3, figsize=(18, 15), dpi=90)\n",
    "for bp in header:\n",
    "    for thresh in recall_all[bp]:\n",
    "        recall_all_mat = np.array(recall_all[bp][thresh], dtype=np.float32)\n",
    "        recall_mean = np.mean(recall_all_mat, axis=1)\n",
    "        recall_std = np.std(recall_all_mat, axis=1)\n",
    "        ax[row, col].plot(vote_threshold, recall_mean, lw=3, label=int(thresh))\n",
    "        ax[row, col].fill_between(vote_threshold, recall_mean-recall_std, recall_mean+recall_std, alpha=0.1, lw=0)\n",
    "\n",
    "    ax[row, col].set_xlabel('Vote Threshold', fontsize=18)\n",
    "    ax[row, col].set_ylabel('Recall', fontsize=18)\n",
    "    ax[row, col].set_title(bp, fontsize=20)\n",
    "    ax[row, col].set_aspect('equal', adjustable='box')\n",
    "    ax[row, col].set_xlim([-0.05, 1.05])\n",
    "    ax[row, col].set_ylim([-0.05, 1.05])\n",
    "    ax[row, col].spines['right'].set_visible(False)\n",
    "    ax[row, col].spines['top'].set_visible(False)\n",
    "    ax[row, col].legend(loc = 'upper right', frameon=False, fontsize=14, title='Distance')\n",
    "    for label in (ax[row, col].get_xticklabels() + ax[row, col].get_yticklabels()):\n",
    "        label.set_fontsize(18)\n",
    "\n",
    "    col += 1\n",
    "    if col > 2:\n",
    "        row += 1\n",
    "        col = 0"
   ]
  },
  {
   "cell_type": "code",
   "execution_count": null,
   "metadata": {},
   "outputs": [],
   "source": []
  }
 ],
 "metadata": {
  "kernelspec": {
   "display_name": "py27",
   "language": "python",
   "name": "py27"
  },
  "language_info": {
   "codemirror_mode": {
    "name": "ipython",
    "version": 2
   },
   "file_extension": ".py",
   "mimetype": "text/x-python",
   "name": "python",
   "nbconvert_exporter": "python",
   "pygments_lexer": "ipython2",
   "version": "2.7.15"
  },
  "varInspector": {
   "cols": {
    "lenName": 16,
    "lenType": 16,
    "lenVar": 40
   },
   "kernels_config": {
    "python": {
     "delete_cmd_postfix": "",
     "delete_cmd_prefix": "del ",
     "library": "var_list.py",
     "varRefreshCmd": "print(var_dic_list())"
    },
    "r": {
     "delete_cmd_postfix": ") ",
     "delete_cmd_prefix": "rm(",
     "library": "var_list.r",
     "varRefreshCmd": "cat(var_dic_list()) "
    }
   },
   "types_to_exclude": [
    "module",
    "function",
    "builtin_function_or_method",
    "instance",
    "_Feature"
   ],
   "window_display": false
  }
 },
 "nbformat": 4,
 "nbformat_minor": 2
}
