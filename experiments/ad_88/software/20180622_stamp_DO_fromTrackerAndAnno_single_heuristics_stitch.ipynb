{
 "cells": [
  {
   "cell_type": "code",
   "execution_count": 1,
   "metadata": {
    "ExecuteTime": {
     "end_time": "2018-07-23T17:02:06.901085Z",
     "start_time": "2018-07-23T17:02:06.531497Z"
    },
    "code_folding": [
     20,
     25,
     29,
     49
    ],
    "hide_input": false
   },
   "outputs": [],
   "source": [
    "# Import Libraries\n",
    "import cv2\n",
    "import numpy as np\n",
    "import pandas as pd\n",
    "import os\n",
    "import struct\n",
    "\n",
    "# Headers for different tables\n",
    "meta_data_header = ['FrameNumber', 'Time', 'Stage_x', 'Stage_y', 'Centroid_x', 'Centroid_y',\n",
    "                    'Midpoint_x', 'Midpoint_y', 'Head_x', 'Head_y', 'Tail_x', 'Tail_y', 'MouthHook_x', 'MouthHook_y',\n",
    "                    'LeftMHhook_x', 'LeftMHhook_y', 'RightMHhook_x', 'RightMHhook_y',\n",
    "                    'LeftDorsalOrgan_x', 'LeftDorsalOrgan_y', 'RightDorsalOrgan_x', 'RightDorsalOrgan_y',\n",
    "                    'CenterBolwigOrgan_x', 'CenterBolwigOrgan_y', 'LeftBolwigOrgan_x', 'LeftBolwigOrgan_y',\n",
    "                    'RightBolwigOrgan_x', 'RightBolwigOrgan_y', 'V9_x', 'V9_y', 'V10_x', 'V10_y', 'V11_x', 'V11_y',\n",
    "                    'V12_x', 'V12_y', 'V13_x', 'V13_y', 'V14_x', 'V14_y', 'V15_x', 'V15_y', 'V16_x', 'V16_y',\n",
    "                    'MouthHook_votes', 'LeftMHhook_votes', 'RightMHhook_votes', 'LeftDorsalOrgan_votes',\n",
    "                    'RightDorsalOrgan_votes', 'CenterBolwigOrgan_votes', 'LeftBolwigOrgan_votes', 'RightBolwigOrgan_votes',\n",
    "                    'V9_votes', 'V10_votes', 'V11_votes', 'V12_votes', 'V13_votes', 'V14_votes', 'V15_votes',\n",
    "                    'V16_votes', 'Num_Key_points']\n",
    "\n",
    "coordinate_header = ['FrameNumber', 'MouthHook_x', 'MouthHook_y', 'LeftMHhook_x', 'LeftMHhook_y',\n",
    "                     'RightMHhook_x', 'RightMHhook_y', 'LeftDorsalOrgan_x', 'LeftDorsalOrgan_y',\n",
    "                     'RightDorsalOrgan_x', 'RightDorsalOrgan_y', 'CenterBolwigOrgan_x', 'CenterBolwigOrgan_y',\n",
    "                     'LeftBolwigOrgan_x', 'LeftBolwigOrgan_y', 'RightBolwigOrgan_x', 'RightBolwigOrgan_y']\n",
    "\n",
    "distance_header = ['MouthHook', 'LeftMHhook',\n",
    "                   'RightMHhook', 'LeftDorsalOrgan', 'RightDorsalOrgan',\n",
    "                   'CenterBolwigOrgan', 'LeftBolwigOrgan', 'RightBolwigOrgan']\n",
    "\n",
    "def readSplineData(fileName, nFrames):\n",
    "    fCount = 0;\n",
    "    spline = {}\n",
    "    with open(fileName, \"rb\") as f:\n",
    "        while (True) and (fCount < nFrames-1):\n",
    "            fCount += 1\n",
    "            gap, frameNumber = struct.unpack('>ii', f.read(struct.calcsize('>ii')))\n",
    "\n",
    "            nPointsToRead =  struct.unpack('>i', f.read(struct.calcsize('>i')))\n",
    "            fmt = \">%dH\" % (nPointsToRead)\n",
    "            tempX = struct.unpack(fmt, f.read(struct.calcsize(fmt)))\n",
    "\n",
    "            nPointsToRead =  struct.unpack('>i', f.read(struct.calcsize('>i')))\n",
    "            fmt = \">%dH\" % (nPointsToRead)\n",
    "            tempY = struct.unpack(fmt, f.read(struct.calcsize(fmt)))\n",
    "            \n",
    "            spline[frameNumber-1] = np.vstack((np.asarray(tempX).T, np.asarray(tempY).T))\n",
    "\n",
    "    return spline\n",
    "\n",
    "def readContourData(fileName, nFrames):    \n",
    "    fCount = 0;\n",
    "    contour = {}\n",
    "    with open(fileName, \"rb\") as f:\n",
    "        while (True) and (fCount < nFrames-1):\n",
    "            fCount += 1\n",
    "            frameNumber = struct.unpack('>i', f.read(struct.calcsize('>i')))\n",
    "\n",
    "            nPointsToRead = struct.unpack('>i', f.read(struct.calcsize('>i')))            \n",
    "            fmt = \">%dH\" %(nPointsToRead)\n",
    "            buff = f.read(struct.calcsize(fmt))\n",
    "            tempX = struct.unpack(fmt, buff)\n",
    "            \n",
    "            nPointsToRead = struct.unpack('>i', f.read(struct.calcsize('>i')))\n",
    "            fmt = \">%dH\" %(nPointsToRead)\n",
    "            buff = f.read(struct.calcsize(fmt))\n",
    "            tempY = struct.unpack(fmt, buff)\n",
    "            \n",
    "            frameNumber = frameNumber[0]\n",
    "            contour[frameNumber-1] = np.vstack((np.asarray(tempX).T, np.asarray(tempY).T))\n",
    "\n",
    "    return contour\n"
   ]
  },
  {
   "cell_type": "code",
   "execution_count": 2,
   "metadata": {
    "ExecuteTime": {
     "end_time": "2018-07-23T17:02:06.919455Z",
     "start_time": "2018-07-23T17:02:06.906007Z"
    }
   },
   "outputs": [],
   "source": [
    "# root_1 = 'trainingData_20170317_7c1'\n",
    "# root_1 = 'trainingData_20170318_5c0_test_170317'\n",
    "# root_2 = 'trainingData_20180417_7c0'\n",
    "\n",
    "# out_vid = '0317_7c1_417_7c0_20170317_233847.avi'\n",
    "# out_vid = '0318_5c0_417_7c0_20170317_233847.avi'\n",
    "\n",
    "# grp = 'dataCollectedOn_20170317_grp_1/Rawdata_20170317_233847_20170321_034501'\n",
    "\n",
    "video_1 = os.path.join('../expts', root_1, grp, os.path.split(grp)[1][:-16] + '_crop.avi')\n",
    "video_2 = os.path.join('../expts', root_2, grp, os.path.split(grp)[1][:-16] + '_crop.avi')\n",
    "\n",
    "video_crop = cv2.VideoWriter(out_vid, 0, 5, (1044, 512))"
   ]
  },
  {
   "cell_type": "code",
   "execution_count": 3,
   "metadata": {
    "ExecuteTime": {
     "end_time": "2018-07-23T17:02:07.820793Z",
     "start_time": "2018-07-23T17:02:06.925618Z"
    },
    "scrolled": false
   },
   "outputs": [],
   "source": [
    "cap_1 = cv2.VideoCapture(video_1)\n",
    "cap_2 = cv2.VideoCapture(video_2)\n",
    "gap = np.zeros((512, 20, 3), dtype=np.uint8)\n",
    "\n",
    "for frame_index in range(0, 180):\n",
    "    if cap_1.isOpened() and cap_2.isOpened():\n",
    "        cap_1.set(1, frame_index)\n",
    "        cap_2.set(1, frame_index)\n",
    "\n",
    "        ret_1, frame_1 = cap_1.read()\n",
    "        ret_2, frame_2 = cap_2.read()  \n",
    "        \n",
    "        frame = None\n",
    "        if (ret_1 == True) and (ret_2 == True):\n",
    "            frame = np.column_stack((frame_1, gap, frame_2))\n",
    "            video_crop.write(frame)\n",
    "        else:\n",
    "            print 'ret_1: ', ret_1,\n",
    "            print 'ret_2: ', ret_2\n",
    "    else:\n",
    "        print 'Cap Not Opened'\n",
    "        cap_1.release()\n",
    "        cap_2.release()\n",
    "\n",
    "cap_1.release()\n",
    "cap_2.release()\n",
    "cv2.destroyAllWindows()\n",
    "video_crop.release()"
   ]
  },
  {
   "cell_type": "code",
   "execution_count": null,
   "metadata": {},
   "outputs": [],
   "source": []
  }
 ],
 "metadata": {
  "celltoolbar": "Raw Cell Format",
  "kernelspec": {
   "display_name": "Python 2",
   "language": "python",
   "name": "python2"
  },
  "language_info": {
   "codemirror_mode": {
    "name": "ipython",
    "version": 2
   },
   "file_extension": ".py",
   "mimetype": "text/x-python",
   "name": "python",
   "nbconvert_exporter": "python",
   "pygments_lexer": "ipython2",
   "version": "2.7.15"
  },
  "notify_time": "5",
  "varInspector": {
   "cols": {
    "lenName": 16,
    "lenType": 16,
    "lenVar": 40
   },
   "kernels_config": {
    "python": {
     "delete_cmd_postfix": "",
     "delete_cmd_prefix": "del ",
     "library": "var_list.py",
     "varRefreshCmd": "print(var_dic_list())"
    },
    "r": {
     "delete_cmd_postfix": ") ",
     "delete_cmd_prefix": "rm(",
     "library": "var_list.r",
     "varRefreshCmd": "cat(var_dic_list()) "
    }
   },
   "types_to_exclude": [
    "module",
    "function",
    "builtin_function_or_method",
    "instance",
    "_Feature"
   ],
   "window_display": false
  }
 },
 "nbformat": 4,
 "nbformat_minor": 2
}
