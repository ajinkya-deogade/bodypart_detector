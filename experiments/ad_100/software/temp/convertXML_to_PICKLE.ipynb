{
 "cells": [
  {
   "cell_type": "code",
   "execution_count": 1,
   "metadata": {},
   "outputs": [],
   "source": [
    "import xml.etree.ElementTree as ET\n",
    "import pandas as pd\n",
    "import time\n",
    "import cPickle\n",
    "import os\n",
    "from joblib import Parallel, delayed\n",
    "import multiprocessing\n",
    "\n",
    "num_cores = multiprocessing.cpu_count()"
   ]
  },
  {
   "cell_type": "code",
   "execution_count": 2,
   "metadata": {},
   "outputs": [],
   "source": [
    "def getFrameData(root, iterKey):\n",
    "    allFrameData = []\n",
    "    for frameData in root.iter(iterKey):\n",
    "        if not frameData.attrib:\n",
    "            allFrameData.append(frameData.text)\n",
    "        else:\n",
    "            allFrameData.append(frameData.attrib)\n",
    "    return allFrameData\n",
    "\n",
    "def readXMLFile(file_name):\n",
    "    tree = ET.parse(file_name)\n",
    "    root = tree.getroot()\n",
    "    parent = {}\n",
    "    for child in root:\n",
    "        tempList = list(child)\n",
    "    #     print child.tag\n",
    "        if not tempList:\n",
    "            if not child.attrib:\n",
    "                parent[child.tag] = child.text\n",
    "            else:\n",
    "                parent[child.tag] = child.attrib\n",
    "        else:\n",
    "            parent[child.tag] = {}\n",
    "            for grand_child in child:\n",
    "    #             print '\\t', grand_child.tag\n",
    "                tempList = list(grand_child)\n",
    "                if not tempList:\n",
    "                    if not grand_child.attrib:\n",
    "                        parent[child.tag][grand_child.tag] = grand_child.text\n",
    "                    else:\n",
    "                        parent[child.tag][grand_child.tag] = grand_child.attrib\n",
    "                else:\n",
    "                    parent[child.tag][grand_child.tag] = {}\n",
    "                    for grand_grand_child in grand_child:\n",
    "    #                     print '\\t\\t', grand_grand_child.tag\n",
    "                        tempList = list(grand_grand_child)\n",
    "                        if not tempList:\n",
    "                            if not grand_grand_child.attrib:\n",
    "                                parent[child.tag][grand_child.tag][grand_grand_child.tag] = grand_grand_child.text\n",
    "                            else:\n",
    "                                parent[child.tag][grand_child.tag][grand_grand_child.tag] = grand_grand_child.attrib\n",
    "                        else:\n",
    "                            parent[child.tag][grand_child.tag][grand_grand_child.tag] = {}\n",
    "                            for grand_grand_grand_child in grand_grand_child:\n",
    "    #                             print '\\t\\t\\t', grand_grand_grand_child.tag\n",
    "                                tempList = list(grand_grand_grand_child)\n",
    "                                if not tempList:\n",
    "                                    if not grand_grand_grand_child.attrib:\n",
    "                                        parent[child.tag][grand_child.tag][grand_grand_child.tag][grand_grand_grand_child.tag] = grand_grand_grand_child.text\n",
    "                                    else:\n",
    "                                        parent[child.tag][grand_child.tag][grand_grand_child.tag][grand_grand_grand_child.tag] = grand_grand_grand_child.attrib\n",
    "                                else:\n",
    "                                    parent[child.tag][grand_child.tag][grand_grand_child.tag][grand_grand_grand_child.tag] = {}\n",
    "                                    for grand_grand_grand_grand_child in grand_grand_grand_child:\n",
    "            #                             print '\\t\\t\\t', grand_grand_grand_grand_child.tag\n",
    "                                        tempList = list(grand_grand_grand_grand_child)\n",
    "                                        if not tempList:\n",
    "                                            if not grand_grand_grand_grand_child.attrib:\n",
    "                                                parent[child.tag][grand_child.tag][grand_grand_child.tag][grand_grand_grand_child.tag][grand_grand_grand_child.tag] = grand_grand_grand_child.text\n",
    "                                            else:\n",
    "                                                parent[child.tag][grand_child.tag][grand_grand_child.tag][grand_grand_grand_child.tag][grand_grand_grand_child.tag] = grand_grand_grand_child.attrib\n",
    "                                        else:\n",
    "                                            print \"There are more grand childrens than you think\"\n",
    "\n",
    "    parent['kinetics'] = []\n",
    "    parent['position'] = {}\n",
    "    parent['ruleData'] = []\n",
    "    parent['stimulus'] = []\n",
    "\n",
    "    larvaFrameData = pd.DataFrame(getFrameData(root, 'larvaFrameData'))\n",
    "    skeleton = pd.DataFrame(getFrameData(root, 'skeleton'))\n",
    "    parent['kinetics'] = pd.concat([larvaFrameData, skeleton])\n",
    "    parent['position']['midpoint'] = pd.DataFrame(getFrameData(root, 'midpoint'))\n",
    "    parent['position']['centroid'] = pd.DataFrame(getFrameData(root, 'centroid'))\n",
    "    parent['position']['head'] = pd.DataFrame(getFrameData(root, 'head'))\n",
    "    parent['position']['tail'] = pd.DataFrame(getFrameData(root, 'tail'))\n",
    "    parent['position']['featureLocation'] = pd.DataFrame(getFrameData(root, 'featureLocation'))\n",
    "    parent['ruleData'] = pd.DataFrame(getFrameData(root, 'ruleData'))\n",
    "\n",
    "    stimulusIntensity = pd.DataFrame(getFrameData(root, 'intensityPercentage'))\n",
    "    temp = pd.DataFrame(getFrameData(root, 'ledArrayStimulus'))\n",
    "    if not temp.empty:\n",
    "        parent['stimulus'] = pd.concat([temp, stimulusIntensity], axis=1)\n",
    "        parent['stimulus'].rename(columns={0: 'intensity'}, inplace=True)\n",
    "    else:\n",
    "        parent['stimulus'] = stimulusIntensity\n",
    "\n",
    "    return parent"
   ]
  },
  {
   "cell_type": "code",
   "execution_count": 5,
   "metadata": {},
   "outputs": [
    {
     "name": "stdout",
     "output_type": "stream",
     "text": [
      "venkman-log-20180316-062750100-sid-1.xml\n",
      "venkman-log-20180316-063825616-sid-2.xml\n",
      "venkman-log-20180316-065932551-sid-3.xml\n",
      "venkman-log-20180316-070653899-sid-4.xml\n",
      "venkman-log-20180316-072006474-sid-5.xml\n",
      "venkman-log-20180316-072842978-sid-6.xml\n",
      "venkman-log-20180316-073732321-sid-7.xml\n",
      "venkman-log-20180316-080508653-sid-8.xml\n",
      "venkman-log-20180316-081146603-sid-9.xml\n",
      "venkman-log-20180316-083055080-sid-0.xml\n",
      "venkman-log-20180316-083802623-sid-1.xml\n",
      "venkman-log-20180316-084618499-sid-2.xml\n",
      "venkman-log-20180316-085206920-sid-3.xml\n",
      "venkman-log-20180316-090115098-sid-4.xml\n",
      "venkman-log-20180316-091040680-sid-5.xml\n"
     ]
    }
   ],
   "source": [
    "# data_dir = '20180316_OK6_CsChrimson_Tail_200micron'\n",
    "data_dir = '20180316_OK6_CsChrimson_Tail_200micron'\n",
    "\n",
    "all_xml_files = []\n",
    "root_path = '/Volumes/GoogleDrive/My Drive/CRG_Dropbox/AljoComputer/Matlab/high_res_tracker/Data/'\n",
    "data_dir = os.path.join(root_path,data_dir,'XML')\n",
    "for file in os.listdir(data_dir):\n",
    "    if file.endswith(\".xml\"):\n",
    "        print file\n",
    "        all_xml_files.append(os.path.join(data_dir, file))"
   ]
  },
  {
   "cell_type": "code",
   "execution_count": null,
   "metadata": {
    "scrolled": true
   },
   "outputs": [
    {
     "name": "stdout",
     "output_type": "stream",
     "text": [
      "Time taken to parse 15 files in parallel is 634.835 sec\n"
     ]
    }
   ],
   "source": [
    "## Parse Files in Parallel\n",
    "tStart = time.time()\n",
    "kin_data = []\n",
    "kin_data = Parallel(n_jobs=num_cores)(delayed(readXMLFile)(xml_file) for xml_file in all_xml_files)\n",
    "print 'Time taken to parse %d files in parallel is %0.3f sec'%(len(all_xml_files), time.time()-tStart)"
   ]
  },
  {
   "cell_type": "code",
   "execution_count": null,
   "metadata": {},
   "outputs": [],
   "source": [
    "## Save Parsed Files\n",
    "cPickle.dump(kin_data, open(os.path.join(data_dir, 'kinData_xml.pkl'), 'wb'), protocol=2)"
   ]
  },
  {
   "cell_type": "code",
   "execution_count": null,
   "metadata": {},
   "outputs": [],
   "source": [
    "## Parse Files Sequentially\n",
    "# c=0\n",
    "# for xml_file in all_xml_files:\n",
    "#     tStart = time.time()\n",
    "#     temp = readXMLFile(xml_file)\n",
    "#     kin_data.append(readXMLFile(xml_file))\n",
    "#     c+=1\n",
    "#     print 'Time taken to parse file %d is %0.3f'%(c, time.time()-tStart)"
   ]
  },
  {
   "cell_type": "code",
   "execution_count": null,
   "metadata": {},
   "outputs": [],
   "source": []
  },
  {
   "cell_type": "code",
   "execution_count": null,
   "metadata": {},
   "outputs": [],
   "source": []
  }
 ],
 "metadata": {
  "kernelspec": {
   "display_name": "Python 2",
   "language": "python",
   "name": "python2"
  },
  "language_info": {
   "codemirror_mode": {
    "name": "ipython",
    "version": 2
   },
   "file_extension": ".py",
   "mimetype": "text/x-python",
   "name": "python",
   "nbconvert_exporter": "python",
   "pygments_lexer": "ipython2",
   "version": "2.7.14"
  }
 },
 "nbformat": 4,
 "nbformat_minor": 2
}
