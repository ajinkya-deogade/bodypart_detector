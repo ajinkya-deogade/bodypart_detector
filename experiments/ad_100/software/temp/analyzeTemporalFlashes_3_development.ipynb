{
 "cells": [
  {
   "cell_type": "code",
   "execution_count": 1,
   "metadata": {},
   "outputs": [],
   "source": [
    "%matplotlib inline\n",
    "import numpy as np\n",
    "import pandas as pd\n",
    "import cPickle\n",
    "import matplotlib.pyplot as plt\n",
    "import os\n",
    "\n",
    "from scipy.interpolate import pchip_interpolate\n",
    "from scipy.signal import savgol_filter\n",
    "from scipy.signal import wiener, filtfilt, butter, gaussian, freqz\n",
    "\n",
    "from bokeh.layouts import gridplot, column\n",
    "from bokeh.plotting import figure, show, output_file\n",
    "from bokeh.models import LinearAxis, Range1d\n",
    "from bokeh.io import export_png\n",
    "\n",
    "import seaborn as sns\n",
    "\n",
    "np.set_printoptions(threshold=np.inf)"
   ]
  },
  {
   "cell_type": "code",
   "execution_count": 2,
   "metadata": {},
   "outputs": [],
   "source": [
    "def jump_stitcher_anyMetric(incorrectVar, plot_flag):\n",
    "    incorrectVar_diff = np.diff(incorrectVar)\n",
    "    if incorrectVar_diff.size:\n",
    "        diff_cutoff = np.percentile(incorrectVar_diff, 99)*10;\n",
    "\n",
    "        out_of_bound_max_cutoff = np.percentile(incorrectVar,99)+(np.percentile(incorrectVar,99)-np.percentile(incorrectVar,1))/2\n",
    "        out_of_bound_min_cutoff = np.percentile(incorrectVar,1)-(np.percentile(incorrectVar,99)-np.percentile(incorrectVar,1))/2\n",
    "\n",
    "        out_of_bound_index = np.where((incorrectVar>out_of_bound_max_cutoff) | (incorrectVar<out_of_bound_min_cutoff))\n",
    "        out_of_bound_index = np.asarray(out_of_bound_index).flatten()\n",
    "        discontinuity_index = np.array([-1])\n",
    "\n",
    "        for i in range(0, len(incorrectVar_diff)):\n",
    "            if np.abs(incorrectVar_diff[i]) > diff_cutoff:\n",
    "                discontinuity_index = [discontinuity_index, (i-1), i, (i+1)]\n",
    "\n",
    "        discontinuity_index = np.unique(discontinuity_index[discontinuity_index > 0])\n",
    "\n",
    "        incorrectVar_nan = incorrectVar\n",
    "        incorrectVar_nan[np.union1d(out_of_bound_index,discontinuity_index)] = np.nan\n",
    "#         correctedVar = pd.Series(incorrectVar_nan).interpolate(method='pchip').ffill().bfill().as_matrix()\n",
    "        correctedVar = pd.Series(incorrectVar_nan).interpolate(method='linear').as_matrix()        \n",
    "#         correctedVar = pchip_interpolate(np.arange(0, len(incorrectVar_nan)), \n",
    "#                                          incorrectVar_nan, np.arange(0, len(incorrectVar_nan)))\n",
    "\n",
    "        if plot_flag == 1:\n",
    "            fig = plt.figure(figsize=(15, 8))\n",
    "            plt.plot(np.arange(0, len(incorrectVar_nan[1000:1300])), incorrectVar_nan[1000:1300], color='k')\n",
    "            plt.plot(np.arange(0, len(correctedVar[1000:1300])), 2+correctedVar[1000:1300], 'r')\n",
    "            plt.show()\n",
    "    else:\n",
    "        correctedVar = incorrectVar\n",
    "\n",
    "    return correctedVar\n",
    "\n",
    "def calculateTailSpeed(tailposition, tf, history):\n",
    "    tailSpeed = np.zeros((np.shape(tailposition)[0],), dtype=np.float)\n",
    "    tailDisplacement = np.zeros((np.shape(tailposition)[0],), dtype=np.float)\n",
    "    x = (tailposition[history:, 0] - tailposition[:-history, 0])**2\n",
    "    y = (tailposition[history:, 1] - tailposition[:-history, 1])**2\n",
    "    tailDisplacement[history:] = np.sqrt(x + y).copy()\n",
    "    tailDisplacement = jump_stitcher_anyMetric(tailDisplacement, 0)\n",
    "    tailSpeed[history:] = tailDisplacement[history:]/np.asarray(history*tf, dtype=np.float)\n",
    "    tailSpeed = jump_stitcher_anyMetric(tailSpeed, 0)\n",
    "    return tailSpeed\n",
    "\n",
    "def smoothen_savgol(dat, window_size, polyOrder):\n",
    "    dat_filt = savgol_filter(dat, window_size, polyOrder, mode='nearest')\n",
    "    return dat_filt\n",
    "\n",
    "def smoothen_convolve(dat, window):\n",
    "    dat_filt = np.convolve(dat, window, mode='same')\n",
    "    return dat_filt\n",
    "\n",
    "def smoothen_gaussian(dat, window_size, sigma):\n",
    "    b = gaussian(window_size, sigma)\n",
    "    dat_filt = np.convolve(dat, b/b.sum(), mode='same')\n",
    "    return dat_filt\n",
    "\n",
    "def smoothen_gaussian_past(dat, window_size, sigma):\n",
    "    b = gaussian(window_size, sigma)\n",
    "    b = b/b.sum()\n",
    "    b[window_size/2:] = 0\n",
    "    dat_filt = np.convolve(dat, b, mode='same')\n",
    "    return dat_filt\n",
    "\n",
    "def get_stimulus_start_end(stimulus, baseline):\n",
    "    stim_diff = stimulus - baseline\n",
    "    stim_diff_2 = np.where(stim_diff > 0)[0]\n",
    "    stim_diff_3 = np.where(np.ediff1d(stim_diff_2, to_begin=2000) > 1)[0]\n",
    "    start = stim_diff_2[stim_diff_3]\n",
    "    end = stim_diff_2[stim_diff_3-1]\n",
    "    end = np.roll(end, -1)\n",
    "    inter_start = np.hstack((0, end+5))\n",
    "    inter_end = np.hstack((start-5, len(stimulus)))\n",
    "    return start, end, inter_start, inter_end\n",
    "\n",
    "def calculate_deltaF_by_F(before_val, after_val):\n",
    "    return np.divide((after_val - before_val), before_val)\n",
    "\n",
    "def convert_stimulus_percent_to_watts(stim):\n",
    "    conv = lambda x: -6*(10**-5)*(x**3) - 0.0007*(x**2) + 0.9577*x - 1.4352\n",
    "    stim_converted = conv(stim)\n",
    "    return stim_converted"
   ]
  },
  {
   "cell_type": "code",
   "execution_count": 3,
   "metadata": {
    "scrolled": true
   },
   "outputs": [],
   "source": [
    "experiment = '20180321_OK371_CsChrimson_Midpoint_DoseResponse_200micron'\n",
    "# experiment = '20180322_OK371_CsChrimson_Tail_DoseResponse_600micron'\n",
    "\n",
    "# experiment = '20180320_Cha_CsChrimson_Midpoint_DoseResponse_200micron'\n",
    "# experiment = '20180323_Cha_CsChrimson_Tail_DoseResponse_600micron'\n",
    "\n",
    "## Load Data\n",
    "load_data = 1\n",
    "if load_data > 0:\n",
    "    data_dir = os.path.join('../../../Data/', experiment, 'XML')\n",
    "    kin_data_all = pd.read_csv(os.path.join(data_dir, 'kinData_xml.dat'), sep='\\t', low_memory=False)\n",
    "    fig_dir = os.path.join('../../../Figures/', experiment)\n",
    "    if os.path.exists(fig_dir) != True:\n",
    "        os.mkdir(fig_dir)"
   ]
  },
  {
   "cell_type": "code",
   "execution_count": 4,
   "metadata": {},
   "outputs": [],
   "source": [
    "## Extract Tail Speed Logged by Tracker\n",
    "start_frame = 250\n",
    "end_frame = 33000\n",
    "all_tail_speed_tracker = kin_data_all.loc[:,['tailSpeed', 'num', 'timeIndex']].pivot(index='num', columns='timeIndex').as_matrix()[:,start_frame:end_frame]"
   ]
  },
  {
   "cell_type": "code",
   "execution_count": 5,
   "metadata": {},
   "outputs": [],
   "source": [
    "## Extract Tail Positions\n",
    "all_tail_position = []\n",
    "all_tail_position_x = kin_data_all.loc[:,['tail_x', 'num', 'timeIndex']].pivot(index='num', columns='timeIndex').as_matrix()[:,start_frame:end_frame]\n",
    "all_tail_position_y = kin_data_all.loc[:,['tail_y', 'num', 'timeIndex']].pivot(index='num', columns='timeIndex').as_matrix()[:,start_frame:end_frame]"
   ]
  },
  {
   "cell_type": "code",
   "execution_count": 6,
   "metadata": {},
   "outputs": [],
   "source": [
    "## Time per frame (in seconds)\n",
    "tf = 0.008\n",
    "total_time = np.arange(start_frame,end_frame)*tf\n",
    "baseline = 0\n",
    "stimulus = kin_data_all['intensity'][start_frame:end_frame].values\n",
    "stimulus_watts = convert_stimulus_percent_to_watts(stimulus.copy())"
   ]
  },
  {
   "cell_type": "code",
   "execution_count": 7,
   "metadata": {},
   "outputs": [
    {
     "name": "stderr",
     "output_type": "stream",
     "text": [
      "/Users/ajinkyadeogade/anaconda2/lib/python2.7/site-packages/numpy/lib/function_base.py:4274: RuntimeWarning: Invalid value encountered in percentile\n",
      "  interpolation=interpolation)\n",
      "/Users/ajinkyadeogade/anaconda2/lib/python2.7/site-packages/ipykernel_launcher.py:9: RuntimeWarning: invalid value encountered in greater\n",
      "  if __name__ == '__main__':\n",
      "/Users/ajinkyadeogade/anaconda2/lib/python2.7/site-packages/ipykernel_launcher.py:9: RuntimeWarning: invalid value encountered in less\n",
      "  if __name__ == '__main__':\n"
     ]
    }
   ],
   "source": [
    "## Compute Tail Speed\n",
    "\n",
    "## For Savgol\n",
    "window = 63\n",
    "polyOrder = 5\n",
    "\n",
    "## For Gaussian\n",
    "window_size = 3\n",
    "sigma = 0.3\n",
    "\n",
    "all_tail_speed = np.zeros_like(all_tail_position_x)\n",
    "all_tail_speed_filtered = np.zeros_like(all_tail_position_x)\n",
    "for i in range(0, np.shape(all_tail_position_x)[0]):\n",
    "    temp_pos = np.array([all_tail_position_x[i, :], all_tail_position_y[i, :]], dtype=np.float16).T\n",
    "    all_tail_speed[i,:] = calculateTailSpeed(temp_pos, tf, window)\n",
    "#     all_tail_speed_filtered[i,:] = smoothen_savgol(all_tail_speed[i,:], window, polyOrder)\n",
    "    all_tail_speed_filtered[i,:] = smoothen_gaussian_past(all_tail_speed[i,:].copy(), window_size, sigma)"
   ]
  },
  {
   "cell_type": "code",
   "execution_count": 8,
   "metadata": {},
   "outputs": [],
   "source": [
    "## Compute Mean Tail Speed\n",
    "mean_tail_speed = np.nanmean(all_tail_speed, axis=0)\n",
    "mean_tail_speed_filtered = np.nanmean(all_tail_speed_filtered, axis=0)"
   ]
  },
  {
   "cell_type": "code",
   "execution_count": 9,
   "metadata": {},
   "outputs": [],
   "source": [
    "## Create a Trendline for Mean Tail Speed\n",
    "window_size = 250\n",
    "sigma = 125\n",
    "mean_tail_speed_trendline = smoothen_gaussian(mean_tail_speed.copy(), window_size, sigma)"
   ]
  },
  {
   "cell_type": "code",
   "execution_count": 10,
   "metadata": {},
   "outputs": [],
   "source": [
    "## Visualize Mean Tail Speed for All Larva\n",
    "p1 = figure(x_axis_type=\"linear\", title=experiment, \n",
    "            plot_width=1600, plot_height=600, y_range=(0, 2.5),\n",
    "           toolbar_location=\"above\")\n",
    "p1.grid.grid_line_alpha=0.3\n",
    "\n",
    "p1.xaxis.axis_label = 'Time (sec)'\n",
    "p1.yaxis.axis_label = 'Tail speed (mm/sec)'\n",
    "p1.line(total_time, mean_tail_speed, \n",
    "        legend='Tail Speed', color='gray', line_alpha= 0.25)\n",
    "p1.line(total_time, mean_tail_speed_trendline, \n",
    "        legend='Tail Speed Trendline', color='green', line_width=3)\n",
    "\n",
    "# Setting the second y axis range name and range\n",
    "p1.extra_y_ranges = {\"Stimulus\": Range1d(start=-2, end=50)}\n",
    "p1.add_layout(LinearAxis(y_range_name=\"Stimulus\", axis_label=\"Stimulus W/m^2\"), 'right')\n",
    "p1.line(total_time, stimulus_watts, legend='Stimulus',\n",
    "        y_range_name='Stimulus', color='crimson')\n",
    "\n",
    "p1.xaxis.axis_label_text_font_size = \"18pt\"\n",
    "p1.yaxis.axis_label_text_font_size = \"18pt\"\n",
    "\n",
    "p1.xaxis.major_label_text_font_size = \"14pt\"\n",
    "p1.yaxis.major_label_text_font_size = \"14pt\"\n",
    "\n",
    "p1.legend.location = \"top_right\"\n",
    "output_file(os.path.join(fig_dir, \"mean_tail_speed_%s.html\"%(experiment)), title=experiment)\n",
    "export_png(p1, os.path.join(fig_dir, \"mean_tail_speed_%s.png\"%(experiment)))\n",
    "show(p1)  # open a browser"
   ]
  },
  {
   "cell_type": "code",
   "execution_count": 11,
   "metadata": {},
   "outputs": [],
   "source": [
    "## Visualize Tail Speed for Individual Larva \n",
    "visualize = 0\n",
    "if visualize > 0:\n",
    "    p1 = figure(x_axis_type=\"linear\", title=experiment, \n",
    "                plot_width=1600, plot_height=600, y_range=(0, 5),\n",
    "               toolbar_location=\"above\")\n",
    "    p1.grid.grid_line_alpha=0.3\n",
    "\n",
    "    larva = 0\n",
    "\n",
    "    p1.xaxis.axis_label = 'Time (sec)'\n",
    "    p1.yaxis.axis_label = 'Tail speed (mm/sec)'\n",
    "    p1.line(total_time, all_tail_speed_filtered[larva,:], \n",
    "            legend='Tail Speed', color='red', line_alpha= 0.5)\n",
    "    p1.line(total_time, all_tail_speed[larva,:], \n",
    "            legend='Tail Speed Raw', color='gray', line_alpha= 0.5)\n",
    "    p1.line(total_time, all_tail_speed_tracker[larva,:], \n",
    "        legend='Tail Speed Tracker', color='green', line_alpha= 0.5)\n",
    "\n",
    "    p1.xaxis.axis_label_text_font_size = \"18pt\"\n",
    "    p1.yaxis.axis_label_text_font_size = \"18pt\"\n",
    "\n",
    "    p1.xaxis.major_label_text_font_size = \"14pt\"\n",
    "    p1.yaxis.major_label_text_font_size = \"14pt\"\n",
    "\n",
    "    p1.legend.location = \"top_right\"\n",
    "    output_file(\"indv_tail_speed_%s.html\"%(experiment), title=\"meanTailSpeed\")\n",
    "    show(p1)  # open a browser"
   ]
  },
  {
   "cell_type": "code",
   "execution_count": 12,
   "metadata": {},
   "outputs": [
    {
     "name": "stderr",
     "output_type": "stream",
     "text": [
      "/Users/ajinkyadeogade/anaconda2/lib/python2.7/site-packages/ipykernel_launcher.py:69: RuntimeWarning: invalid value encountered in greater\n"
     ]
    }
   ],
   "source": [
    "stim_start, stim_end, stim_inter_start, stim_inter_end = get_stimulus_start_end(stimulus, baseline)\n",
    "\n",
    "mean_tail_speed_flash = np.zeros((np.shape(all_tail_speed)[0], 2*len(stim_start)))\n",
    "for i in range(0, np.shape(all_tail_speed)[0]):\n",
    "    for j in range(0, len(stim_start)):\n",
    "        mean_tail_speed_flash[i, 2*j] =  np.nanmean(all_tail_speed[i, stim_start[j]-380:stim_start[j]-5])\n",
    "        mean_tail_speed_flash[i, 2*j+1] =  np.nanmean(all_tail_speed[i, stim_start[j]:stim_end[j]+500])        "
   ]
  },
  {
   "cell_type": "code",
   "execution_count": 13,
   "metadata": {},
   "outputs": [],
   "source": [
    "qmin = np.nanpercentile(mean_tail_speed_flash, 0, axis=0)\n",
    "q1 = np.nanpercentile(mean_tail_speed_flash, 25, axis=0)\n",
    "q2 = np.nanpercentile(mean_tail_speed_flash, 50, axis=0)\n",
    "q3 = np.nanpercentile(mean_tail_speed_flash, 75, axis=0)\n",
    "qmax = np.nanpercentile(mean_tail_speed_flash, 100, axis=0)\n",
    "iqr = q3 - q1\n",
    "upper = q3 + 1.5*iqr\n",
    "lower = q1 - 1.5*iqr\n",
    "mean_of_means = np.nanmean(mean_tail_speed_flash, axis=0)\n",
    "std_of_means = np.nanstd(mean_tail_speed_flash, axis=0)\n",
    "\n",
    "upper = [min([x,y]) for (x,y) in zip(list(qmax), upper)]\n",
    "lower = [max([x,y]) for (x,y) in zip(list(qmin), lower)]"
   ]
  },
  {
   "cell_type": "code",
   "execution_count": 14,
   "metadata": {},
   "outputs": [],
   "source": [
    "cats = np.sort(np.hstack((np.arange(0, 3*12, 3), np.arange(1, 3*12, 3))))\n",
    "p = figure(tools=\"save\", plot_width=1200, plot_height=600, \n",
    "           x_range=(-1, max(cats)+1), title=experiment)\n",
    "\n",
    "# stems\n",
    "p.segment(cats, upper, cats, q3, line_color=\"black\")\n",
    "p.segment(cats, lower, cats, q1, line_color=\"black\")\n",
    "\n",
    "# # boxes\n",
    "p.vbar(cats, 0.7, q2, q3, fill_color=\"gray\", line_color=\"black\")\n",
    "p.vbar(cats, 0.7, q1, q2, fill_color=\"gray\", line_color=\"black\")\n",
    "\n",
    "# whiskers (almost-0 height rects simpler than segments)\n",
    "p.rect(cats, lower, 0.2, 0.01, line_color=\"black\")\n",
    "p.rect(cats, upper, 0.2, 0.01, line_color=\"black\")\n",
    "\n",
    "output_file(os.path.join(fig_dir, \"boxplot_%s.html\"%(experiment)), title=experiment)\n",
    "\n",
    "show(p)"
   ]
  },
  {
   "cell_type": "code",
   "execution_count": 15,
   "metadata": {
    "scrolled": false
   },
   "outputs": [
    {
     "name": "stderr",
     "output_type": "stream",
     "text": [
      "/Users/ajinkyadeogade/anaconda2/lib/python2.7/site-packages/ipykernel_launcher.py:79: RuntimeWarning: divide by zero encountered in divide\n"
     ]
    }
   ],
   "source": [
    "mean_tail_speed_flash_before = np.zeros((np.shape(all_tail_speed)[0], len(stim_start)))\n",
    "mean_tail_speed_flash_after = np.zeros((np.shape(all_tail_speed)[0], len(stim_start)))\n",
    "\n",
    "min_tail_speed_flash_before = np.zeros((np.shape(all_tail_speed)[0], len(stim_start)))\n",
    "min_tail_speed_flash_after = np.zeros((np.shape(all_tail_speed)[0], len(stim_start)))\n",
    "deltaF_by_F_tail_speed = np.zeros((np.shape(all_tail_speed)[0], len(stim_start)))\n",
    "for i in range(0, np.shape(all_tail_speed)[0]):\n",
    "    for j in range(0, len(stim_start)):\n",
    "        mean_tail_speed_flash_before[i, j] =  np.nanmean(all_tail_speed[i, stim_start[j]-380:stim_start[j]-5], axis=0)\n",
    "        mean_tail_speed_flash_after[i, j] =  np.nanmean(all_tail_speed[i, stim_start[j]:stim_end[j]+500], axis=0)\n",
    "        deltaF_by_F_tail_speed[i, j] = calculate_deltaF_by_F(mean_tail_speed_flash_before[i, j], mean_tail_speed_flash_after[i, j])\n",
    "mean_deltaF_by_F_tail_speed = np.nanmean(deltaF_by_F_tail_speed, axis=0)\n",
    "median_deltaF_by_F_tail_speed = np.nanmedian(deltaF_by_F_tail_speed, axis=0)\n",
    "# plt.bar(np.arange(0,len(median_deltaF_by_F_tail_speed)), mean_deltaF_by_F_tail_speed)"
   ]
  },
  {
   "cell_type": "code",
   "execution_count": 16,
   "metadata": {},
   "outputs": [],
   "source": [
    "step_dur_2 = np.arange(0, 11, 3)\n",
    "step_dur_4 = step_dur_2 + 1\n",
    "step_dur_8 = step_dur_2 + 2\n",
    "\n",
    "step_inten_8 = np.array([0, 1, 2])\n",
    "step_inten_16 = step_inten_2 + 3\n",
    "step_inten_24 = step_inten_2 + 6\n",
    "step_inten_32 = step_inten_2 + 9\n",
    "\n",
    "                         \n",
    "# step_dur_2 = np.sort(np.hstack((np.arange(0, 24, 6), np.arange(1, 24, 6))))\n",
    "# step_dur_4 = step_dur_2 + 2\n",
    "# step_dur_8 = step_dur_2 + 4\n",
    "\n",
    "# step_inten_2 = np.array([0, 1, 2, 3, 4, 5])\n",
    "# step_inten_4 = step_inten_2 + 6\n",
    "# step_inten_8 = step_inten_2 + 12\n",
    "# step_inten_16 = step_inten_2 + 18"
   ]
  },
  {
   "cell_type": "code",
   "execution_count": 17,
   "metadata": {},
   "outputs": [],
   "source": [
    "# mean_deltaF_by_F_dur_2 = np.nanmean(deltaF_by_F_tail_speed[:, step_dur_2], axis=0)\n",
    "# mean_deltaF_by_F_dur_4 = np.nanmean(deltaF_by_F_tail_speed[:, step_dur_4], axis=0)\n",
    "# mean_deltaF_by_F_dur_8 = np.nanmean(deltaF_by_F_tail_speed[:, step_dur_8], axis=0)\n",
    "\n",
    "# mean_deltaF_by_F_inten_8 = np.nanmean(deltaF_by_F_tail_speed[:, step_inten_8], axis=0)\n",
    "# mean_deltaF_by_F_inten_16 = np.nanmean(deltaF_by_F_tail_speed[:, step_inten_16], axis=0)\n",
    "# mean_deltaF_by_F_inten_24 = np.nanmean(deltaF_by_F_tail_speed[:, step_inten_24], axis=0)\n",
    "# mean_deltaF_by_F_inten_32 = np.nanmean(deltaF_by_F_tail_speed[:, step_inten_32], axis=0)"
   ]
  },
  {
   "cell_type": "code",
   "execution_count": 18,
   "metadata": {},
   "outputs": [],
   "source": [
    "# mean_of_mean_tail_speed_dur_2_before = np.nanmean(mean_tail_speed_flash_before[:, step_dur_2], axis=0)\n",
    "# mean_of_mean_tail_speed_dur_4_before = np.nanmean(mean_tail_speed_flash_before[:, step_dur_4], axis=0)\n",
    "# mean_of_mean_tail_speed_dur_8_before = np.nanmean(mean_tail_speed_flash_before[:, step_dur_8], axis=0)\n",
    "\n",
    "# mean_of_mean_tail_speed_inten_8_before = np.nanmean(mean_tail_speed_flash_before[:, step_inten_8], axis=0)\n",
    "# mean_of_mean_tail_speed_inten_16_before = np.nanmean(mean_tail_speed_flash_before[:, step_inten_16], axis=0)\n",
    "# mean_of_mean_tail_speed_inten_24_before = np.nanmean(mean_tail_speed_flash_before[:, step_inten_24], axis=0)\n",
    "# mean_of_mean_tail_speed_inten_32_before = np.nanmean(mean_tail_speed_flash_before[:, step_inten_32], axis=0)"
   ]
  },
  {
   "cell_type": "code",
   "execution_count": 19,
   "metadata": {},
   "outputs": [],
   "source": [
    "# mean_of_mean_tail_speed_dur_2_after = np.nanmean(mean_tail_speed_flash_after[:, step_dur_2], axis=0)\n",
    "# mean_of_mean_tail_speed_dur_4_after = np.nanmean(mean_tail_speed_flash_after[:, step_dur_4], axis=0)\n",
    "# mean_of_mean_tail_speed_dur_8_after = np.nanmean(mean_tail_speed_flash_after[:, step_dur_8], axis=0)\n",
    "\n",
    "# mean_of_mean_tail_speed_inten_8_after = np.nanmean(mean_tail_speed_flash_after[:, step_inten_8], axis=0)\n",
    "# mean_of_mean_tail_speed_inten_16_after = np.nanmean(mean_tail_speed_flash_after[:, step_inten_16], axis=0)\n",
    "# mean_of_mean_tail_speed_inten_24_after = np.nanmean(mean_tail_speed_flash_after[:, step_inten_24], axis=0)\n",
    "# mean_of_mean_tail_speed_inten_32_after = np.nanmean(mean_tail_speed_flash_after[:, step_inten_32], axis=0)"
   ]
  },
  {
   "cell_type": "code",
   "execution_count": 20,
   "metadata": {},
   "outputs": [],
   "source": [
    "# tail_speed_dur_2 = pd.DataFrame({'Before': mean_of_mean_tail_speed_dur_2_before,\n",
    "#                                  'After': mean_of_mean_tail_speed_dur_2_after})\n",
    "# tail_speed_dur_4 = pd.DataFrame({'Before': mean_of_mean_tail_speed_dur_4_before,\n",
    "#                                  'After': mean_of_mean_tail_speed_dur_4_after})\n",
    "# tail_speed_dur_8 = pd.DataFrame({'Before': mean_of_mean_tail_speed_dur_8_before,\n",
    "#                                  'After': mean_of_mean_tail_speed_dur_8_after})\n",
    "\n",
    "# tail_speed_inten_2 = pd.DataFrame({'Before': mean_of_mean_tail_speed_inten_8_before,\n",
    "#                                  'After': mean_of_mean_tail_speed_inten_2_after})\n",
    "# tail_speed_inten_4 = pd.DataFrame({'Before': mean_of_mean_tail_speed_inten_4_before,\n",
    "#                                  'After': mean_of_mean_tail_speed_inten_4_after})\n",
    "# tail_speed_inten_8 = pd.DataFrame({'Before': mean_of_mean_tail_speed_inten_8_before,\n",
    "#                                  'After': mean_of_mean_tail_speed_inten_8_after})\n",
    "# tail_speed_inten_16 = pd.DataFrame({'Before': mean_of_mean_tail_speed_inten_16_before,\n",
    "#                                  'After': mean_of_mean_tail_speed_inten_16_after})"
   ]
  },
  {
   "cell_type": "code",
   "execution_count": 21,
   "metadata": {
    "scrolled": true
   },
   "outputs": [],
   "source": [
    "mean_tail_speed_before = pd.DataFrame(mean_tail_speed_flash_before.T)\n",
    "mean_tail_speed_before['Flash Duration (sec)'] = 0\n",
    "mean_tail_speed_before['Flash Intensity (W/m^2)'] = 0\n",
    "mean_tail_speed_before['Condition'] = 'Before Flash' ## pre -> before\n",
    "\n",
    "mean_tail_speed_before.loc[step_dur_2, 'Flash Duration (sec)'] = 2\n",
    "mean_tail_speed_before.loc[step_dur_4, 'Flash Duration (sec)'] = 4\n",
    "mean_tail_speed_before.loc[step_dur_8, 'Flash Duration (sec)'] = 8\n",
    "\n",
    "mean_tail_speed_before.loc[step_inten_8, 'Flash Intensity (W/m^2)'] = 8\n",
    "mean_tail_speed_before.loc[step_inten_16, 'Flash Intensity (W/m^2)'] = 16\n",
    "mean_tail_speed_before.loc[step_inten_24, 'Flash Intensity (W/m^2)'] = 24\n",
    "mean_tail_speed_before.loc[step_inten_32, 'Flash Intensity (W/m^2)'] = 32"
   ]
  },
  {
   "cell_type": "code",
   "execution_count": 22,
   "metadata": {},
   "outputs": [],
   "source": [
    "mean_tail_speed_after = pd.DataFrame(mean_tail_speed_flash_after.T)\n",
    "mean_tail_speed_after['Flash Duration (sec)'] = 0\n",
    "mean_tail_speed_after['Flash Intensity (W/m^2)'] = 0\n",
    "mean_tail_speed_after['Condition'] = 'After Flash' ## post -> after\n",
    "\n",
    "mean_tail_speed_after.loc[step_dur_2, 'Flash Duration (sec)'] = 2\n",
    "mean_tail_speed_after.loc[step_dur_4, 'Flash Duration (sec)'] = 4\n",
    "mean_tail_speed_after.loc[step_dur_8, 'Flash Duration (sec)'] = 8\n",
    "\n",
    "mean_tail_speed_after.loc[step_inten_8, 'Flash Intensity (W/m^2)'] = 8\n",
    "mean_tail_speed_after.loc[step_inten_16, 'Flash Intensity (W/m^2)'] = 16\n",
    "mean_tail_speed_after.loc[step_inten_24, 'Flash Intensity (W/m^2)'] = 24\n",
    "mean_tail_speed_after.loc[step_inten_32, 'Flash Intensity (W/m^2)'] = 32"
   ]
  },
  {
   "cell_type": "code",
   "execution_count": 23,
   "metadata": {},
   "outputs": [],
   "source": [
    "mean_tail_speed_before_after = pd.concat([mean_tail_speed_before, mean_tail_speed_after], axis=0)\n",
    "mean_tail_speed_before_after = mean_tail_speed_before_after.melt(id_vars=['Flash Duration (sec)', 'Flash Intensity (W/m^2)', 'Condition'], value_name='Tail Speed (mm/sec)')\n",
    "mean_tail_speed_before_after.drop('variable', axis=1, inplace=True)"
   ]
  },
  {
   "cell_type": "code",
   "execution_count": 24,
   "metadata": {},
   "outputs": [],
   "source": [
    "## Important Don't Delete\n",
    "# sns.swarmplot(x=\"Flash Intensity (W/m^2)\", y=\"Tail Speed (mm/sec)\", hue=\"Condition\", data=mean_tail_speed_before_after, color=\"0.2\")\n",
    "# sns.boxplot(x=\"Flash Intensity (W/m^2)\", y=\"Tail Speed (mm/sec)\", hue=\"Condition\", data=mean_tail_speed_before_after, palette=\"PRGn\")\n",
    "# sns.despine()"
   ]
  },
  {
   "cell_type": "code",
   "execution_count": 25,
   "metadata": {},
   "outputs": [
    {
     "data": {
      "image/png": "[encoded data removed]",
      "text/plain": [
       "<matplotlib.figure.Figure at 0x10f2193d0>"
      ]
     },
     "metadata": {},
     "output_type": "display_data"
    }
   ],
   "source": [
    "sns.set_context(\"notebook\", font_scale=1.5)\n",
    "sns.set_style(\"white\")\n",
    "g = sns.factorplot(x=\"Flash Intensity (W/m^2)\", y=\"Tail Speed (mm/sec)\",\n",
    "                   hue=\"Condition\", col=\"Flash Duration (sec)\",\n",
    "                   data=mean_tail_speed_before_after, kind=\"box\", size=8, aspect=.6,\n",
    "                   palette={\"Before Flash\": [0.7, 0.7, 0.7], \"After Flash\": [1, 0.55, 0.56]});\n",
    "plt.ylim(0,2);\n",
    "plt.savefig(os.path.join(fig_dir, \"factor_plot_per_flash_duration_%s.png\"%(experiment)))"
   ]
  },
  {
   "cell_type": "code",
   "execution_count": 26,
   "metadata": {},
   "outputs": [
    {
     "data": {
      "image/png": "[encoded data removed]",
      "text/plain": [
       "<matplotlib.figure.Figure at 0x10f1936d0>"
      ]
     },
     "metadata": {},
     "output_type": "display_data"
    }
   ],
   "source": [
    "sns.set_context(\"notebook\", font_scale=2)\n",
    "sns.set_style(\"white\")\n",
    "\n",
    "g = sns.factorplot(x=\"Flash Duration (sec)\", y=\"Tail Speed (mm/sec)\",\n",
    "                   hue=\"Condition\", col=\"Flash Intensity (W/m^2)\",\n",
    "                   data=mean_tail_speed_before_after, kind=\"box\", size=12, aspect=.6,\n",
    "                   palette={\"Before Flash\": [0.7, 0.7, 0.7], \"After Flash\": [0.55, 0.55, 0.8]});\n",
    "plt.ylim(0,2);\n",
    "plt.savefig(os.path.join(fig_dir, \"factor_plot_per_flash_intensity_%s.png\"%(experiment)))"
   ]
  },
  {
   "cell_type": "code",
   "execution_count": 27,
   "metadata": {},
   "outputs": [],
   "source": [
    "# cats = np.sort(np.hstack((np.arange(0, 3*12, 3), np.arange(1, 3*12, 3))))\n",
    "# p = figure(tools=\"save\", plot_width=1200, plot_height=600, x_range=(-1, max(cats)+1))\n",
    "\n",
    "# # stems\n",
    "# p.segment(cats, upper, cats, q3, line_color=\"black\")\n",
    "# p.segment(cats, lower, cats, q1, line_color=\"black\")\n",
    "\n",
    "# # # boxes\n",
    "# p.vbar(cats, 0.7, q2, q3, fill_color=\"gray\", line_color=\"black\")\n",
    "# p.vbar(cats, 0.7, q1, q2, fill_color=\"gray\", line_color=\"black\")\n",
    "\n",
    "# # whiskers (almost-0 height rects simpler than segments)\n",
    "# p.rect(cats, lower, 0.2, 0.01, line_color=\"black\")\n",
    "# p.rect(cats, upper, 0.2, 0.01, line_color=\"black\")\n",
    "\n",
    "# output_file(os.path.join(fig_dir, \"boxplot_%s.html\"%(experiment)), title=\"Mean Tail Speed Per Flash\")\n",
    "\n",
    "# show(p)"
   ]
  },
  {
   "cell_type": "code",
   "execution_count": 28,
   "metadata": {},
   "outputs": [],
   "source": [
    "# mean_tail_speed_dur_2 = mean_tail_speed_flash[:, step_dur_2]\n",
    "# mean_tail_speed_dur_4 = mean_tail_speed_flash[:, step_dur_4]\n",
    "# mean_tail_speed_dur_8 = mean_tail_speed_flash[:, step_dur_8]\n",
    "\n",
    "# mean_tail_speed_inten_2 = mean_tail_speed_flash[:, step_inten_2]\n",
    "# mean_tail_speed_inten_4 = mean_tail_speed_flash[:, step_inten_4]\n",
    "# mean_tail_speed_inten_8 = mean_tail_speed_flash[:, step_inten_8]\n",
    "# mean_tail_speed_inten_16 = mean_tail_speed_flash[:, step_inten_16]"
   ]
  },
  {
   "cell_type": "code",
   "execution_count": 29,
   "metadata": {},
   "outputs": [],
   "source": [
    "# # find the quartiles and IQR for each category\n",
    "# groups = df.groupby('group')\n",
    "# q1 = groups.quantile(q=0.25)\n",
    "# q2 = groups.quantile(q=0.5)\n",
    "# q3 = groups.quantile(q=0.75)\n",
    "# iqr = q3 - q1\n",
    "# upper = q3 + 1.5*iqr\n",
    "# lower = q1 - 1.5*iqr\n",
    "\n",
    "# # find the outliers for each category\n",
    "# def outliers(group):\n",
    "#     cat = group.name\n",
    "#     return group[(group.score > upper.loc[cat]['score']) | (group.score < lower.loc[cat]['score'])]['score']\n",
    "# out = groups.apply(outliers).dropna()\n",
    "\n",
    "# # prepare outlier data for plotting, we need coordinates for every outlier.\n",
    "# if not out.empty:\n",
    "#     outx = []\n",
    "#     outy = []\n",
    "#     for cat in cats:\n",
    "#         # only add outliers if they exist\n",
    "#         if not out.loc[cat].empty:\n",
    "#             for value in out[cat]:\n",
    "#                 outx.append(cat)\n",
    "#                 outy.append(value)\n",
    "\n",
    "# p = figure(tools=\"save\", background_fill_color=\"#EFE8E2\", title=\"\", x_range=cats)\n",
    "\n",
    "# # if no outliers, shrink lengths of stems to be no longer than the minimums or maximums\n",
    "# qmin = groups.quantile(q=0.00)\n",
    "# qmax = groups.quantile(q=1.00)\n",
    "# upper.score = [min([x,y]) for (x,y) in zip(list(qmax.loc[:,'score']),upper.score)]\n",
    "# lower.score = [max([x,y]) for (x,y) in zip(list(qmin.loc[:,'score']),lower.score)]\n",
    "\n",
    "# # stems\n",
    "# p.segment(cats, upper.score, cats, q3.score, line_color=\"black\")\n",
    "# p.segment(cats, lower.score, cats, q1.score, line_color=\"black\")\n",
    "\n",
    "# # boxes\n",
    "# p.vbar(cats, 0.7, q2.score, q3.score, fill_color=\"#E08E79\", line_color=\"black\")\n",
    "# p.vbar(cats, 0.7, q1.score, q2.score, fill_color=\"#3B8686\", line_color=\"black\")\n",
    "\n",
    "# # whiskers (almost-0 height rects simpler than segments)\n",
    "# p.rect(cats, lower.score, 0.2, 0.01, line_color=\"black\")\n",
    "# p.rect(cats, upper.score, 0.2, 0.01, line_color=\"black\")\n",
    "\n",
    "# # outliers\n",
    "# if not out.empty:\n",
    "#     p.circle(outx, outy, size=6, color=\"#F38630\", fill_alpha=0.6)\n",
    "\n",
    "# p.xgrid.grid_line_color = None\n",
    "# p.ygrid.grid_line_color = \"white\"\n",
    "# p.grid.grid_line_width = 2\n",
    "# p.xaxis.major_label_text_font_size=\"12pt\"\n",
    "\n",
    "# output_file(\"boxplot.html\", title=\"boxplot.py example\")\n",
    "\n",
    "# show(p)"
   ]
  }
 ],
 "metadata": {
  "kernelspec": {
   "display_name": "Python 2",
   "language": "python",
   "name": "python2"
  },
  "language_info": {
   "codemirror_mode": {
    "name": "ipython",
    "version": 2
   },
   "file_extension": ".py",
   "mimetype": "text/x-python",
   "name": "python",
   "nbconvert_exporter": "python",
   "pygments_lexer": "ipython2",
   "version": "2.7.14"
  }
 },
 "nbformat": 4,
 "nbformat_minor": 2
}
