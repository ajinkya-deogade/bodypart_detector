{
 "cells": [
  {
   "cell_type": "code",
   "execution_count": 1,
   "metadata": {
    "ExecuteTime": {
     "end_time": "2018-07-11T19:16:22.084655Z",
     "start_time": "2018-07-11T19:16:21.733969Z"
    },
    "code_folding": []
   },
   "outputs": [],
   "source": [
    "import re\n",
    "from optparse import OptionParser\n",
    "from pyflann import *\n",
    "import cv2\n",
    "import numpy as np\n",
    "import pandas as pd\n",
    "import glob\n",
    "import os\n",
    "\n",
    "meta_data_header = ['FrameNumber', 'Time', 'Stage_x', 'Stage_y', 'Centroid_x', 'Centroid_y',\n",
    "                    'Midpoint_x', 'Midpoint_y', 'Head_x', 'Head_y', 'Tail_x', 'Tail_y', 'MouthHook_x', 'MouthHook_y',\n",
    "                    'LeftMHhook_x', 'LeftMHhook_y', 'RightMHhook_x', 'RightMHhook_y',\n",
    "                    'LeftDorsalOrgan_x', 'LeftDorsalOrgan_y', 'RightDorsalOrgan_x', 'RightDorsalOrgan_y',\n",
    "                    'CenterBolwigOrgan_x', 'CenterBolwigOrgan_y', 'LeftBolwigOrgan_x', 'LeftBolwigOrgan_y',\n",
    "                    'RightBolwigOrgan_x', 'RightBolwigOrgan_y', 'V9_x', 'V9_y', 'V10_x', 'V10_y', 'V11_x', 'V11_y',\n",
    "                    'V12_x', 'V12_y', 'V13_x', 'V13_y', 'V14_x', 'V14_y', 'V15_x', 'V15_y', 'V16_x', 'V16_y',\n",
    "                    'MouthHook_votes', 'LeftMHhook_votes', 'RightMHhook_votes', 'LeftDorsalOrgan_votes',\n",
    "                    'RightDorsalOrgan_votes', 'CenterBolwigOrgan_votes', 'LeftBolwigOrgan_votes', 'RightBolwigOrgan_votes',\n",
    "                    'V9_votes', 'V10_votes', 'V11_votes', 'V12_votes', 'V13_votes', 'V14_votes', 'V15_votes',\n",
    "                    'V16_votes', 'Num_Key_points']\n"
   ]
  },
  {
   "cell_type": "code",
   "execution_count": 2,
   "metadata": {
    "ExecuteTime": {
     "end_time": "2018-07-11T19:17:01.211279Z",
     "start_time": "2018-07-11T19:16:22.090927Z"
    },
    "code_folding": [],
    "hide_input": false,
    "scrolled": true
   },
   "outputs": [],
   "source": [
    "test_dir = '../expts/dataCollectedOn_20180417_withTestOn_20180619/dataCollectedOn_2018041_grp_2/20180529_150807/Rawdata_20180417_082627_20180525_112343_A_133410/'\n",
    "video_path = '../expts/dataCollectedOn_20180417_withTestOn_20180619/videos/'\n",
    "\n",
    "test_string = \"Rawdata_20180417_082627\"\n",
    "video_file = os.path.join(video_path, test_string+\".avi\")\n",
    "test_string_2 = str.split(test_string, '_')[2]\n",
    "\n",
    "crop_size = 512\n",
    "spot_size = 25.0\n",
    "font = cv2.FONT_HERSHEY_SIMPLEX\n",
    "\n",
    "for fs in os.listdir(test_dir):\n",
    "    if 'Metadata' in fs:\n",
    "        meta_data = pd.read_csv(os.path.join(test_dir, fs), sep=',', header=0, names=meta_data_header)\n",
    "\n",
    "if (meta_data.empty is False):\n",
    "    start_frame = 149\n",
    "    cap = cv2.VideoCapture(video_file)\n",
    "\n",
    "    numberFrames = int(cap.get(cv2.CAP_PROP_FRAME_COUNT))\n",
    "\n",
    "    meta_data.loc[:, 'FrameNumber'] = meta_data.loc[:, 'FrameNumber'] + start_frame\n",
    "    meta_data.set_index('FrameNumber', inplace=True)\n",
    "\n",
    "    outputFrameSize = np.multiply(np.ones((1920, 1920, 3), dtype=np.uint8), 255)\n",
    "    height, width, layers = outputFrameSize.shape\n",
    "    \n",
    "    outputFrameSize_crop = np.multiply(np.ones((crop_size, crop_size, 3), dtype=np.uint8), 255)\n",
    "    height_crop, width_crop, layers_crop = outputFrameSize_crop.shape\n",
    "\n",
    "    fourcc = cv2.VideoWriter_fourcc(*'XVID')\n",
    "    outputVideoFile = os.path.join(test_dir, '_'.join(str.split(test_string, '_')[0:3]) + '.avi')\n",
    "    outputVideoFile_crop = os.path.join(test_dir, '_'.join(str.split(test_string, '_')[0:3]) + '_crop.avi')    \n",
    "\n",
    "    video = cv2.VideoWriter(outputVideoFile, 0, 5, (width, height))\n",
    "    video_crop = cv2.VideoWriter(outputVideoFile_crop, 0, 5, (width_crop, height_crop))\n",
    "\n",
    "    if cap.isOpened():\n",
    "        for row_index, row in meta_data.iterrows():\n",
    "            cap.set(1, row_index)\n",
    "            \n",
    "            ret, originalFrame = cap.read()\n",
    "\n",
    "            frame = originalFrame.copy()\n",
    "            frame_overlay = originalFrame.copy()\n",
    "\n",
    "            cropCenter_X = row['Head_x']\n",
    "            cropCenter_Y = row['Head_y']\n",
    "            \n",
    "            cv2.circle(frame_overlay, (int(cropCenter_X), int(cropCenter_Y)),\n",
    "                       radius=10, color=(0, 0, 0), thickness=-1)\n",
    "            \n",
    "            ## MouthHook\n",
    "            cv2.rectangle(frame_overlay, (int(row['MouthHook_x']) - int(spot_size/2),\n",
    "                                  int(row['MouthHook_y']) - int(spot_size/2)),\n",
    "                          (int(row['MouthHook_x']) + int(spot_size/2),\n",
    "                           int(row['MouthHook_y']) + int(spot_size/2)),\n",
    "                          color=(255, 0, 0), thickness=-1)\n",
    "            \n",
    "            ## Left Dorsal Organ\n",
    "            cv2.rectangle(frame_overlay, (int(row['LeftDorsalOrgan_x']) - int(spot_size/2),\n",
    "                                  int(row['LeftDorsalOrgan_y']) - int(spot_size/2)),\n",
    "                          (int(row['LeftDorsalOrgan_x']) + int(spot_size/2),\n",
    "                           int(row['LeftDorsalOrgan_y']) + int(spot_size/2)),\n",
    "                          color=(125, 125, 255), thickness=-1)\n",
    "            \n",
    "            ## Right Dorsal Organ\n",
    "            cv2.rectangle(frame_overlay, (int(row['RightDorsalOrgan_x']) - int(spot_size/2),\n",
    "                                  int(row['RightDorsalOrgan_y']) - int(spot_size/2)),\n",
    "                          (int(row['RightDorsalOrgan_x']) + int(spot_size/2),\n",
    "                           int(row['RightDorsalOrgan_y']) + int(spot_size/2)),\n",
    "                          color=(0, 255, 0), thickness=-1)            \n",
    "            \n",
    "            cv2.putText(frame, '%d'%(row_index), (1720, 200), font, 2, (0, 0, 0), 4, cv2.LINE_AA)\n",
    "            \n",
    "            crop_x = int(max(0, cropCenter_X-int(crop_size/2)))\n",
    "            crop_y = int(max(0, cropCenter_Y-int(crop_size/2)))\n",
    "\n",
    "            frame_crop = frame[crop_y:crop_y+crop_size, crop_x:crop_x+crop_size]\n",
    "            frame_crop_overlay = frame_overlay[crop_y:crop_y+crop_size, crop_x:crop_x+crop_size]\n",
    "            \n",
    "            cv2.putText(frame_crop, '%d'%(row_index), (360, 40), font, 0.65, (0, 0, 0), 2, cv2.LINE_AA)\n",
    "            cv2.putText(frame_crop, '%s - %d' % ('MH', row['MouthHook_votes']), (360, 60), font, 0.65, (255, 0, 0), 2, cv2.LINE_AA)\n",
    "            cv2.putText(frame_crop, '%s - %d' % ('LDO', row['LeftDorsalOrgan_votes']), (360, 80), font, 0.65, (125, 125, 255), 2, cv2.LINE_AA)\n",
    "            cv2.putText(frame_crop, '%s - %d' % ('RDO', row['RightDorsalOrgan_votes']), (360, 100), font, 0.65, (0, 255, 0), 2, cv2.LINE_AA)\n",
    "            cv2.putText(frame_crop, 'Spot - %d um' % (spot_size*2.75), (360, 120), font, 0.65, (0, 0, 0), 2, cv2.LINE_AA)\n",
    "            \n",
    "            alpha = 0.3\n",
    "            cv2.addWeighted(frame_crop_overlay, alpha, frame_crop, 1 - alpha, 0, frame_crop)\n",
    "            video_crop.write(frame_crop)\n",
    "\n",
    "    cv2.destroyAllWindows()\n",
    "    video.release()"
   ]
  }
 ],
 "metadata": {
  "celltoolbar": "Raw Cell Format",
  "kernelspec": {
   "display_name": "Python 2",
   "language": "python",
   "name": "python2"
  },
  "language_info": {
   "codemirror_mode": {
    "name": "ipython",
    "version": 2
   },
   "file_extension": ".py",
   "mimetype": "text/x-python",
   "name": "python",
   "nbconvert_exporter": "python",
   "pygments_lexer": "ipython2",
   "version": "2.7.15"
  },
  "notify_time": "5",
  "varInspector": {
   "cols": {
    "lenName": 16,
    "lenType": 16,
    "lenVar": 40
   },
   "kernels_config": {
    "python": {
     "delete_cmd_postfix": "",
     "delete_cmd_prefix": "del ",
     "library": "var_list.py",
     "varRefreshCmd": "print(var_dic_list())"
    },
    "r": {
     "delete_cmd_postfix": ") ",
     "delete_cmd_prefix": "rm(",
     "library": "var_list.r",
     "varRefreshCmd": "cat(var_dic_list()) "
    }
   },
   "types_to_exclude": [
    "module",
    "function",
    "builtin_function_or_method",
    "instance",
    "_Feature"
   ],
   "window_display": false
  }
 },
 "nbformat": 4,
 "nbformat_minor": 2
}
